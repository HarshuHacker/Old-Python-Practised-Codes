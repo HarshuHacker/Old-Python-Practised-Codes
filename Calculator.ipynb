{
 "cells": [
  {
   "cell_type": "code",
   "execution_count": 13,
   "source": [
    "abc=True\n",
    "while(abc):\n",
    "    inp=int(input())\n",
    "    if(inp==1):\n",
    "        a=int(input())\n",
    "        b=int(input())\n",
    "        print(a+b)\n",
    "    elif(inp==2):\n",
    "        a=int(input())\n",
    "        b=int(input())\n",
    "        print(a-b)\n",
    "    elif(inp==3):\n",
    "        a=int(input())\n",
    "        b=int(input())\n",
    "        print(a*b)\n",
    "    elif(inp==4):\n",
    "        a=int(input())\n",
    "        b=int(input())\n",
    "        print(a/b)\n",
    "    elif(inp==5):\n",
    "        a=int(input())\n",
    "        b=int(input())\n",
    "        print(a%b)\n",
    "    elif(inp==6):\n",
    "        abc=False\n",
    "    else:\n",
    "        print(\"Invalid Operation\")"
   ],
   "outputs": [
    {
     "output_type": "stream",
     "name": "stdout",
     "text": [
      "1\n",
      "2\n",
      "3\n",
      "5\n",
      "2\n",
      "2\n",
      "3\n",
      "-1\n",
      "3\n",
      "2\n",
      "3\n",
      "6\n",
      "4\n",
      "3\n",
      "6\n",
      "0.5\n",
      "5\n",
      "4\n",
      "3\n",
      "1\n",
      "7\n",
      "Invalid Operation\n",
      "6\n"
     ]
    }
   ],
   "metadata": {}
  },
  {
   "cell_type": "code",
   "execution_count": 1,
   "source": [
    "print(\"happy\")"
   ],
   "outputs": [
    {
     "output_type": "stream",
     "name": "stdout",
     "text": [
      "h\n"
     ]
    }
   ],
   "metadata": {}
  }
 ],
 "metadata": {
  "kernelspec": {
   "name": "python3",
   "display_name": "Python 3.9.6 64-bit"
  },
  "language_info": {
   "codemirror_mode": {
    "name": "ipython",
    "version": 3
   },
   "file_extension": ".py",
   "mimetype": "text/x-python",
   "name": "python",
   "nbconvert_exporter": "python",
   "pygments_lexer": "ipython3",
   "version": "3.9.6"
  },
  "interpreter": {
   "hash": "aee8b7b246df8f9039afb4144a1f6fd8d2ca17a180786b69acc140d282b71a49"
  }
 },
 "nbformat": 4,
 "nbformat_minor": 4
}