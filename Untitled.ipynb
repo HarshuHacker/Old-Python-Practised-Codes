{
 "cells": [
  {
   "cell_type": "code",
   "execution_count": 2,
   "source": [
    "s=\"abcd\"\n",
    "for i in range(len(s)):\n",
    "    print(s[:i+1])"
   ],
   "outputs": [
    {
     "output_type": "stream",
     "name": "stdout",
     "text": [
      "a\n",
      "ab\n",
      "abc\n",
      "abcd\n"
     ]
    }
   ],
   "metadata": {}
  },
  {
   "cell_type": "code",
   "execution_count": 9,
   "source": [
    "str=input()\n",
    "str2=\"\"\n",
    "for i in range(len(str)):\n",
    "    if(ord(str[i])>=97 and ord(str[i])<=122):\n",
    "        str2+=chr(ord(str[i])-32)\n",
    "    else:\n",
    "        str2=str2+str[i]\n",
    "print(str2)\n",
    "        "
   ],
   "outputs": [
    {
     "output_type": "stream",
     "name": "stdout",
     "text": [
      "Indrawati Business Services pvt Ltd\n",
      "INDRAWATI BUSINESS SERVICES PVT LTD\n"
     ]
    }
   ],
   "metadata": {}
  },
  {
   "cell_type": "code",
   "execution_count": 11,
   "source": [
    "A=[int(x) for x in input().split()]\n",
    "arr=[]\n",
    "i=0\n",
    "while i<len(A):\n",
    "    j=i+1\n",
    "    count=0\n",
    "    if(j<len(A)):\n",
    "        while(j<len(A) and A[i]==A[j]):\n",
    "            count+=1\n",
    "            j+=1\n",
    "    arr.append(A[i])\n",
    "    i+=count+1\n",
    "A=arr\n",
    "print(A)"
   ],
   "outputs": [
    {
     "output_type": "stream",
     "name": "stdout",
     "text": [
      "1 3 4 5 6 12 13 17 19 22 23 25 27 28 28 35 36 37 39 43 46 48 54 59 62 63 65 68 68 70 70 72 79 82 83 92 92 93 95 96 96 100\n",
      "[1, 3, 4, 5, 6, 12, 13, 17, 19, 22, 23, 25, 27, 28, 35, 36, 37, 39, 43, 46, 48, 54, 59, 62, 63, 65, 68, 70, 72, 79, 82, 83, 92, 93, 95, 96, 100]\n"
     ]
    }
   ],
   "metadata": {
    "scrolled": true
   }
  },
  {
   "cell_type": "code",
   "execution_count": 13,
   "source": [
    "# 98 78 10 12 59 37 45 18 1 56 37 14 3 32 85 10 69 89 29 93 44 16 26 13 50 75 79 21 20 33 55 17 63 64 80 21 52 24 90 52 80 26 18 34 57 2 95 25 42 23 17 85 39 94 50 40 21 28 12 40 61 67 9 23 30 88 95 34 64 85 85 95 62 54 28 19 55 22 95 49 97 64 33\n",
    "li=[int(x) for x in input().split()]\n",
    "for i in range(len(li)):\n",
    "    if(li[i]==34):\n",
    "        print(\"34\",i)\n",
    "    if(li[i]==56):\n",
    "        print(\"56\",i)"
   ],
   "outputs": [
    {
     "output_type": "stream",
     "name": "stdout",
     "text": [
      "98 78 10 12 59 37 45 18 1 56 37 14 3 32 85 10 69 89 29 93 44 16 26 13 50 75 79 21 20 33 55 17 63 64 80 21 52 24 90 52 80 26 18 34 57 2 95 25 42 23 17 85 39 94 50 40 21 28 12 40 61 67 9 23 30 88 95 34 64 85 85 95 62 54 28 19 55 22 95 49 97 64 33\n",
      "56 9\n",
      "34 43\n",
      "34 67\n"
     ]
    }
   ],
   "metadata": {}
  },
  {
   "cell_type": "code",
   "execution_count": 21,
   "source": [
    "arr1=[1,3,8,9]\n",
    "arr2=[8]\n",
    "n=4\n",
    "m=1\n",
    "for i in range(len(arr1)):\n",
    "    if(arr1[i]>arr2[0]):\n",
    "        temp=arr2[0]\n",
    "        if(len(arr2)==1):\n",
    "            arr2[0]=arr1[i]\n",
    "        else:\n",
    "            for j in range(1,len(arr2)):\n",
    "                if(arr2[j]<arr1[i]):\n",
    "                    arr2[j-1]=arr2[j]\n",
    "                    if(j==len(arr2)-1):\n",
    "                        arr2[len(arr2)-1]=arr1[i]\n",
    "                else:\n",
    "                    arr2[j-1]=arr1[i]\n",
    "                    break\n",
    "        arr1[i]=temp\n",
    "    print(arr1)\n",
    "    print(arr2)\n",
    "    print()"
   ],
   "outputs": [
    {
     "output_type": "stream",
     "name": "stdout",
     "text": [
      "[1, 3, 8, 9]\n",
      "[8]\n",
      "\n",
      "[1, 3, 8, 9]\n",
      "[8]\n",
      "\n",
      "[1, 3, 8, 9]\n",
      "[8]\n",
      "\n",
      "[1, 3, 8, 8]\n",
      "[9]\n",
      "\n"
     ]
    }
   ],
   "metadata": {}
  }
 ],
 "metadata": {
  "kernelspec": {
   "name": "python3",
   "display_name": "Python 3.9.6 64-bit"
  },
  "language_info": {
   "codemirror_mode": {
    "name": "ipython",
    "version": 3
   },
   "file_extension": ".py",
   "mimetype": "text/x-python",
   "name": "python",
   "nbconvert_exporter": "python",
   "pygments_lexer": "ipython3",
   "version": "3.9.6"
  },
  "interpreter": {
   "hash": "aee8b7b246df8f9039afb4144a1f6fd8d2ca17a180786b69acc140d282b71a49"
  }
 },
 "nbformat": 4,
 "nbformat_minor": 5
}