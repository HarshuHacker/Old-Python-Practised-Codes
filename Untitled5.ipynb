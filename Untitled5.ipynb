{
 "cells": [
  {
   "cell_type": "code",
   "execution_count": 8,
   "metadata": {},
   "outputs": [
    {
     "name": "stdout",
     "output_type": "stream",
     "text": [
      "lines: 4 words: 16\n"
     ]
    }
   ],
   "source": [
    "file = open(\"untitled.txt\", \"r\")\n",
    "number_of_lines = 0\n",
    "number_of_words = 0\n",
    "number_of_characters = 0\n",
    "for line in file:\n",
    "  line = line.strip(\"\\n\")\n",
    "  words = line.split()\n",
    "  number_of_lines += 1\n",
    "  number_of_words += len(words)\n",
    "file.close()\n",
    "print(\"lines:\", number_of_lines, \"words:\", number_of_words)"
   ]
  },
  {
   "cell_type": "code",
   "execution_count": 18,
   "metadata": {},
   "outputs": [
    {
     "name": "stdout",
     "output_type": "stream",
     "text": [
      "Please enter the length of the 1st stick : \n",
      "1\n",
      "Please enter the length of the 2nd stick : \n",
      "2\n",
      "Please enter the length of the 3rd stick : \n",
      "9\n",
      "No\n"
     ]
    }
   ],
   "source": [
    "def is_triangle(x, y, z):\n",
    "    if z > (x+y) or y > (x+z) or x > (y+z):\n",
    "        print('No')\n",
    "    else:\n",
    "        print('Yes')\n",
    "def triangle():\n",
    "    x = int(input('Please enter the length of the 1st stick : \\n'))\n",
    "    y = int(input('Please enter the length of the 2nd stick : \\n'))\n",
    "    z = int(input('Please enter the length of the 3rd stick : \\n'))\n",
    "    is_triangle(x, y, z)\n",
    "triangle()"
   ]
  },
  {
   "cell_type": "code",
   "execution_count": 44,
   "metadata": {},
   "outputs": [
    {
     "name": "stdout",
     "output_type": "stream",
     "text": [
      "[2, 6, 8, 5, 4, 3]\n",
      "0\n",
      "[2, 4, 8, 5, 6, 3]\n",
      "4\n",
      "[2, 3, 4, 5, 6, 8]\n",
      "2\n",
      "[2, 3, 4, 5, 6, 8]\n",
      "1\n",
      "[2, 3, 4, 5, 6, 8]\n",
      "3\n",
      "[2, 3, 4, 5, 6, 8]\n",
      "5\n",
      "2 3 4 5 6 8\n"
     ]
    }
   ],
   "source": [
    "def partition(arr,start,end):\n",
    "    count=0\n",
    "    pivot=arr[start]\n",
    "    for i in range(start,end):\n",
    "        if(arr[i]<pivot):\n",
    "            count+=1\n",
    "    ans=count+start\n",
    "    arr[count+start],arr[start]=arr[start],arr[count+start]\n",
    "    print(arr)\n",
    "    si=start\n",
    "    ei=end-1\n",
    "    while(count!=0):\n",
    "        if(arr[si]<pivot):\n",
    "            si+=1\n",
    "            count-=1\n",
    "        elif(arr[ei]>=pivot):\n",
    "            ei-=1\n",
    "        else:\n",
    "            arr[si],arr[ei]=arr[ei],arr[si]\n",
    "    print(ans)\n",
    "    return ans\n",
    "        \n",
    "def quickSort(arr, start, end):\n",
    "    # Please add your code here\n",
    "    if start>=end:\n",
    "        return\n",
    "    pivot=partition(arr,start,end)\n",
    "    quickSort(arr,start,pivot)\n",
    "    quickSort(arr,pivot+1,end)\n",
    "\n",
    "n=6\n",
    "arr=[2,6,8,5,4,3]\n",
    "quickSort(arr, 0, n)\n",
    "print(*arr)"
   ]
  },
  {
   "cell_type": "code",
   "execution_count": null,
   "metadata": {},
   "outputs": [],
   "source": []
  },
  {
   "cell_type": "code",
   "execution_count": null,
   "metadata": {},
   "outputs": [],
   "source": []
  }
 ],
 "metadata": {
  "kernelspec": {
   "display_name": "Python 3",
   "language": "python",
   "name": "python3"
  },
  "language_info": {
   "codemirror_mode": {
    "name": "ipython",
    "version": 3
   },
   "file_extension": ".py",
   "mimetype": "text/x-python",
   "name": "python",
   "nbconvert_exporter": "python",
   "pygments_lexer": "ipython3",
   "version": "3.8.8"
  }
 },
 "nbformat": 4,
 "nbformat_minor": 4
}
