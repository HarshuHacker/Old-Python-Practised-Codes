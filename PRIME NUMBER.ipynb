{
 "cells": [
  {
   "cell_type": "markdown",
   "metadata": {},
   "source": [
    "# PRIME NUMBER"
   ]
  },
  {
   "cell_type": "code",
   "execution_count": 17,
   "metadata": {
    "scrolled": true
   },
   "outputs": [
    {
     "name": "stdout",
     "output_type": "stream",
     "text": [
      "71\n",
      "Number Is Prime\n"
     ]
    }
   ],
   "source": [
    "n=int(input())\n",
    "count=2\n",
    "flag=False\n",
    "while(count<n):\n",
    "    if(n%count==0):\n",
    "        print(\"Number Is Not Prime\")\n",
    "        flag=True\n",
    "        count=n\n",
    "    else:\n",
    "        count=count+1\n",
    "if(flag==False):\n",
    "    print(\"Number Is Prime\")"
   ]
  }
 ],
 "metadata": {
  "kernelspec": {
   "display_name": "Python 3",
   "language": "python",
   "name": "python3"
  },
  "language_info": {
   "codemirror_mode": {
    "name": "ipython",
    "version": 3
   },
   "file_extension": ".py",
   "mimetype": "text/x-python",
   "name": "python",
   "nbconvert_exporter": "python",
   "pygments_lexer": "ipython3",
   "version": "3.8.5"
  }
 },
 "nbformat": 4,
 "nbformat_minor": 4
}
