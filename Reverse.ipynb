{
 "cells": [
  {
   "cell_type": "code",
   "execution_count": 5,
   "metadata": {},
   "outputs": [
    {
     "name": "stdout",
     "output_type": "stream",
     "text": [
      "9898988\n",
      "8898989\n"
     ]
    }
   ],
   "source": [
    "def reverse(n):\n",
    "#Implement Your Code Here\n",
    "    rev=0\n",
    "    while(n>0):\n",
    "        x=n%10\n",
    "        n=n//10\n",
    "        rev=rev*10+x\n",
    "    print(rev) \n",
    "\n",
    "n=int(input())\n",
    "reverse(n)"
   ]
  },
  {
   "cell_type": "code",
   "execution_count": 16,
   "metadata": {},
   "outputs": [
    {
     "name": "stdout",
     "output_type": "stream",
     "text": [
      "1\n",
      "WF FAERG GERAG\n",
      "WF FAERG\n",
      "OrderedDict([('W', 1), ('F', 2), ('A', 0), ('E', 0), ('R', 0), ('G', -1)])\n",
      "Wrong\n"
     ]
    }
   ],
   "source": [
    "from collections import OrderedDict\n",
    "def abc():\n",
    "    t=int(input())\n",
    "    a=[x for x in input().split()]\n",
    "    a1=a[0]\n",
    "    a2=a[1]\n",
    "    a3=a[2]\n",
    "    print(a1,a2)\n",
    "    dic = OrderedDict()\n",
    "    for ele in a1:\n",
    "        dic[ele]=dic.get(ele,0)+1\n",
    "    for ele in a2:\n",
    "        dic[ele]=dic.get(ele,0)+1\n",
    "    for ele in a3:\n",
    "        dic[ele]=dic.get(ele,0)-1\n",
    "    print(dic)\n",
    "    for ele in dic:\n",
    "        if(dic[ele]!=0):\n",
    "            return \"Wrong\"\n",
    "    return \"Right\"\n",
    "\n",
    "print(abc())"
   ]
  },
  {
   "cell_type": "code",
   "execution_count": 22,
   "metadata": {},
   "outputs": [
    {
     "name": "stdout",
     "output_type": "stream",
     "text": [
      "3 3 1 0 1 1 1 1 1 1 1\n",
      "[1, 0, 1, 1, 1, 1, 1, 1, 1]\n",
      "[1, 0, 1]\n",
      "[1, 1, 1]\n",
      "[1, 1, 1]\n",
      "[[1, 0, 1], [1, 1, 1], [1, 1, 1]]\n"
     ]
    }
   ],
   "source": [
    "li=[int(x) for x in input().split()]\n",
    "row=li[0]\n",
    "col=li[1]\n",
    "li2=[]\n",
    "for i in range(2,len(li)):\n",
    "    li2.append(li[i])\n",
    "print(li2)\n",
    "mat=[]\n",
    "for i in range(row):\n",
    "    r=[]\n",
    "    for j in range(col):\n",
    "        r.append(li2[j+(i*col)])\n",
    "    mat.append(r)\n",
    "for i in mat:\n",
    "    print(i)\n",
    "newmat=[[-1 for i in range(col)]for j in range(row)]\n",
    "for i in range(row):\n",
    "    for j in range(col):\n",
    "        newmat[i][j]=mat[i][j]\n",
    "print(newmat)"
   ]
  },
  {
   "cell_type": "code",
   "execution_count": 28,
   "metadata": {},
   "outputs": [
    {
     "name": "stdout",
     "output_type": "stream",
     "text": [
      "x\n",
      "x\n",
      "x\n",
      "x\n",
      "x\n"
     ]
    }
   ],
   "source": [
    "n=5\n",
    "an_v=1\n",
    "for i in range(1,n+1,an_v):\n",
    "    an_v+=1\n",
    "    print(\"x\")"
   ]
  },
  {
   "cell_type": "code",
   "execution_count": 32,
   "metadata": {},
   "outputs": [
    {
     "name": "stdout",
     "output_type": "stream",
     "text": [
      "[2, 4, 4, 1, 8]\n",
      "[4, 4, 1, 8]\n",
      "[4, 1, 8]\n",
      "[1, 8]\n",
      "[8]\n",
      "[8]\n",
      "[1, 8]\n",
      "[8]\n",
      "[8]\n",
      "[4, 1, 8]\n",
      "[1, 8]\n",
      "[8]\n",
      "[8]\n",
      "[1, 8]\n",
      "[8]\n",
      "[8]\n",
      "[4, 4, 1, 8]\n",
      "[4, 1, 8]\n",
      "[1, 8]\n",
      "[8]\n",
      "[8]\n",
      "[1, 8]\n",
      "[8]\n",
      "[8]\n",
      "[4, 1, 8]\n",
      "[1, 8]\n",
      "[8]\n",
      "[8]\n",
      "[1, 8]\n",
      "[8]\n",
      "[8]\n",
      "True\n"
     ]
    }
   ],
   "source": [
    "def fun(li,k):\n",
    "    if(len(li)==0 and k==0):\n",
    "        return True\n",
    "    elif(len(li)==0):\n",
    "        return False\n",
    "    print(li)\n",
    "    ans1=fun(li[1:],k)\n",
    "    ans2=fun(li[1:],k-li[0])\n",
    "    if(ans1==True or ans2==True):\n",
    "        return True\n",
    "    else:\n",
    "        return False\n",
    "    \n",
    "n=5\n",
    "li=[2,4,4,1,8]\n",
    "k=16\n",
    "print(fun(li,k))"
   ]
  },
  {
   "cell_type": "code",
   "execution_count": null,
   "metadata": {},
   "outputs": [],
   "source": [
    "import numpy as np\n",
    "import math\n",
    "def findMaxSquareWithAllZeros(arr_temp):\n",
    "    \n",
    "    row_length = len(arr_temp)\n",
    "    col_length = len(arr_temp[0])\n",
    "    \n",
    "    # Inverting matrix values, that is replacing 0s with 1 and 1s with 0\n",
    "    for i in range(0, row_len):\n",
    "        for j in range(0, col_len):\n",
    "            arr[i][j] = 1 - arr_temp[i][j]\n",
    "    \n",
    "    temp_val = [[0 for k in range(col_length)] for l in range(row_length)]\n",
    "    \n",
    "    for i in range(0, row_length):\n",
    "        for j in range(0, col_length):\n",
    "            # Update data -- set 0 value to 1\n",
    "            if (arr[i][j] == 1):\n",
    "                if i == 0 or j == 0:\n",
    "                    temp_val[i][j] = min(arr[i][j], 1)\n",
    "                else:\n",
    "                    temp_val[i][j] = min(temp_val[i][j-1], temp_val[i-1][j],temp_val[i-1][j-1]) + 1\n",
    "            else:\n",
    "                temp_val[i][j] = 0\n",
    "    \n",
    "    # Calculate matrix max values -- max NxM -- that is maximum size of matrix\n",
    "    max_temp_val = temp_val[0][0]\n",
    "    max_row = 0\n",
    "    max_col = 0\n",
    "    \n",
    "    for i in range(row_length):\n",
    "        for j in range(col_length):\n",
    "            if max_temp_val < temp_val[i][j]:\n",
    "                max_temp_val = temp_val[i][j]\n",
    "                max_row = i\n",
    "                max_col = j\n",
    "    # Calculating size of matrix\n",
    "    size = 0\n",
    "    for i in range(max_row, max_row - max_temp_val, - 1):\n",
    "        for j in range(max_col, max_col - max_temp_val, - 1):\n",
    "            size = size + 1\n",
    "    \n",
    "    print(int(math.sqrt(size)))\n",
    "    \n",
    "n,m = input().split()\n",
    "n = int(n)\n",
    "m = int(m)\n",
    "arr=[]\n",
    "for i in range(n):\n",
    "    li=[int(x) for x in input().split()]\n",
    "    arr.append(li)\n",
    "findMaxSquareWithAllZeros(arr)"
   ]
  },
  {
   "cell_type": "code",
   "execution_count": null,
   "metadata": {},
   "outputs": [],
   "source": []
  }
 ],
 "metadata": {
  "kernelspec": {
   "display_name": "Python 3",
   "language": "python",
   "name": "python3"
  }
 },
 "nbformat": 4,
 "nbformat_minor": 4
}
