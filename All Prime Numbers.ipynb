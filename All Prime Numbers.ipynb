{
 "cells": [
  {
   "cell_type": "markdown",
   "metadata": {},
   "source": [
    "# N Prime Numbers"
   ]
  },
  {
   "cell_type": "code",
   "execution_count": 1,
   "metadata": {},
   "outputs": [
    {
     "name": "stdout",
     "output_type": "stream",
     "text": [
      "5\n",
      "2 Number Is Prime :)\n",
      "3 Number Is Prime :)\n",
      "5 Number Is Prime :)\n"
     ]
    }
   ],
   "source": [
    "n=int(input())\n",
    "curr=2\n",
    "while(curr<=n):\n",
    "    count=2\n",
    "    flag=False\n",
    "    while(count<curr):\n",
    "        if(curr%count==0):\n",
    "            flag=True\n",
    "            count=curr\n",
    "        else:\n",
    "            count=count+1\n",
    "    if(flag==False):\n",
    "        print(curr,\"Number Is Prime :)\")\n",
    "    curr=curr+1\n",
    "    "
   ]
  },
  {
   "cell_type": "code",
   "execution_count": null,
   "metadata": {},
   "outputs": [],
   "source": []
  },
  {
   "cell_type": "code",
   "execution_count": null,
   "metadata": {},
   "outputs": [],
   "source": []
  }
 ],
 "metadata": {
  "kernelspec": {
   "display_name": "Python 3",
   "language": "python",
   "name": "python3"
  },
  "language_info": {
   "codemirror_mode": {
    "name": "ipython",
    "version": 3
   },
   "file_extension": ".py",
   "mimetype": "text/x-python",
   "name": "python",
   "nbconvert_exporter": "python",
   "pygments_lexer": "ipython3",
   "version": "3.8.5"
  }
 },
 "nbformat": 4,
 "nbformat_minor": 4
}
