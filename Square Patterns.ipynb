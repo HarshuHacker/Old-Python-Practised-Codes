{
 "cells": [
  {
   "cell_type": "markdown",
   "metadata": {},
   "source": [
    "# PATTERNS"
   ]
  },
  {
   "cell_type": "raw",
   "metadata": {},
   "source": [
    "1111\n",
    "2222\n",
    "3333\n",
    "4444"
   ]
  },
  {
   "cell_type": "code",
   "execution_count": 4,
   "metadata": {},
   "outputs": [
    {
     "name": "stdout",
     "output_type": "stream",
     "text": [
      "4\n",
      "1111\n",
      "2222\n",
      "3333\n",
      "4444\n"
     ]
    }
   ],
   "source": [
    "n=int(input())\n",
    "i=1\n",
    "j=1\n",
    "while(i<=n):\n",
    "    while(j<=n):\n",
    "        print(i,end='')\n",
    "        j=j+1\n",
    "    print()\n",
    "    j=1\n",
    "    i=i+1"
   ]
  },
  {
   "cell_type": "code",
   "execution_count": null,
   "metadata": {},
   "outputs": [],
   "source": [
    "..................................................................................................."
   ]
  },
  {
   "cell_type": "markdown",
   "metadata": {},
   "source": [
    "1234\n",
    "1234\n",
    "1234\n",
    "1234"
   ]
  },
  {
   "cell_type": "code",
   "execution_count": 5,
   "metadata": {
    "scrolled": true
   },
   "outputs": [
    {
     "name": "stdout",
     "output_type": "stream",
     "text": [
      "4\n",
      "1234\n",
      "1234\n",
      "1234\n",
      "1234\n"
     ]
    }
   ],
   "source": [
    "n=int(input())\n",
    "i=1\n",
    "j=1\n",
    "while(i<=n):\n",
    "    while(j<=n):\n",
    "        print(j,end='')\n",
    "        j=j+1\n",
    "    print()\n",
    "    j=1\n",
    "    i=i+1"
   ]
  },
  {
   "cell_type": "code",
   "execution_count": null,
   "metadata": {},
   "outputs": [],
   "source": [
    "..................................................................................................."
   ]
  },
  {
   "cell_type": "markdown",
   "metadata": {},
   "source": [
    "4321\n",
    "4321\n",
    "4321\n",
    "4321"
   ]
  },
  {
   "cell_type": "code",
   "execution_count": 7,
   "metadata": {},
   "outputs": [
    {
     "name": "stdout",
     "output_type": "stream",
     "text": [
      "10\n",
      "10987654321\n",
      "10987654321\n",
      "10987654321\n",
      "10987654321\n",
      "10987654321\n",
      "10987654321\n",
      "10987654321\n",
      "10987654321\n",
      "10987654321\n",
      "10987654321\n"
     ]
    }
   ],
   "source": [
    "n=int(input())\n",
    "i=1\n",
    "j=1\n",
    "while(i<=n):\n",
    "    while(j<=n):\n",
    "        print(n-j+1,end='')\n",
    "        j=j+1\n",
    "    print()\n",
    "    j=1\n",
    "    i=i+1"
   ]
  },
  {
   "cell_type": "code",
   "execution_count": null,
   "metadata": {},
   "outputs": [],
   "source": []
  }
 ],
 "metadata": {
  "kernelspec": {
   "display_name": "Python 3",
   "language": "python",
   "name": "python3"
  },
  "language_info": {
   "codemirror_mode": {
    "name": "ipython",
    "version": 3
   },
   "file_extension": ".py",
   "mimetype": "text/x-python",
   "name": "python",
   "nbconvert_exporter": "python",
   "pygments_lexer": "ipython3",
   "version": "3.8.5"
  }
 },
 "nbformat": 4,
 "nbformat_minor": 4
}
