{
 "cells": [
  {
   "cell_type": "code",
   "execution_count": null,
   "source": [
    "# Read input as sepcified in the question\n",
    "# Print output as specified in the question\n",
    "#print(\"Enter The Marks Of Subject 1 : \")\n",
    "a=int(input())\n",
    "#print(\"Enter The Marks Of Subject 2 : \")\n",
    "b=int(input())\n",
    "#print(\"Enter The Marks Of Subject 3 : \")\n",
    "c=int(input())\n",
    "d=(a+b+c)/3;\n",
    "print(d);"
   ],
   "outputs": [],
   "metadata": {}
  },
  {
   "cell_type": "code",
   "execution_count": null,
   "source": [
    "# Write your code here\n",
    "x=int(input())\n",
    "n=int(input())\n",
    "ans=x**n\n",
    "print(ans)"
   ],
   "outputs": [],
   "metadata": {}
  },
  {
   "cell_type": "code",
   "execution_count": null,
   "source": [
    "# Write your code here\n",
    "a=int(input())\n",
    "b=int(input())\n",
    "c=int(input())\n",
    "print(b-a)"
   ],
   "outputs": [],
   "metadata": {}
  },
  {
   "cell_type": "code",
   "execution_count": null,
   "source": [
    "# Write your code here\n",
    "a=int(input())\n",
    "b=int(input())\n",
    "c=int(input())\n",
    "d=int(input())\n",
    "len=d-b\n",
    "bre=c-a\n",
    "area=len*bre\n",
    "print(area)"
   ],
   "outputs": [],
   "metadata": {}
  },
  {
   "cell_type": "code",
   "execution_count": null,
   "source": [],
   "outputs": [],
   "metadata": {}
  },
  {
   "cell_type": "code",
   "execution_count": null,
   "source": [
    "# Read input as sepcified in the question\n",
    "# Print output as specified in the question\n",
    "a=int(input())\n",
    "if(a>0):\n",
    "\tprint(\"Positive\")\n",
    "elif(a<0):\n",
    "\tprint(\"Negative\")\n",
    "else:\n",
    "\tprint(\"Zero\")"
   ],
   "outputs": [],
   "metadata": {}
  },
  {
   "cell_type": "code",
   "execution_count": null,
   "source": [
    "# Read input as sepcified in the question\n",
    "# Print output as specified in the question\n",
    "a=int(input())\n",
    "count=1\n",
    "sum=0\n",
    "while count<=a:\n",
    "    sum=sum+count\n",
    "    count=count+1\n",
    "print(sum)"
   ],
   "outputs": [],
   "metadata": {}
  },
  {
   "cell_type": "code",
   "execution_count": null,
   "source": [
    "## Read input as specified in the question.\n",
    "## Print output as specified in the question.\n",
    "n=int(input())\n",
    "count=1\n",
    "sum=0\n",
    "while count<=n:\n",
    "\tif count%2==0:\n",
    "\t\tsum=sum+count\n",
    "\tcount=count+1\n",
    "print(sum)"
   ],
   "outputs": [],
   "metadata": {}
  },
  {
   "cell_type": "code",
   "execution_count": null,
   "source": [
    "# Read input as sepcified in the question\n",
    "# Print output as specified in the question\n",
    "\n",
    "## Note : For printing multiple values in one line, put them inside print separated by space.\n",
    "## You can follow this syntax for printing values of two variables val1 and val2 separaetd by space -\n",
    "##      print(val1, \" \", val2)\n",
    "a=int(input())\n",
    "b=int(input())\n",
    "c=int(input())\n",
    "while(a<=b):\n",
    "    cel=int((a-32)*5/9)\n",
    "    print(a,\"\\t\",cel)\n",
    "    a=a+c"
   ],
   "outputs": [],
   "metadata": {}
  },
  {
   "cell_type": "code",
   "execution_count": null,
   "source": [
    "abc=True\n",
    "while(abc):\n",
    "    inp=int(input())\n",
    "    if(inp==1):\n",
    "        a=int(input())\n",
    "        b=int(input())\n",
    "        print(a+b)\n",
    "    elif(inp==2):\n",
    "        a=int(input())\n",
    "        b=int(input())\n",
    "        print(a-b)\n",
    "    elif(inp==3):\n",
    "        a=int(input())\n",
    "        b=int(input())\n",
    "        print(a*b)\n",
    "    elif(inp==4):\n",
    "        a=int(input())\n",
    "        b=int(input())\n",
    "        print(a//b)\n",
    "    elif(inp==5):\n",
    "        a=int(input())\n",
    "        b=int(input())\n",
    "        print(a%b)\n",
    "    elif(inp==6):\n",
    "        abc=False\n",
    "    else:\n",
    "        print(\"Invalid Operation\")"
   ],
   "outputs": [],
   "metadata": {}
  },
  {
   "cell_type": "code",
   "execution_count": null,
   "source": [
    "\n",
    "def reverse(n):\n",
    "#Implement Your Code Her\n",
    "    rev=0\n",
    "    while(n>0):\n",
    "        x=n % 10\n",
    "        n=n//10\n",
    "        rev=rev*10+x\n",
    "    \n",
    "    return rev\n",
    "\t\n",
    "\n",
    "n=int(input())\n",
    "result = reverse(n)\n",
    "print(result)"
   ],
   "outputs": [],
   "metadata": {}
  },
  {
   "cell_type": "code",
   "execution_count": null,
   "source": [
    "def checkPalindrome(num):\n",
    "    num2=num\n",
    "    rev=0\n",
    "    while(num2>0):\n",
    "        x=num2%10\n",
    "        num2=num2//10\n",
    "        rev=rev*10+x\n",
    "    if(rev==num):\n",
    "    \treturn 1\n",
    "    else:\n",
    "    \treturn 0\n",
    "\n",
    "num = int(input())\n",
    "isPalindrome = checkPalindrome(num)\n",
    "if(isPalindrome):\n",
    "\tprint('true')\n",
    "else:\n",
    "\tprint('false')"
   ],
   "outputs": [],
   "metadata": {}
  },
  {
   "cell_type": "code",
   "execution_count": null,
   "source": [
    "## Note : For printing multiple values in one line, put them inside print separated by space.\n",
    "## You can follow this syntax for printing values of two variables val1 and val2 separaetd by space -\n",
    "## print(val1, \" \", val2)\n",
    "num=int(input())\n",
    "even=0\n",
    "odd=0\n",
    "while(num>0):\n",
    "    x=num%10\n",
    "    num=num//10\n",
    "    if(x%2==0):\n",
    "        even=even+x\n",
    "    else:\n",
    "        odd=odd+x\n",
    "print(even,odd)"
   ],
   "outputs": [],
   "metadata": {}
  },
  {
   "cell_type": "code",
   "execution_count": null,
   "source": [
    "## Read input as specified in the question.\n",
    "## Print output as specified in the question.\n",
    "n=int(input())\n",
    "t1=0\n",
    "t2=1\n",
    "count=2\n",
    "while(count<=n):\n",
    "    next=t1+t2\n",
    "    t1=t2\n",
    "    t2=next\n",
    "    count=count+1\n",
    "print(next)"
   ],
   "outputs": [],
   "metadata": {}
  },
  {
   "cell_type": "code",
   "execution_count": null,
   "source": [],
   "outputs": [],
   "metadata": {}
  },
  {
   "cell_type": "code",
   "execution_count": null,
   "source": [
    "## Read input as specified in the question\n",
    "## Print the required output in given format\n",
    "num=int(input())\n",
    "i=0\n",
    "j=0\n",
    "while(i<num):\n",
    "    while(j<num):\n",
    "        print(num,end='')\n",
    "        j=j+1\n",
    "    j=0\n",
    "    i=i+1\n",
    "    print()"
   ],
   "outputs": [],
   "metadata": {}
  },
  {
   "cell_type": "code",
   "execution_count": null,
   "source": [
    "## Read input as specified in the question\n",
    "## Print the required output in given format\n",
    "n=int(input())\n",
    "i=1\n",
    "while(i<=n):\n",
    "    j=1\n",
    "    while(j<=i):\n",
    "        print(\"*\",end='')\n",
    "        j=j+1\n",
    "    print()\n",
    "    i=i+1"
   ],
   "outputs": [],
   "metadata": {}
  },
  {
   "cell_type": "code",
   "execution_count": null,
   "source": [
    "## Read input as specified in the question\n",
    "## Print the required output in given format\n",
    "n=int(input())\n",
    "i=1\n",
    "while(i<=n):\n",
    "    j=1\n",
    "    while(j<=i):\n",
    "        print(i,end='')\n",
    "        j=j+1\n",
    "    i=i+1\n",
    "    print()"
   ],
   "outputs": [],
   "metadata": {}
  },
  {
   "cell_type": "code",
   "execution_count": null,
   "source": [
    "## Read input as specified in the question\n",
    "## Print the required output in given format\n",
    "n=int(input())\n",
    "i=1\n",
    "while(i<=n):\n",
    "    j=i\n",
    "    while(j>=1):\n",
    "        print(j,end='')\n",
    "        j=j-1\n",
    "    print()\n",
    "    i=i+1"
   ],
   "outputs": [],
   "metadata": {}
  },
  {
   "cell_type": "code",
   "execution_count": null,
   "source": [
    "## Read input as specified in the question\n",
    "## Print the required output in given format\n",
    "n=int(input())\n",
    "i=ord('A')\n",
    "while(i<ord('A')+n):\n",
    "    j=ord('A')\n",
    "    k=i\n",
    "    while(j<=i):\n",
    "        print(chr(k),end='')\n",
    "        j=j+1\n",
    "        k=k+1\n",
    "    i=i+1\n",
    "    print()"
   ],
   "outputs": [],
   "metadata": {}
  },
  {
   "cell_type": "code",
   "execution_count": null,
   "source": [
    "## Read input as specified in the question.\n",
    "## Print output as specified in the question.\n",
    "n=int(input())\n",
    "i=ord('A')\n",
    "while(i<ord('A')+n):\n",
    "    j=ord('A')\n",
    "    k=2*ord('A')+n-i-1\n",
    "    while(j<=i):\n",
    "        print(chr(k),end='')\n",
    "        j=j+1\n",
    "        k=k+1\n",
    "    i=i+1\n",
    "    print()"
   ],
   "outputs": [],
   "metadata": {}
  },
  {
   "cell_type": "code",
   "execution_count": null,
   "source": [
    "## Read input as specified in the question.\n",
    "## Print output as specified in the question.\n",
    "n=int(input())\n",
    "i=1\n",
    "while(i<=n):\n",
    "    j=1\n",
    "    while(j<=i):\n",
    "        print(\"1\",end='')\n",
    "        j=j+1\n",
    "    i=i+1\n",
    "    print()"
   ],
   "outputs": [],
   "metadata": {}
  },
  {
   "cell_type": "code",
   "execution_count": null,
   "source": [
    "## Read input as specified in the question.\n",
    "## Print output as specified in the question.\n",
    "n=int(input())\n",
    "i=1\n",
    "while(i<=n):\n",
    "    if(i==1):\n",
    "        i=i+1\n",
    "        print(\"1\")\n",
    "    elif(i==2):\n",
    "        i=i+1\n",
    "        print(\"11\")\n",
    "    else:\n",
    "        while(i<=n):\n",
    "            print(i-1,end='')\n",
    "            count=1\n",
    "            while(count<=i-2):\n",
    "                print(\"0\",end='')\n",
    "                count=count+1\n",
    "            print(i-1)\n",
    "            i=i+1"
   ],
   "outputs": [],
   "metadata": {}
  },
  {
   "cell_type": "code",
   "execution_count": null,
   "source": [
    "## Read input as specified in the question.\n",
    "## Print output as specified in the question.\n",
    "n=int(input())\n",
    "i=1\n",
    "while(i<=n):\n",
    "    if(i==1):\n",
    "        i=i+1\n",
    "        print(\"1\")\n",
    "    elif(i==2):\n",
    "        i=i+1\n",
    "        print(\"11\")\n",
    "    else:\n",
    "        while(i<=n):\n",
    "            print(1,end='')\n",
    "            count=1\n",
    "            while(count<=i-2):\n",
    "                print(\"2\",end='')\n",
    "                count=count+1\n",
    "            print(1)\n",
    "            i=i+1"
   ],
   "outputs": [],
   "metadata": {}
  },
  {
   "cell_type": "code",
   "execution_count": null,
   "source": [
    "## Read input as specified in the question.\n",
    "## Print output as specified in the question.\n",
    "n=int(input())\n",
    "i=1\n",
    "while(i<=n):\n",
    "    j=n-i+1\n",
    "    k=1\n",
    "    while(j>=1):\n",
    "        print(k,end='')\n",
    "        k=k+1\n",
    "        j=j-1\n",
    "    i=i+1\n",
    "    print()"
   ],
   "outputs": [],
   "metadata": {}
  },
  {
   "cell_type": "code",
   "execution_count": null,
   "source": [
    "## Read input as specified in the question.\n",
    "## Print output as specified in the question.\n",
    "n=int(input())\n",
    "i=ord('A')\n",
    "while(i<ord('A')+n):\n",
    "    j=ord('A')\n",
    "    while(j<=i):\n",
    "        print(chr(i),end='')\n",
    "        j=j+1\n",
    "    i=i+1\n",
    "    print()"
   ],
   "outputs": [],
   "metadata": {}
  },
  {
   "cell_type": "code",
   "execution_count": 3,
   "source": [
    "i=1\n",
    "while i<5:\n",
    "    if i == 6:\n",
    "        break\n",
    "    print(i,end=\" \")\n",
    "    i = i + 1\n",
    "else:\n",
    "    print('Else Is also printed')"
   ],
   "outputs": [
    {
     "output_type": "stream",
     "name": "stdout",
     "text": [
      "1 2 3 4 Else also printed\n"
     ]
    }
   ],
   "metadata": {}
  },
  {
   "cell_type": "code",
   "execution_count": 1,
   "source": [
    "if True or True:\n",
    "    if False and True or False:\n",
    "        print('A')\n",
    "    elif False and False or True and True:\n",
    "       print('B')\n",
    "    else:\n",
    "      print('C')\n",
    "else:\n",
    "     print('D')"
   ],
   "outputs": [
    {
     "output_type": "stream",
     "name": "stdout",
     "text": [
      "B\n"
     ]
    }
   ],
   "metadata": {}
  },
  {
   "cell_type": "code",
   "execution_count": 13,
   "source": [
    "class ZeroDenominator(Exception):\n",
    "    pass\n",
    "try:\n",
    "    a = 10\n",
    "    b = 0\n",
    "    if(b==0):\n",
    "        raise ZeroDenominator() \n",
    "    c = a/b\n",
    "except ZeroDivisionError:\n",
    "    print('Zero Division Error occured')"
   ],
   "outputs": [],
   "metadata": {}
  }
 ],
 "metadata": {
  "kernelspec": {
   "name": "python3",
   "display_name": "Python 3.9.6 64-bit"
  },
  "language_info": {
   "codemirror_mode": {
    "name": "ipython",
    "version": 3
   },
   "file_extension": ".py",
   "mimetype": "text/x-python",
   "name": "python",
   "nbconvert_exporter": "python",
   "pygments_lexer": "ipython3",
   "version": "3.9.6"
  },
  "interpreter": {
   "hash": "aee8b7b246df8f9039afb4144a1f6fd8d2ca17a180786b69acc140d282b71a49"
  }
 },
 "nbformat": 4,
 "nbformat_minor": 4
}