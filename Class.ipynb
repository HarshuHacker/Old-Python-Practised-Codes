{
 "cells": [
  {
   "cell_type": "markdown",
   "metadata": {},
   "source": [
    "# Area Of Triangle"
   ]
  },
  {
   "cell_type": "code",
   "execution_count": 1,
   "metadata": {},
   "outputs": [
    {
     "name": "stdout",
     "output_type": "stream",
     "text": [
      "17.05\n"
     ]
    }
   ],
   "source": [
    "b=5.5\n",
    "h=6.2\n",
    "area=0.5*b*h\n",
    "print(area)"
   ]
  },
  {
   "cell_type": "markdown",
   "metadata": {},
   "source": [
    "# Square Root Of A Number"
   ]
  },
  {
   "cell_type": "code",
   "execution_count": 11,
   "metadata": {},
   "outputs": [
    {
     "name": "stdout",
     "output_type": "stream",
     "text": [
      "3.1622776601683795\n"
     ]
    }
   ],
   "source": [
    "x=100\n",
    "print(math.sqrt(x))"
   ]
  },
  {
   "cell_type": "markdown",
   "metadata": {},
   "source": [
    "# Quadratic"
   ]
  },
  {
   "cell_type": "code",
   "execution_count": 30,
   "metadata": {},
   "outputs": [
    {
     "name": "stdout",
     "output_type": "stream",
     "text": [
      "Root Of The Quadratic Equation Is :  0.5324555320336759   0.5324555320336759\n"
     ]
    }
   ],
   "source": [
    "a=10\n",
    "b=2\n",
    "c=6\n",
    "dis=cmath.sqrt((b*b)-(4*a*c))\n",
    "if(d>0):\n",
    "    root1=(-b+d)/(2*a)\n",
    "    root2=(-b+d)/(2*a)\n",
    "    print(\"Root Of The Quadratic Equation Is : \",root1,\" \",root2)\n",
    "elif(d==0):\n",
    "    root=(-b+d)/(2*a)\n",
    "    print(\"Root Of The Quadratic Equation Is : \",root)\n",
    "else:\n",
    "    print(\"Imaginary Root\")"
   ]
  },
  {
   "cell_type": "markdown",
   "metadata": {},
   "source": [
    "# Input From User"
   ]
  },
  {
   "cell_type": "code",
   "execution_count": 32,
   "metadata": {},
   "outputs": [
    {
     "name": "stdout",
     "output_type": "stream",
     "text": [
      "Enter A Number3\n",
      "Enter A Number5\n",
      "8\n"
     ]
    }
   ],
   "source": [
    "a=int(input('Enter A Number'))\n",
    "b=int(input('Enter A Number'))\n",
    "print(a+b)"
   ]
  },
  {
   "cell_type": "markdown",
   "metadata": {},
   "source": [
    "# Another Way Of Printing"
   ]
  },
  {
   "cell_type": "code",
   "execution_count": 39,
   "metadata": {},
   "outputs": [
    {
     "name": "stdout",
     "output_type": "stream",
     "text": [
      "The Sum Of 10 And 20 Is : 30 \n"
     ]
    }
   ],
   "source": [
    "num1=10\n",
    "num2=20\n",
    "sum=num1+num2\n",
    "print(\"The Sum Of {0} And {1} Is : {2} \".format(num1,num2,sum))"
   ]
  },
  {
   "cell_type": "markdown",
   "metadata": {},
   "source": [
    "## Write a python program to display your name, UID and section. Display the type of variables used for data collection. Attach output screenshots."
   ]
  },
  {
   "cell_type": "code",
   "execution_count": 3,
   "metadata": {},
   "outputs": [
    {
     "name": "stdout",
     "output_type": "stream",
     "text": [
      "Enter your name: Harsh Prasad\n",
      "Enter your UID: 24\n",
      "Enter your section: 3\n",
      "Name  : Harsh Prasad (Type of variable used:  <class 'str'> )\n",
      "UID   : 24 (Type of variable used:  <class 'str'> )\n",
      "Section : 3 (Type of variable used:  <class 'int'> )\n"
     ]
    }
   ],
   "source": [
    "name = input(\"Enter your name: \") \n",
    "uid = input(\"Enter your UID: \")\n",
    "section = input(\"Enter your section: \")\n",
    "print(\"Name  :\", name, \"(Type of variable used: \", type(name), \")\")\n",
    "print(\"UID   :\", uid, \"(Type of variable used: \", type(uid), \")\")\n",
    "print(\"Section :\", section, \"(Type of variable used: \", type(section), \")\")"
   ]
  },
  {
   "cell_type": "markdown",
   "metadata": {},
   "source": [
    "## Write a program to swap two numbers without using temporary/third Variable."
   ]
  },
  {
   "cell_type": "code",
   "execution_count": 3,
   "metadata": {},
   "outputs": [
    {
     "name": "stdout",
     "output_type": "stream",
     "text": [
      "After Swapping: x = 5  y = 10\n"
     ]
    }
   ],
   "source": [
    "x = 10\n",
    "y = 5\n",
    "x = x + y\n",
    "y = x - y\n",
    "x = x - y\n",
    "print(\"After Swapping: x =\", x, \" y =\", y)"
   ]
  },
  {
   "cell_type": "code",
   "execution_count": 4,
   "metadata": {},
   "outputs": [
    {
     "name": "stdout",
     "output_type": "stream",
     "text": [
      "<class 'int'>\n",
      "3\n",
      "[3, 4, 5]\n",
      "[5, 6, 7, 8, 9]\n",
      "helloworld\n"
     ]
    }
   ],
   "source": [
    "a1=2;b1=3\n",
    "print(type(3+5))\n",
    "a=[1,2,3,4,5,6,7,8,9]\n",
    "print(a[2])\n",
    "print(a[2:5])\n",
    "print(a[4:])"
   ]
  },
  {
   "cell_type": "markdown",
   "metadata": {},
   "source": [
    "## Dictionary "
   ]
  },
  {
   "cell_type": "code",
   "execution_count": 10,
   "metadata": {},
   "outputs": [
    {
     "name": "stdout",
     "output_type": "stream",
     "text": [
      "Harshu Ayush\n",
      "dict_keys([10, 2, 3])\n",
      "dict_values(['Harshu', 'Ayush', 37])\n",
      "<class 'int'>\n"
     ]
    }
   ],
   "source": [
    "d={10:'Harsh',2:'Ayush',3:37,10:'Harshu'}\n",
    "print(d[10],d[2])\n",
    "print(d.keys())\n",
    "print(d.values())\n",
    "print(type(d[3]))"
   ]
  },
  {
   "cell_type": "markdown",
   "metadata": {},
   "source": [
    "## Transpose Of A Matrix"
   ]
  },
  {
   "cell_type": "code",
   "execution_count": 6,
   "metadata": {},
   "outputs": [
    {
     "name": "stdout",
     "output_type": "stream",
     "text": [
      "[1, 3, 5]\n",
      "[2, 4, 6]\n"
     ]
    }
   ],
   "source": [
    "arr = [[1,2],[3 ,4],[5 ,6]]\n",
    "transpose = [[0,0,0],[0,0,0]]\n",
    "for i in range(len(arr)):\n",
    "   for j in range(len(arr[0])):\n",
    "       transpose[j][i] = arr[i][j]\n",
    "for r in transpose:\n",
    "   print(r)"
   ]
  },
  {
   "cell_type": "markdown",
   "metadata": {},
   "source": [
    "## Sort Alphabetically "
   ]
  },
  {
   "cell_type": "code",
   "execution_count": 7,
   "metadata": {},
   "outputs": [
    {
     "name": "stdout",
     "output_type": "stream",
     "text": [
      "Enter The String : Harsh Prasad\n",
      "12\n",
      "Before Sorting : H ,a ,r ,s ,h ,  ,P ,r ,a ,s ,a ,d ,\n",
      "After Sorting :  [' ', 'H', 'P', 'a', 'a', 'a', 'd', 'h', 'r', 'r', 's', 's']\n"
     ]
    }
   ],
   "source": [
    "user=input('Enter The String : ')\n",
    "result=sorted(user)\n",
    "i=0\n",
    "length=len(user)\n",
    "print(length)\n",
    "print(\"Before Sorting : \",end='')\n",
    "while(i<length):\n",
    "    print(user[i],',',end='')\n",
    "    i+=1\n",
    "print('')\n",
    "print(\"After Sorting : \",result)"
   ]
  },
  {
   "cell_type": "markdown",
   "metadata": {},
   "source": [
    "## Highest Marks"
   ]
  },
  {
   "cell_type": "code",
   "execution_count": null,
   "metadata": {},
   "outputs": [],
   "source": [
    "i=1\n",
    "j=0\n",
    "while(i<=2811):\n",
    "    k=int(input())\n",
    "    if(k>j):\n",
    "        j=k\n",
    "    i+=1\n",
    "print(j)"
   ]
  },
  {
   "cell_type": "code",
   "execution_count": 43,
   "metadata": {},
   "outputs": [
    {
     "ename": "AttributeError",
     "evalue": "'student' object has no attribute 'marks'",
     "output_type": "error",
     "traceback": [
      "\u001b[0;31m---------------------------------------------------------------------------\u001b[0m",
      "\u001b[0;31mAttributeError\u001b[0m                            Traceback (most recent call last)",
      "\u001b[0;32m<ipython-input-43-685cbb430209>\u001b[0m in \u001b[0;36m<module>\u001b[0;34m\u001b[0m\n\u001b[1;32m     12\u001b[0m \u001b[0ms2\u001b[0m\u001b[0;34m=\u001b[0m\u001b[0mstudent\u001b[0m\u001b[0;34m(\u001b[0m\u001b[0;34m)\u001b[0m\u001b[0;34m\u001b[0m\u001b[0;34m\u001b[0m\u001b[0m\n\u001b[1;32m     13\u001b[0m \u001b[0ms3\u001b[0m\u001b[0;34m=\u001b[0m\u001b[0mstudent\u001b[0m\u001b[0;34m(\u001b[0m\u001b[0;34m)\u001b[0m\u001b[0;34m\u001b[0m\u001b[0;34m\u001b[0m\u001b[0m\n\u001b[0;32m---> 14\u001b[0;31m \u001b[0ms1\u001b[0m\u001b[0;34m.\u001b[0m\u001b[0mcal\u001b[0m\u001b[0;34m(\u001b[0m\u001b[0;34m)\u001b[0m\u001b[0;34m\u001b[0m\u001b[0;34m\u001b[0m\u001b[0m\n\u001b[0m\u001b[1;32m     15\u001b[0m \u001b[0ms2\u001b[0m\u001b[0;34m.\u001b[0m\u001b[0mcal\u001b[0m\u001b[0;34m(\u001b[0m\u001b[0;34m)\u001b[0m\u001b[0;34m\u001b[0m\u001b[0;34m\u001b[0m\u001b[0m\n\u001b[1;32m     16\u001b[0m \u001b[0ms3\u001b[0m\u001b[0;34m.\u001b[0m\u001b[0mcal\u001b[0m\u001b[0;34m(\u001b[0m\u001b[0;34m)\u001b[0m\u001b[0;34m\u001b[0m\u001b[0;34m\u001b[0m\u001b[0m\n",
      "\u001b[0;32m<ipython-input-43-685cbb430209>\u001b[0m in \u001b[0;36mcal\u001b[0;34m(self)\u001b[0m\n\u001b[1;32m      5\u001b[0m         \u001b[0mmarks\u001b[0m\u001b[0;34m=\u001b[0m\u001b[0mfloat\u001b[0m\u001b[0;34m(\u001b[0m\u001b[0minput\u001b[0m\u001b[0;34m(\u001b[0m\u001b[0;34m\"Enter Your Marks : \"\u001b[0m\u001b[0;34m)\u001b[0m\u001b[0;34m)\u001b[0m\u001b[0;34m\u001b[0m\u001b[0;34m\u001b[0m\u001b[0m\n\u001b[1;32m      6\u001b[0m     \u001b[0;32mdef\u001b[0m \u001b[0mcal\u001b[0m\u001b[0;34m(\u001b[0m\u001b[0mself\u001b[0m\u001b[0;34m)\u001b[0m\u001b[0;34m:\u001b[0m\u001b[0;34m\u001b[0m\u001b[0;34m\u001b[0m\u001b[0m\n\u001b[0;32m----> 7\u001b[0;31m         \u001b[0;32mif\u001b[0m\u001b[0;34m(\u001b[0m\u001b[0mself\u001b[0m\u001b[0;34m.\u001b[0m\u001b[0mmarks\u001b[0m\u001b[0;34m<\u001b[0m\u001b[0;36m40\u001b[0m\u001b[0;34m)\u001b[0m\u001b[0;34m:\u001b[0m\u001b[0;34m\u001b[0m\u001b[0;34m\u001b[0m\u001b[0m\n\u001b[0m\u001b[1;32m      8\u001b[0m             \u001b[0mprint\u001b[0m\u001b[0;34m(\u001b[0m\u001b[0mself\u001b[0m\u001b[0;34m.\u001b[0m\u001b[0mname\u001b[0m\u001b[0;34m,\u001b[0m\u001b[0;34m\" \"\u001b[0m\u001b[0;34m,\u001b[0m\u001b[0;34m\"Fail\"\u001b[0m\u001b[0;34m,\u001b[0m\u001b[0;34m\" :(\"\u001b[0m\u001b[0;34m)\u001b[0m\u001b[0;34m\u001b[0m\u001b[0;34m\u001b[0m\u001b[0m\n\u001b[1;32m      9\u001b[0m         \u001b[0;32melse\u001b[0m\u001b[0;34m:\u001b[0m\u001b[0;34m\u001b[0m\u001b[0;34m\u001b[0m\u001b[0m\n",
      "\u001b[0;31mAttributeError\u001b[0m: 'student' object has no attribute 'marks'"
     ]
    }
   ],
   "source": [
    "class student:\n",
    "    def __ini__(self,name,age,marks):\n",
    "        name=input(\"Enter Your Name : \")\n",
    "        age=int(input(\"Enter Your Age : \"))\n",
    "        marks=float(input(\"Enter Your Marks : \"))\n",
    "    def cal(self):\n",
    "        if(self.marks<40):\n",
    "            print(self.name,\" \",\"Fail\",\" :(\")\n",
    "        else:\n",
    "            print(self.name,\" \",\"Pass\",\" :)\")\n",
    "s1=student()\n",
    "s2=student()\n",
    "s3=student()\n",
    "s1.cal()\n",
    "s2.cal()\n",
    "s3.cal()"
   ]
  },
  {
   "cell_type": "code",
   "execution_count": 39,
   "metadata": {},
   "outputs": [
    {
     "name": "stdout",
     "output_type": "stream",
     "text": [
      "Harsh   Fail  :(\n",
      "Alisha   Pass  :)\n",
      "Gotiya   Pass  :)\n"
     ]
    }
   ],
   "source": [
    "class student:\n",
    "    def __init__(self,name,age,marks):\n",
    "        self.name=name\n",
    "        self.age=age\n",
    "        self.marks=marks\n",
    "    def cal(self):\n",
    "        if(self.marks<40):\n",
    "          print(self.name,\" \",\"Fail\",\" :(\")\n",
    "        else:\n",
    "          print(self.name,\" \",\"Pass\",\" :)\")\n",
    "s1=student(\"Harsh\",19,38)\n",
    "s2=student(\"Alisha\",20,52)\n",
    "s3=student(\"Gotiya\",21,48)\n",
    "s1.cal()\n",
    "s2.cal()\n",
    "s3.cal()"
   ]
  },
  {
   "cell_type": "markdown",
   "metadata": {},
   "source": [
    "## Covering Of Box"
   ]
  },
  {
   "cell_type": "code",
   "execution_count": 4,
   "metadata": {},
   "outputs": [
    {
     "name": "stdout",
     "output_type": "stream",
     "text": [
      "Des Called : \n",
      "The Cost Of Packaging @2000 Is :  6000000\n"
     ]
    }
   ],
   "source": [
    "class box:\n",
    "    def __init__(self,l,b,h):\n",
    "        self.l=l\n",
    "        self.b=b\n",
    "        self.h=h\n",
    "    def cal(self):\n",
    "        cost=2000*self.l*self.b*self.h\n",
    "        print(\"The Cost Of Packaging @2000 Is : \",cost)\n",
    "    def __del__(self):\n",
    "        print(\"Des Called : \")\n",
    "obj1=box(10,15,20)\n",
    "obj1.cal()"
   ]
  },
  {
   "cell_type": "markdown",
   "metadata": {},
   "source": [
    "## Cone"
   ]
  },
  {
   "cell_type": "code",
   "execution_count": 15,
   "metadata": {},
   "outputs": [
    {
     "name": "stdout",
     "output_type": "stream",
     "text": [
      "Des Called : \n",
      "The Area Of The Cone Is :  301.44\n",
      "The Volume Of The Cone Is :  753.5999999999999\n"
     ]
    }
   ],
   "source": [
    "class box:\n",
    "    def __init__(self,r,sh,h):\n",
    "        self.r=r\n",
    "        self.sh=sh\n",
    "        self.h=h\n",
    "    def area(self):\n",
    "        ar=3.14*self.r*(self.sh+self.r)\n",
    "        print(\"The Area Of The Cone Is : \",ar)\n",
    "    def volume(self):\n",
    "        vol=(3.14*self.r*self.r*self.h)/3\n",
    "        print(\"The Volume Of The Cone Is : \",vol)\n",
    "    def __del__(self):\n",
    "        print(\"Des Called : \")\n",
    "obj1=box(6,10,20)\n",
    "obj1.area()\n",
    "obj1.volume()"
   ]
  },
  {
   "cell_type": "markdown",
   "metadata": {},
   "source": [
    "## Inheritance"
   ]
  },
  {
   "cell_type": "code",
   "execution_count": 4,
   "metadata": {},
   "outputs": [
    {
     "name": "stdout",
     "output_type": "stream",
     "text": [
      "Enter Your Name : Harsh Prasad\n",
      "Enter Your UID : 19241\n",
      "Enter Your Age : 20\n"
     ]
    },
    {
     "ename": "TypeError",
     "evalue": "unsupported operand type(s) for /: 'str' and 'int'",
     "output_type": "error",
     "traceback": [
      "\u001b[0;31m---------------------------------------------------------------------------\u001b[0m",
      "\u001b[0;31mTypeError\u001b[0m                                 Traceback (most recent call last)",
      "\u001b[0;32m<ipython-input-4-ccf3906db4bf>\u001b[0m in \u001b[0;36m<module>\u001b[0;34m\u001b[0m\n\u001b[1;32m     20\u001b[0m         \u001b[0mprint\u001b[0m\u001b[0;34m(\u001b[0m\u001b[0;34m\"Student Age : \"\u001b[0m\u001b[0;34m,\u001b[0m\u001b[0mself\u001b[0m\u001b[0;34m.\u001b[0m\u001b[0mage\u001b[0m\u001b[0;34m)\u001b[0m\u001b[0;34m\u001b[0m\u001b[0;34m\u001b[0m\u001b[0m\n\u001b[1;32m     21\u001b[0m         \u001b[0mprint\u001b[0m\u001b[0;34m(\u001b[0m\u001b[0;34m\"Percentage Obtained By The Student Is : \"\u001b[0m\u001b[0;34m,\u001b[0m\u001b[0mself\u001b[0m\u001b[0;34m.\u001b[0m\u001b[0mpercentage\u001b[0m\u001b[0;34m)\u001b[0m\u001b[0;34m\u001b[0m\u001b[0;34m\u001b[0m\u001b[0m\n\u001b[0;32m---> 22\u001b[0;31m \u001b[0mstudent1\u001b[0m\u001b[0;34m=\u001b[0m\u001b[0mcalculate\u001b[0m\u001b[0;34m(\u001b[0m\u001b[0;34m)\u001b[0m\u001b[0;34m\u001b[0m\u001b[0;34m\u001b[0m\u001b[0m\n\u001b[0m\u001b[1;32m     23\u001b[0m \u001b[0mstudent1\u001b[0m\u001b[0;34m=\u001b[0m\u001b[0mdisplay\u001b[0m\u001b[0;34m(\u001b[0m\u001b[0;34m)\u001b[0m\u001b[0;34m\u001b[0m\u001b[0;34m\u001b[0m\u001b[0m\n",
      "\u001b[0;32m<ipython-input-4-ccf3906db4bf>\u001b[0m in \u001b[0;36m__init__\u001b[0;34m(self)\u001b[0m\n\u001b[1;32m     12\u001b[0m         \u001b[0mstudent\u001b[0m\u001b[0;34m.\u001b[0m\u001b[0m__init__\u001b[0m\u001b[0;34m(\u001b[0m\u001b[0mself\u001b[0m\u001b[0;34m)\u001b[0m\u001b[0;34m\u001b[0m\u001b[0;34m\u001b[0m\u001b[0m\n\u001b[1;32m     13\u001b[0m         \u001b[0mstudent\u001b[0m\u001b[0;34m.\u001b[0m\u001b[0mmarks\u001b[0m\u001b[0;34m(\u001b[0m\u001b[0mself\u001b[0m\u001b[0;34m)\u001b[0m\u001b[0;34m\u001b[0m\u001b[0;34m\u001b[0m\u001b[0m\n\u001b[0;32m---> 14\u001b[0;31m         \u001b[0mself\u001b[0m\u001b[0;34m.\u001b[0m\u001b[0mpercentage\u001b[0m\u001b[0;34m=\u001b[0m\u001b[0;34m(\u001b[0m\u001b[0;34m(\u001b[0m\u001b[0mself\u001b[0m\u001b[0;34m.\u001b[0m\u001b[0mmarks1\u001b[0m\u001b[0;34m+\u001b[0m\u001b[0mself\u001b[0m\u001b[0;34m.\u001b[0m\u001b[0mmarks2\u001b[0m\u001b[0;34m+\u001b[0m\u001b[0mself\u001b[0m\u001b[0;34m.\u001b[0m\u001b[0mmarks3\u001b[0m\u001b[0;34m)\u001b[0m\u001b[0;34m*\u001b[0m\u001b[0;36m100\u001b[0m\u001b[0;34m)\u001b[0m\u001b[0;34m/\u001b[0m\u001b[0;36m3\u001b[0m\u001b[0;34m\u001b[0m\u001b[0;34m\u001b[0m\u001b[0m\n\u001b[0m\u001b[1;32m     15\u001b[0m \u001b[0;32mclass\u001b[0m \u001b[0mdisplay\u001b[0m\u001b[0;34m(\u001b[0m\u001b[0mcalculate\u001b[0m\u001b[0;34m)\u001b[0m\u001b[0;34m:\u001b[0m\u001b[0;34m\u001b[0m\u001b[0;34m\u001b[0m\u001b[0m\n\u001b[1;32m     16\u001b[0m     \u001b[0;32mdef\u001b[0m \u001b[0m__init__\u001b[0m\u001b[0;34m(\u001b[0m\u001b[0mself\u001b[0m\u001b[0;34m)\u001b[0m\u001b[0;34m:\u001b[0m\u001b[0;34m\u001b[0m\u001b[0;34m\u001b[0m\u001b[0m\n",
      "\u001b[0;31mTypeError\u001b[0m: unsupported operand type(s) for /: 'str' and 'int'"
     ]
    }
   ],
   "source": [
    "class student:\n",
    "    def __init__(self):\n",
    "        self.name=input(\"Enter Your Name : \")\n",
    "        self.uid=input(\"Enter Your UID : \")\n",
    "        self.age=int(input(\"Enter Your Age : \"))\n",
    "    def marks(self):\n",
    "        self.marks1=(\"Enter The Marks Of English\")\n",
    "        self.marks2=(\"Enter The Marks Of Maths\")\n",
    "        self.marks3=(\"Enter The Marks Of Science\")\n",
    "class calculate(student):\n",
    "    def __init__(self):\n",
    "        student.__init__(self)\n",
    "        student.marks(self)\n",
    "        self.percentage=((self.marks1+self.marks2+self.marks3)*100)/3\n",
    "class display(calculate):\n",
    "    def __init__(self):\n",
    "        calculate.__init__(self)\n",
    "        print(\"Student Name : \",self.name)\n",
    "        print(\"Student UID : \",self.uid)\n",
    "        print(\"Student Age : \",self.age)\n",
    "        print(\"Percentage Obtained By The Student Is : \",self.percentage)\n",
    "student1=calculate()\n",
    "student1=display()"
   ]
  },
  {
   "cell_type": "code",
   "execution_count": 4,
   "metadata": {},
   "outputs": [
    {
     "name": "stdout",
     "output_type": "stream",
     "text": [
      "class c\n"
     ]
    }
   ],
   "source": [
    "class a:\n",
    "    def m(self):\n",
    "        print(\"class a\")\n",
    "class b(a):\n",
    "    #def m(self):\n",
    "        #print(\"class b\")\n",
    "        pass\n",
    "class c(a):\n",
    "    def m(self):\n",
    "        print(\"class c\")\n",
    "class d(b,c):\n",
    "    #def m(self):\n",
    "        #print(\"class d\")\n",
    "        pass\n",
    "obj=d()\n",
    "obj.m()"
   ]
  },
  {
   "cell_type": "code",
   "execution_count": 8,
   "metadata": {},
   "outputs": [
    {
     "data": {
      "text/plain": [
       "True"
      ]
     },
     "execution_count": 8,
     "metadata": {},
     "output_type": "execute_result"
    }
   ],
   "source": [
    "def isPrime(n):\n",
    "    for d in range(2,n):\n",
    "        if (n%d==0):\n",
    "            break\n",
    "        else :\n",
    "            return True\n",
    "    return False\n",
    "isPrime(11)"
   ]
  },
  {
   "cell_type": "code",
   "execution_count": 7,
   "metadata": {},
   "outputs": [
    {
     "data": {
      "text/plain": [
       "True"
      ]
     },
     "execution_count": 7,
     "metadata": {},
     "output_type": "execute_result"
    }
   ],
   "source": []
  }
 ],
 "metadata": {
  "kernelspec": {
   "display_name": "Python 3",
   "language": "python",
   "name": "python3"
  },
  "language_info": {
   "codemirror_mode": {
    "name": "ipython",
    "version": 3
   },
   "file_extension": ".py",
   "mimetype": "text/x-python",
   "name": "python",
   "nbconvert_exporter": "python",
   "pygments_lexer": "ipython3",
   "version": "3.8.8"
  }
 },
 "nbformat": 4,
 "nbformat_minor": 4
}
