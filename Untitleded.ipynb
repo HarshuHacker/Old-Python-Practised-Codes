{
 "cells": [
  {
   "cell_type": "code",
   "execution_count": 36,
   "metadata": {},
   "outputs": [
    {
     "ename": "SyntaxError",
     "evalue": "invalid syntax (<ipython-input-36-8d26880a7860>, line 9)",
     "output_type": "error",
     "traceback": [
      "\u001b[0;36m  File \u001b[0;32m\"<ipython-input-36-8d26880a7860>\"\u001b[0;36m, line \u001b[0;32m9\u001b[0m\n\u001b[0;31m    else if(i==2):\u001b[0m\n\u001b[0m         ^\u001b[0m\n\u001b[0;31mSyntaxError\u001b[0m\u001b[0;31m:\u001b[0m invalid syntax\n"
     ]
    }
   ],
   "source": [
    "## Read input as specified in the question.\n",
    "## Print output as specified in the question.\n",
    "n=int(input())\n",
    "i=1\n",
    "while(i<=n):\n",
    "    if(i==1):\n",
    "        i=i+1\n",
    "        print(\"1\")\n",
    "    elif(i==2):\n",
    "        i=i+1\n",
    "        print(\"11\")\n",
    "    else:\n",
    "        while(i<=n):\n",
    "            print(i-1,end='')\n",
    "            count=1\n",
    "            while(count<=i-2):\n",
    "                print(\"0\",end='')\n",
    "                count=count+1\n",
    "            print(i-1)\n",
    "            i=i+1"
   ]
  },
  {
   "cell_type": "code",
   "execution_count": 9,
   "metadata": {},
   "outputs": [
    {
     "name": "stdout",
     "output_type": "stream",
     "text": [
      "4\n",
      "24\n"
     ]
    }
   ],
   "source": [
    "def fact(num,ans):\n",
    "    if(num==0):\n",
    "        print(ans)\n",
    "        return\n",
    "    ans=ans*num\n",
    "    fact(num-1,ans)\n",
    "    return\n",
    "num=int(input())\n",
    "fact(num,1)"
   ]
  },
  {
   "cell_type": "code",
   "execution_count": 1,
   "metadata": {},
   "outputs": [
    {
     "name": "stdout",
     "output_type": "stream",
     "text": [
      "4\n",
      "5 10 15 20 25\n",
      "4750\n"
     ]
    }
   ],
   "source": [
    "import sys\n",
    "\n",
    "def MatrixChainOrder(p, n):\n",
    "    m = [[0 for x in range(n)] for x in range(n)]\n",
    "    for i in range(1, n):\n",
    "        m[i][i] = 0\n",
    "    for L in range(2, n):\n",
    "        for i in range(1, n-L+1):\n",
    "            j = i+L-1\n",
    "            m[i][j] = sys.maxsize\n",
    "            for k in range(i, j):\n",
    "                q = m[i][k] + m[k+1][j] + p[i-1]*p[k]*p[j]\n",
    "                if q < m[i][j]:\n",
    "                    m[i][j] = q\n",
    "    return m[1][n-1]\n",
    "\n",
    "N=int(input())\n",
    "arr =[int(x) for x in input().split()]\n",
    "size = len(arr)\n",
    "print(str(MatrixChainOrder(arr, size)))"
   ]
  },
  {
   "cell_type": "code",
   "execution_count": null,
   "metadata": {},
   "outputs": [],
   "source": [
    "4\n",
    "5 10 15 20 25"
   ]
  },
  {
   "cell_type": "code",
   "execution_count": 22,
   "metadata": {},
   "outputs": [
    {
     "name": "stdout",
     "output_type": "stream",
     "text": [
      "5\n",
      "1 2 3 4 5 6 7\n",
      "15\n"
     ]
    }
   ],
   "source": [
    "n=int(input())\n",
    "sum=0\n",
    "li=[int(i) for i in input().split()]\n",
    "for x in range(0,n,1):\n",
    "    sum=sum+li[x]\n",
    "print(sum)"
   ]
  },
  {
   "cell_type": "code",
   "execution_count": 16,
   "metadata": {},
   "outputs": [
    {
     "ename": "KeyboardInterrupt",
     "evalue": "Interrupted by user",
     "output_type": "error",
     "traceback": [
      "\u001b[0;31m---------------------------------------------------------------------------\u001b[0m",
      "\u001b[0;31mKeyboardInterrupt\u001b[0m                         Traceback (most recent call last)",
      "\u001b[0;32m<ipython-input-16-0a1a4cf74a58>\u001b[0m in \u001b[0;36m<module>\u001b[0;34m\u001b[0m\n\u001b[0;32m----> 1\u001b[0;31m \u001b[0mstr\u001b[0m\u001b[0;34m=\u001b[0m\u001b[0minput\u001b[0m\u001b[0;34m(\u001b[0m\u001b[0;34m)\u001b[0m\u001b[0;34m\u001b[0m\u001b[0;34m\u001b[0m\u001b[0m\n\u001b[0m\u001b[1;32m      2\u001b[0m \u001b[0mstr\u001b[0m\u001b[0;34m\u001b[0m\u001b[0;34m\u001b[0m\u001b[0m\n",
      "\u001b[0;32m~/opt/anaconda3/lib/python3.8/site-packages/ipykernel/kernelbase.py\u001b[0m in \u001b[0;36mraw_input\u001b[0;34m(self, prompt)\u001b[0m\n\u001b[1;32m    858\u001b[0m                 \u001b[0;34m\"raw_input was called, but this frontend does not support input requests.\"\u001b[0m\u001b[0;34m\u001b[0m\u001b[0;34m\u001b[0m\u001b[0m\n\u001b[1;32m    859\u001b[0m             )\n\u001b[0;32m--> 860\u001b[0;31m         return self._input_request(str(prompt),\n\u001b[0m\u001b[1;32m    861\u001b[0m             \u001b[0mself\u001b[0m\u001b[0;34m.\u001b[0m\u001b[0m_parent_ident\u001b[0m\u001b[0;34m,\u001b[0m\u001b[0;34m\u001b[0m\u001b[0;34m\u001b[0m\u001b[0m\n\u001b[1;32m    862\u001b[0m             \u001b[0mself\u001b[0m\u001b[0;34m.\u001b[0m\u001b[0m_parent_header\u001b[0m\u001b[0;34m,\u001b[0m\u001b[0;34m\u001b[0m\u001b[0;34m\u001b[0m\u001b[0m\n",
      "\u001b[0;32m~/opt/anaconda3/lib/python3.8/site-packages/ipykernel/kernelbase.py\u001b[0m in \u001b[0;36m_input_request\u001b[0;34m(self, prompt, ident, parent, password)\u001b[0m\n\u001b[1;32m    902\u001b[0m             \u001b[0;32mexcept\u001b[0m \u001b[0mKeyboardInterrupt\u001b[0m\u001b[0;34m:\u001b[0m\u001b[0;34m\u001b[0m\u001b[0;34m\u001b[0m\u001b[0m\n\u001b[1;32m    903\u001b[0m                 \u001b[0;31m# re-raise KeyboardInterrupt, to truncate traceback\u001b[0m\u001b[0;34m\u001b[0m\u001b[0;34m\u001b[0m\u001b[0;34m\u001b[0m\u001b[0m\n\u001b[0;32m--> 904\u001b[0;31m                 \u001b[0;32mraise\u001b[0m \u001b[0mKeyboardInterrupt\u001b[0m\u001b[0;34m(\u001b[0m\u001b[0;34m\"Interrupted by user\"\u001b[0m\u001b[0;34m)\u001b[0m \u001b[0;32mfrom\u001b[0m \u001b[0;32mNone\u001b[0m\u001b[0;34m\u001b[0m\u001b[0;34m\u001b[0m\u001b[0m\n\u001b[0m\u001b[1;32m    905\u001b[0m             \u001b[0;32mexcept\u001b[0m \u001b[0mException\u001b[0m \u001b[0;32mas\u001b[0m \u001b[0me\u001b[0m\u001b[0;34m:\u001b[0m\u001b[0;34m\u001b[0m\u001b[0;34m\u001b[0m\u001b[0m\n\u001b[1;32m    906\u001b[0m                 \u001b[0mself\u001b[0m\u001b[0;34m.\u001b[0m\u001b[0mlog\u001b[0m\u001b[0;34m.\u001b[0m\u001b[0mwarning\u001b[0m\u001b[0;34m(\u001b[0m\u001b[0;34m\"Invalid Message:\"\u001b[0m\u001b[0;34m,\u001b[0m \u001b[0mexc_info\u001b[0m\u001b[0;34m=\u001b[0m\u001b[0;32mTrue\u001b[0m\u001b[0;34m)\u001b[0m\u001b[0;34m\u001b[0m\u001b[0;34m\u001b[0m\u001b[0m\n",
      "\u001b[0;31mKeyboardInterrupt\u001b[0m: Interrupted by user"
     ]
    }
   ],
   "source": [
    "str=input()\n",
    "str"
   ]
  },
  {
   "cell_type": "code",
   "execution_count": 28,
   "metadata": {},
   "outputs": [
    {
     "data": {
      "text/plain": [
       "['1', '2', '3', '4', '5']"
      ]
     },
     "execution_count": 28,
     "metadata": {},
     "output_type": "execute_result"
    }
   ],
   "source": [
    "str_split=str.split(' ')\n",
    "str_split"
   ]
  },
  {
   "cell_type": "code",
   "execution_count": 35,
   "metadata": {},
   "outputs": [
    {
     "name": "stdout",
     "output_type": "stream",
     "text": [
      "[1, 2, 3, 4, 5]\n"
     ]
    }
   ],
   "source": [
    "li=[]\n",
    "for i in str_split:\n",
    "    li.append(int(i))\n",
    "li\n",
    "print(li)"
   ]
  },
  {
   "cell_type": "code",
   "execution_count": 3,
   "metadata": {},
   "outputs": [
    {
     "name": "stdout",
     "output_type": "stream",
     "text": [
      "5\n",
      "11\n"
     ]
    }
   ],
   "source": [
    "n=7\n",
    "c=0\n",
    "while(n):\n",
    "    if(n>5):\n",
    "        c=c+n-1\n",
    "        n=n-1\n",
    "    else:\n",
    "        break\n",
    "print(n)\n",
    "print(c)"
   ]
  },
  {
   "cell_type": "code",
   "execution_count": 43,
   "metadata": {},
   "outputs": [
    {
     "name": "stdout",
     "output_type": "stream",
     "text": [
      "3\n",
      "3\n"
     ]
    }
   ],
   "source": [
    "from sys import stdin\n",
    "from sys import setrecursionlimit\n",
    "setrecursionlimit(10**6)\n",
    "def lis(arr,si,a): \n",
    "    # Write your code here\n",
    "    if(si==len(arr)):\n",
    "        return 0,0\n",
    "    incmax=1\n",
    "    for i in range(si+1,len(arr)):\n",
    "        if(arr[si]<arr[i]):\n",
    "            if(a[i]==-1):\n",
    "                a[i]=lis(arr,i,a)\n",
    "                nextmax=a[i][0]\n",
    "            else:\n",
    "                nextmax=a[i][0]\n",
    "            incmax=max(incmax,1+nextmax)\n",
    "    if(a[si+1]==-1):\n",
    "        a[si+1]=lis(arr,si+1,a)\n",
    "        excmax=a[si+1][1]\n",
    "    else:\n",
    "        excmax=a[si+1][1]\n",
    "    overallmax=max(incmax,excmax)\n",
    "    return incmax,overallmax\n",
    "\n",
    "def lisi(arr,a): \n",
    "    # Write your code here\n",
    "    final=-99999\n",
    "    for i in range(len(arr)-1,-1,-1):\n",
    "        ans=1\n",
    "        for j in range(i+1,len(arr)):\n",
    "            if(arr[i]<arr[j]):\n",
    "                ans=max(ans,1+a[j])\n",
    "        a[i]=ans\n",
    "        final=max(final,ans)\n",
    "    return final\n",
    "    \n",
    "arr=[5,4,16,1,11,15]\n",
    "a=[-1 for i in range(len(arr)+1)]\n",
    "a2=[-1 for i in range(len(arr))]\n",
    "print(lis(arr,0,a)[1])\n",
    "print(lisi(arr,a2))"
   ]
  },
  {
   "cell_type": "code",
   "execution_count": 51,
   "metadata": {},
   "outputs": [
    {
     "name": "stdout",
     "output_type": "stream",
     "text": [
      "16\n"
     ]
    }
   ],
   "source": [
    "\n",
    "from sys import stdin\n",
    "MAX_VALUE = 2147483647\n",
    "\n",
    "def minCostPath(input, mRows, nCols,i,j,arr) :\n",
    "\t#Your code goes here\n",
    "    if(i==mRows-1 and j==nCols-1):\n",
    "        return input[i][j]\n",
    "    elif(i==mRows or j==nCols):\n",
    "        return MAX_VALUE\n",
    "    else:\n",
    "        if(arr[i+1][j]==MAX_VALUE):\n",
    "            ans1=minCostPath(input, mRows, nCols,i+1,j,arr)\n",
    "            arr[i+1][j]=ans1\n",
    "        else:\n",
    "            ans1=arr[i+1][j]\n",
    "            \n",
    "        if(arr[i][j+1]==MAX_VALUE):\n",
    "            ans2=minCostPath(input, mRows, nCols,i,j+1,arr)\n",
    "            arr[i][j+1]=ans2\n",
    "        else:\n",
    "            ans2=arr[i][j+1]\n",
    "            \n",
    "        if(arr[i+1][j+1]==MAX_VALUE):\n",
    "            ans3=minCostPath(input, mRows, nCols,i+1,j+1,arr)\n",
    "            arr[i+1][j+1]=ans3\n",
    "        else:\n",
    "            ans3=arr[i+1][j+1]\n",
    "        ans=input[i][j]+min(ans1,ans2,ans3)\n",
    "    return ans\n",
    "\n",
    "mat=[[1,7,9,2],[8,6,3,2],[1,6,7,8],[2,9,8,2]]\n",
    "mRows=4\n",
    "nCols=4\n",
    "arr=[[MAX_VALUE for i in range(1,nCols+2)]for j in range(1,mRows+2)]\n",
    "print(minCostPath(mat, mRows, nCols,0,0,arr))"
   ]
  },
  {
   "cell_type": "code",
   "execution_count": 4,
   "metadata": {},
   "outputs": [
    {
     "name": "stdout",
     "output_type": "stream",
     "text": [
      "[2147483647, 2147483647, 2147483647, 2147483647, 2147483647, 2147483647]\n",
      "[2147483647, 2147483647, 2147483647, 2147483647, 2147483647, 2147483647]\n",
      "[2147483647, 2147483647, 2147483647, 2147483647, 2147483647, 2147483647]\n",
      "[2147483647, 2147483647, 2147483647, 2147483647, 2147483647, 2147483647]\n",
      "[2147483647, 2147483647, 2147483647, 2147483647, 2147483647, 2147483647]\n",
      "14\n",
      "[14, 14, 13, 5, 4, 2147483647]\n",
      "[21, 13, 7, 4, 3, 2147483647]\n",
      "[17, 16, 10, 9, 2, 2147483647]\n",
      "[22, 20, 11, 3, 1, 2147483647]\n",
      "[2147483647, 2147483647, 2147483647, 2147483647, 2147483647, 2147483647]\n"
     ]
    }
   ],
   "source": [
    "\n",
    "from sys import stdin\n",
    "MAX_VALUE = 2147483647\n",
    "\n",
    "def minCostPath(input, mRows, nCols,arr) :\n",
    "\t#Your code goes here\n",
    "    for i in range(mRows-1,-1,-1):\n",
    "        for j in range(nCols-1,-1,-1):\n",
    "            if(i==mRows-1 and j==nCols-1):\n",
    "                arr[i][j]=input[i][j]\n",
    "            else:\n",
    "                arr[i][j]=input[i][j]+min(arr[i+1][j],arr[i][j+1],arr[i+1][j+1])\n",
    "    return arr[0][0]\n",
    "\n",
    "mat=[[1,7,9,2,1],[8,6,3,2,1],[1,6,7,8,1],[2,9,8,2,1]]\n",
    "mRows=4\n",
    "nCols=5\n",
    "arr=[[MAX_VALUE for i in range(nCols+1)]for j in range(mRows+1)]\n",
    "for i in range(mRows+1):\n",
    "    print(arr[i])\n",
    "print(minCostPath(mat, mRows, nCols,arr))\n",
    "for i in range(mRows+1):\n",
    "    print(arr[i])"
   ]
  },
  {
   "cell_type": "code",
   "execution_count": null,
   "metadata": {},
   "outputs": [
    {
     "name": "stdout",
     "output_type": "stream",
     "text": [
      "abc\n",
      "c\n"
     ]
    }
   ],
   "source": [
    "def subsequences(string,i,li):\n",
    "    #Implement Your Code Here\n",
    "    if(i==len(string)):\n",
    "        li.append(\" \")\n",
    "        return\n",
    "    subsequences(string,i+1,li)\n",
    "    currstr=string[i]\n",
    "    print(currstr)\n",
    "    for j in li:\n",
    "        li.append(currstr+j)\n",
    "    return li\n",
    "\n",
    "string = input()\n",
    "li=[]\n",
    "ans = subsequences(string,0,li)\n",
    "print(ans)\n",
    "for ele in ans:\n",
    "    print(ele)\n",
    "print(ans)"
   ]
  },
  {
   "cell_type": "code",
   "execution_count": 34,
   "metadata": {},
   "outputs": [
    {
     "name": "stdout",
     "output_type": "stream",
     "text": [
      "-8\n"
     ]
    }
   ],
   "source": [
    "import sys\n",
    "def minimum(arr,ans):\n",
    "    if(len(arr)==1):\n",
    "        print(min(ans,arr[0]))\n",
    "        return\n",
    "    final=min(ans,arr[0])\n",
    "    minimum(arr[1:],final)\n",
    "    \n",
    "arr=[5,-4,3,1,7,-8,6,2,9]\n",
    "minimum(arr,sys.maxsize)"
   ]
  },
  {
   "cell_type": "code",
   "execution_count": 44,
   "metadata": {},
   "outputs": [
    {
     "name": "stdout",
     "output_type": "stream",
     "text": [
      "abc\n",
      "['a', 'b', 'ab', 'c', 'ac', 'bc', 'abc', '']\n"
     ]
    }
   ],
   "source": [
    "def con(string,li):\n",
    "    if(len(string)==0):\n",
    "        li.append(\"\")\n",
    "        print(li)\n",
    "        return \n",
    "    # li.append(string[0])\n",
    "    output=[]\n",
    "    for i in li:\n",
    "        output.append(i)\n",
    "    output.append(string[0])\n",
    "    for i in li:\n",
    "        output.append(i+string[0])\n",
    "    con(string[1:],output)\n",
    "        \n",
    "string=input()\n",
    "li=[]\n",
    "con(string,li)"
   ]
  },
  {
   "cell_type": "code",
   "execution_count": 4,
   "metadata": {},
   "outputs": [
    {
     "name": "stdout",
     "output_type": "stream",
     "text": [
      "[2]\n",
      "[2, 3, 5]\n",
      "[2, 3, 5, 15, 17, 18, 20]\n",
      "[2, 3, 5, 15, 17, 18, 20, 17, 19, 20, 22, 32, 34, 35, 37]\n",
      "[2, 3, 5, 15, 17, 18, 20, 17, 19, 20, 22, 32, 34, 35, 37]\n"
     ]
    }
   ],
   "source": [
    "def subset(arr):\n",
    "    if(len(arr)==0):\n",
    "        li=[]\n",
    "        return li\n",
    "    smallnum=subset(arr[1:])\n",
    "    output=[]\n",
    "    for i in smallnum:\n",
    "        output.append(i)\n",
    "    output.append(arr[0])\n",
    "    for i in smallnum:\n",
    "        output.append(arr[0]+i)\n",
    "    print(output)\n",
    "    return output\n",
    "\n",
    "li=[17,15,3,2]\n",
    "print(subset(li))"
   ]
  },
  {
   "cell_type": "code",
   "execution_count": 1,
   "metadata": {},
   "outputs": [
    {
     "name": "stdout",
     "output_type": "stream",
     "text": [
      "hd\n",
      "hd\n"
     ]
    }
   ],
   "source": [
    "for i in range(2):\n",
    "    print(\"hd\")"
   ]
  },
  {
   "cell_type": "code",
   "execution_count": 2,
   "metadata": {},
   "outputs": [
    {
     "name": "stdout",
     "output_type": "stream",
     "text": [
      "[2, 3]\n"
     ]
    }
   ],
   "source": [
    "arr=[1,2,3,4]\n",
    "print(arr[1:3])"
   ]
  },
  {
   "cell_type": "code",
   "execution_count": 1,
   "metadata": {},
   "outputs": [
    {
     "data": {
      "text/plain": [
       "0"
      ]
     },
     "execution_count": 1,
     "metadata": {},
     "output_type": "execute_result"
    }
   ],
   "source": [
    "root(10,20)"
   ]
  },
  {
   "cell_type": "code",
   "execution_count": 1,
   "metadata": {
    "scrolled": true
   },
   "outputs": [
    {
     "name": "stdout",
     "output_type": "stream",
     "text": [
      "0\n",
      "1\n",
      "2\n"
     ]
    }
   ],
   "source": [
    "for i in range(0,3):\n",
    "    print(i)"
   ]
  },
  {
   "cell_type": "code",
   "execution_count": null,
   "metadata": {
    "scrolled": true
   },
   "outputs": [],
   "source": [
    "n=int(input())\n",
    "prev=int(input())\n",
    "count=2\n",
    "isDec=True\n",
    "while count<=n:\n",
    "    current=int(input())\n",
    "    count+=1\n",
    "    \n",
    "    if current==prev:\n",
    "        print(\"False\")\n",
    "        break\n",
    "    elif current<prev:\n",
    "        if isDec==False:\n",
    "            print(\"False\")\n",
    "            break\n",
    "    else:\n",
    "        if isDec==True:\n",
    "            isDec=False\n",
    "    prev=current\n",
    "print(\"True\")"
   ]
  },
  {
   "cell_type": "code",
   "execution_count": 14,
   "metadata": {},
   "outputs": [
    {
     "name": "stdout",
     "output_type": "stream",
     "text": [
      "For Placing A Order Enter 1 \n",
      "For Viewing Order Enter 2 \n",
      "For Cancelling Order Enter 3 \n",
      "To Exit Enter 4 \n",
      "Enter Your Response : 1\n",
      "Enter The Product Details : \n",
      "Enter Product Name : Harsh\n",
      "Enter Product Price : 25\n",
      "Enter Your Response : 1\n",
      "Enter The Product Details : \n",
      "Enter Product Name : Ayush\n",
      "Enter Product Price : 12\n",
      "Enter Your Response : 1\n",
      "Enter The Product Details : \n",
      "Enter Product Name : Raj\n",
      "Enter Product Price : 31\n",
      "Enter Your Response : 1\n",
      "Enter The Product Details : \n",
      "Enter Product Name : Shivani\n",
      "Enter Product Price : 15\n",
      "Enter Your Response : 1\n",
      "Enter The Product Details : \n",
      "Enter Product Name : Pallavi\n",
      "Enter Product Price : 28\n",
      "Enter Your Response : 1\n",
      "Enter The Product Details : \n",
      "Enter Product Name : Krishan\n",
      "Enter Product Price : 10\n",
      "Enter Your Response : 2\n",
      "The Order With Maximum Value Is :  Raj  Whose Price Is :  31\n",
      "Enter Your Response : 3\n",
      "The Order You Cancelled Was  Krishan  Whose Price Is :  10\n",
      "Enter Your Response : 3\n",
      "The Order You Cancelled Was  Pallavi  Whose Price Is :  28\n",
      "Enter Your Response : 3\n",
      "The Order You Cancelled Was  Shivani  Whose Price Is :  15\n",
      "Enter Your Response : 3\n",
      "The Order You Cancelled Was  Raj  Whose Price Is :  31\n",
      "Enter Your Response : 5\n",
      "Invalid Input! Please Try Again\n",
      "Enter Your Response : 6\n",
      "Invalid Input! Please Try Again\n",
      "Enter Your Response : 4\n",
      "Exited Successfully\n"
     ]
    }
   ],
   "source": [
    "import sys\n",
    "stack=[]\n",
    "print(\"For Placing A Order Enter 1 \")\n",
    "print(\"For Viewing Order Enter 2 \")\n",
    "print(\"For Cancelling Order Enter 3 \")\n",
    "print(\"To Exit Enter 4 \")\n",
    "i=True\n",
    "count=0\n",
    "maxi=-sys.maxsize\n",
    "while(i==True):\n",
    "    user=int(input(\"Enter Your Response : \"))\n",
    "    if(user==1):\n",
    "        print(\"Enter The Product Details : \")\n",
    "        name=input(\"Enter Product Name : \")\n",
    "        price=int(input(\"Enter Product Price : \"))\n",
    "        newdict={1:name,2:price}\n",
    "        stack.append(newdict)\n",
    "        if(price>=maxi):\n",
    "            maxi=price\n",
    "            index=count\n",
    "        count+=1\n",
    "    elif(user==2):\n",
    "        print(\"The Order With Maximum Value Is : \",stack[index][1],\" Whose Price Is : \",stack[index][2])\n",
    "    elif(user==3):\n",
    "        print(\"The Order You Cancelled Was \",stack[count-1][1],\" Whose Price Is : \",stack[count-1][2])\n",
    "        stack.pop()\n",
    "        count-=1\n",
    "    elif(user==4):\n",
    "        i=False\n",
    "        print(\"Exited Successfully\")\n",
    "    else:\n",
    "        print(\"Invalid Input! Please Try Again\")"
   ]
  },
  {
   "cell_type": "code",
   "execution_count": null,
   "metadata": {},
   "outputs": [
    {
     "name": "stdout",
     "output_type": "stream",
     "text": [
      "For Placing A Order Enter 1 \n",
      "For Viewing Order Enter 2 \n",
      "For Cancelling Order Enter 3 \n",
      "To Exit Enter 4 \n",
      "Enter Your Response : 1\n",
      "Enter The Product Details : 4\n",
      "Enter Your Response : 1\n",
      "Enter The Product Details : 2\n",
      "Enter Your Response : 1\n",
      "Enter The Product Details : 5\n",
      "Enter Your Response : 3\n",
      "The Order You Cancelled Was  5\n",
      "Enter Your Response : 2\n",
      "The Order With Maximum Value Is :  5\n"
     ]
    }
   ],
   "source": [
    "import sys\n",
    "stack=[]\n",
    "print(\"For Placing A Order Enter 1 \")\n",
    "print(\"For Viewing Order Enter 2 \")\n",
    "print(\"For Cancelling Order Enter 3 \")\n",
    "print(\"To Exit Enter 4 \")\n",
    "maxi=-sys.maxsize\n",
    "i=True\n",
    "while(i==True):\n",
    "    user=int(input(\"Enter Your Response : \"))\n",
    "    if(user==1):\n",
    "        user=int(input(\"Enter The Product Details : \"))\n",
    "        stack.append(user)\n",
    "        if(user>=maxi):\n",
    "            maxi=user\n",
    "    elif(user==2):\n",
    "        print(\"The Order With Maximum Value Is : \",maxi)\n",
    "    elif(user==3):\n",
    "        print(\"The Order You Cancelled Was \",stack[len(stack)-1])\n",
    "        stack.pop()\n",
    "    elif(user==4):\n",
    "        i=False\n",
    "        print(\"Exited Successfully\")\n",
    "    else:\n",
    "        print(\"Invalid Input! Please Try Again\")"
   ]
  },
  {
   "cell_type": "code",
   "execution_count": null,
   "metadata": {},
   "outputs": [],
   "source": []
  }
 ],
 "metadata": {
  "kernelspec": {
   "display_name": "Python 3",
   "language": "python",
   "name": "python3"
  },
  "language_info": {
   "codemirror_mode": {
    "name": "ipython",
    "version": 3
   },
   "file_extension": ".py",
   "mimetype": "text/x-python",
   "name": "python",
   "nbconvert_exporter": "python",
   "pygments_lexer": "ipython3",
   "version": "3.8.8"
  }
 },
 "nbformat": 4,
 "nbformat_minor": 4
}
