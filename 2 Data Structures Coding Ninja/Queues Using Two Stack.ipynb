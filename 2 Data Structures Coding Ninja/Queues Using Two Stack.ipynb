{
 "cells": [
  {
   "cell_type": "code",
   "execution_count": 4,
   "metadata": {},
   "outputs": [
    {
     "name": "stdout",
     "output_type": "stream",
     "text": [
      "\n",
      "10\n",
      "20\n",
      "30\n",
      "40\n"
     ]
    }
   ],
   "source": [
    "class qusings:\n",
    "    def __init__(self):\n",
    "        self.stack1=[]\n",
    "        self.stack2=[]\n",
    "        \n",
    "    def enqueue(self,data):\n",
    "        self.stack1.append(data)\n",
    "        \n",
    "    def dequeue(self):\n",
    "        if len(self.stack1)==0:\n",
    "            return 'Empty Queue'\n",
    "        while(len(self.stack1)!=1):\n",
    "            self.stack2.append(self.stack1[-1])\n",
    "            self.stack1.pop()\n",
    "        ele=self.stack1[0]\n",
    "        self.stack1.pop()\n",
    "        while(len(self.stack2)!=0):\n",
    "            self.stack1.append(self.stack2[-1])\n",
    "            self.stack2.pop()\n",
    "        return ele\n",
    "        \n",
    "    def front(self):\n",
    "        if len(self.stack1)==0:\n",
    "            return 'Empty Queue'\n",
    "        while(len(self.stack1)!=1):\n",
    "            self.stack2.append(self.stack1[-1])\n",
    "            self.stack1.pop()\n",
    "        ele=self.stack1[0]\n",
    "        while(len(self.stack2)!=0):\n",
    "            self.stack1.append(self.stack2[-1])\n",
    "            self.stack2.pop()\n",
    "        return ele\n",
    "        \n",
    "    def isEmpty(self):\n",
    "        return self.size()==0\n",
    "        \n",
    "    def size(self):\n",
    "        return len(self.stack1)\n",
    "        \n",
    "q=qusings()\n",
    "for i in range(1,10):\n",
    "    q.enqueue(i*10)\n",
    "print()\n",
    "for i in range(4):\n",
    "    print(q.dequeue())"
   ]
  },
  {
   "cell_type": "code",
   "execution_count": null,
   "metadata": {},
   "outputs": [],
   "source": []
  }
 ],
 "metadata": {
  "kernelspec": {
   "display_name": "Python 3",
   "language": "python",
   "name": "python3"
  },
  "language_info": {
   "codemirror_mode": {
    "name": "ipython",
    "version": 3
   },
   "file_extension": ".py",
   "mimetype": "text/x-python",
   "name": "python",
   "nbconvert_exporter": "python",
   "pygments_lexer": "ipython3",
   "version": "3.8.5"
  }
 },
 "nbformat": 4,
 "nbformat_minor": 4
}
