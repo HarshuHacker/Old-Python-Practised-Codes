{
 "cells": [
  {
   "cell_type": "code",
   "execution_count": 6,
   "id": "e0b88092",
   "metadata": {},
   "outputs": [
    {
     "name": "stdout",
     "output_type": "stream",
     "text": [
      "60\n",
      "1548008755920\n"
     ]
    }
   ],
   "source": [
    "def fib(num):\n",
    "    arr=[-1]*(num)\n",
    "    arr[0]=1\n",
    "    arr[1]=1\n",
    "    for i in range(2,num):\n",
    "        arr[i]=arr[i-1]+arr[i-2]\n",
    "    return arr[num-1]\n",
    "num=int(input())\n",
    "print(fib(num))\n",
    "    \n",
    "# 1 1 2 3 5 8 13"
   ]
  },
  {
   "cell_type": "code",
   "execution_count": null,
   "id": "2ae4621a",
   "metadata": {},
   "outputs": [],
   "source": [
    "def fib(num):\n",
    "    arr[0]=1\n",
    "    arr[1]=1\n",
    "    for i in range(2,num):\n",
    "        arr[i]=arr[i-1]+arr[i-2]\n",
    "    return arr[num-1]\n",
    "num=int(input())\n",
    "print(fib(num))"
   ]
  },
  {
   "cell_type": "code",
   "execution_count": 27,
   "id": "1fc93ce2",
   "metadata": {},
   "outputs": [
    {
     "name": "stdout",
     "output_type": "stream",
     "text": [
      "2000\n",
      "10\n"
     ]
    }
   ],
   "source": [
    "import sys\n",
    "def countMinStepsToOne(n,arr) :\n",
    "    if(n==1):\n",
    "        return 0\n",
    "    if(arr[n-1]==-1):\n",
    "        ans1=countMinStepsToOne(n-1,arr)\n",
    "        arr[n-1]=ans1\n",
    "    else:\n",
    "        ans1=arr[n-1]\n",
    "    if(n%2==0):\n",
    "        if(arr[n//2]==-1):\n",
    "            ans2=countMinStepsToOne(n//2,arr)\n",
    "            arr[n//2]=ans2\n",
    "        else:\n",
    "            ans2=arr[n//2]\n",
    "    else:\n",
    "        ans2=sys.maxsize\n",
    "    if(n%3==0):\n",
    "        if(arr[n//3]==-1):\n",
    "            ans3=countMinStepsToOne(n//3,arr)\n",
    "            arr[n//3]=ans3\n",
    "        else:\n",
    "            ans3=arr[n//3]\n",
    "    else:\n",
    "        ans3=sys.maxsize\n",
    "    return 1+min(ans1,ans2,ans3)\n",
    "\n",
    "n = int(input())\n",
    "arr=[-1]*(n+1)\n",
    "print(countMinStepsToOne(n,arr))"
   ]
  },
  {
   "cell_type": "code",
   "execution_count": null,
   "id": "2c0e1703",
   "metadata": {},
   "outputs": [],
   "source": []
  }
 ],
 "metadata": {
  "kernelspec": {
   "display_name": "Python 3",
   "language": "python",
   "name": "python3"
  },
  "language_info": {
   "codemirror_mode": {
    "name": "ipython",
    "version": 3
   },
   "file_extension": ".py",
   "mimetype": "text/x-python",
   "name": "python",
   "nbconvert_exporter": "python",
   "pygments_lexer": "ipython3",
   "version": "3.8.8"
  }
 },
 "nbformat": 4,
 "nbformat_minor": 5
}
