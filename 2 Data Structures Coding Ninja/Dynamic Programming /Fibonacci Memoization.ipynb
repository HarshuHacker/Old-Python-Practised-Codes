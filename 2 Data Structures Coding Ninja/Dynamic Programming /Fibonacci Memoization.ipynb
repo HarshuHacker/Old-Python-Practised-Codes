{
 "cells": [
  {
   "cell_type": "code",
   "execution_count": 34,
   "id": "653f5fdc",
   "metadata": {},
   "outputs": [
    {
     "name": "stdout",
     "output_type": "stream",
     "text": [
      "8\n",
      "3\n",
      "4\n",
      "5\n",
      "6\n",
      "[-1, -1, -1, 2, 3, 5, 8, 13, 21]\n"
     ]
    }
   ],
   "source": [
    "def fib(num,arr):\n",
    "    if(num==1 or num==2):\n",
    "        return 1\n",
    "    if(arr[num]!=-1):\n",
    "        print(num)\n",
    "        return arr[num]\n",
    "    else:\n",
    "        ans=fib(num-1,arr)+fib(num-2,arr)\n",
    "        arr[num]=ans\n",
    "        return ans\n",
    "num=int(input())\n",
    "arr=[-1]*(num+1)\n",
    "fib(num,arr)\n",
    "print(arr)\n",
    "# 1 1 2 3 5 8 13"
   ]
  }
 ],
 "metadata": {
  "kernelspec": {
   "display_name": "Python 3",
   "language": "python",
   "name": "python3"
  },
  "language_info": {
   "codemirror_mode": {
    "name": "ipython",
    "version": 3
   },
   "file_extension": ".py",
   "mimetype": "text/x-python",
   "name": "python",
   "nbconvert_exporter": "python",
   "pygments_lexer": "ipython3",
   "version": "3.8.8"
  }
 },
 "nbformat": 4,
 "nbformat_minor": 5
}
