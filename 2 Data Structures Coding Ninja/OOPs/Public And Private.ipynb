{
 "cells": [
  {
   "cell_type": "code",
   "execution_count": 70,
   "metadata": {},
   "outputs": [
    {
     "name": "stdout",
     "output_type": "stream",
     "text": [
      "Surface Required :  land\n",
      "Max Speed :  240\n",
      "No Of Wheels :  3\n",
      "Colour :  silver\n",
      "Sumu :  12\n",
      "12\n",
      "land\n"
     ]
    }
   ],
   "source": [
    "class vehicle:\n",
    "    __sumu=0\n",
    "    def __init__(self,surface,maxspeed,wheels,colour):\n",
    "        self.__surface=surface\n",
    "        self.maxspeed=maxspeed\n",
    "        self.wheels=wheels\n",
    "        self.colour=colour\n",
    "        vehicle.__sumu=wheels*4\n",
    "    def __display(self):\n",
    "        print(\"Surface Required : \",self.__surface)\n",
    "        print(\"Max Speed : \",self.maxspeed)\n",
    "        print(\"No Of Wheels : \",self.wheels)\n",
    "        print(\"Colour : \",self.colour)\n",
    "        print(\"Sumu : \",vehicle.__sumu)\n",
    "c=vehicle('land',240,3,'silver')\n",
    "c._vehicle__display()\n",
    "print(vehicle._vehicle__sumu)\n",
    "print(c._vehicle__surface)\n",
    "        "
   ]
  },
  {
   "cell_type": "code",
   "execution_count": null,
   "metadata": {},
   "outputs": [],
   "source": []
  }
 ],
 "metadata": {
  "kernelspec": {
   "display_name": "Python 3",
   "language": "python",
   "name": "python3"
  },
  "language_info": {
   "codemirror_mode": {
    "name": "ipython",
    "version": 3
   },
   "file_extension": ".py",
   "mimetype": "text/x-python",
   "name": "python",
   "nbconvert_exporter": "python",
   "pygments_lexer": "ipython3",
   "version": "3.8.5"
  }
 },
 "nbformat": 4,
 "nbformat_minor": 4
}
