{
 "cells": [
  {
   "cell_type": "markdown",
   "metadata": {},
   "source": [
    "## Division Of Two Numbers"
   ]
  },
  {
   "cell_type": "code",
   "execution_count": 29,
   "metadata": {},
   "outputs": [
    {
     "name": "stdout",
     "output_type": "stream",
     "text": [
      "Enter The Numerator : 23\n",
      "Enter The Denominator : dfa\n",
      "The Numerator And Denomintor Should Be Numbers And Check For The Name Error:(\n",
      "This Will Be Executed Independent Of Whether There Is An Exception Or Not\n"
     ]
    }
   ],
   "source": [
    "class custom_exception(Exception):\n",
    "    pass\n",
    "try:\n",
    "    n=float(input(\"Enter The Numerator : \"))\n",
    "    d=float(input(\"Enter The Denominator : \"))\n",
    "    if d==0:\n",
    "        raise custom_exception()\n",
    "    result=n/d\n",
    "except custom_exception:\n",
    "    print(\"This Is From Custom Exception\")\n",
    "except ZeroDivisionError:\n",
    "    print(\"The Denomintor Should Not Be Zero :(\")\n",
    "except (ValueError,NameError):\n",
    "    print(\"The Numerator And Denomintor Should Be Numbers And Check For The Name Error:(\")\n",
    "except:\n",
    "    print(\"There Is Some Other Error :(\")\n",
    "else:\n",
    "    print(\"Numerator : \",n)\n",
    "    print(\"Denominator : \",d)\n",
    "    print(\"Result : \",'{0:.4f}'.format(result))\n",
    "finally:\n",
    "    print(\"This Will Be Executed Independent Of Whether There Is An Exception Or Not\")\n"
   ]
  },
  {
   "cell_type": "code",
   "execution_count": null,
   "metadata": {},
   "outputs": [],
   "source": []
  },
  {
   "cell_type": "code",
   "execution_count": null,
   "metadata": {},
   "outputs": [],
   "source": []
  }
 ],
 "metadata": {
  "kernelspec": {
   "display_name": "Python 3",
   "language": "python",
   "name": "python3"
  },
  "language_info": {
   "codemirror_mode": {
    "name": "ipython",
    "version": 3
   },
   "file_extension": ".py",
   "mimetype": "text/x-python",
   "name": "python",
   "nbconvert_exporter": "python",
   "pygments_lexer": "ipython3",
   "version": "3.8.5"
  }
 },
 "nbformat": 4,
 "nbformat_minor": 4
}
