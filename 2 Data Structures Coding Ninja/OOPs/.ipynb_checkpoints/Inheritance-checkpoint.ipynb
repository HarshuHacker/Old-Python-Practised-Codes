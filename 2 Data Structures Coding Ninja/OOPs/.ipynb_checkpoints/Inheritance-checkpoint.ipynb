{
 "cells": [
  {
   "cell_type": "code",
   "execution_count": 10,
   "metadata": {},
   "outputs": [
    {
     "name": "stdout",
     "output_type": "stream",
     "text": [
      "Car : \n",
      "Max Speed :  320\n",
      "Surface Required :  land\n",
      "Colour :  silver\n",
      "Number Of Wheels :  4\n",
      "\n",
      "Boat : \n",
      "Max Speed :  140\n",
      "Surface Required :  water\n",
      "Size :  10000\n",
      "Number Of Seats :  60\n"
     ]
    }
   ],
   "source": [
    "class vehicle:\n",
    "    def __init__(self,maxspeed,surface):\n",
    "        self.maxspeed=maxspeed\n",
    "        self.surface=surface\n",
    "    def dis(self):\n",
    "        print('Max Speed : ',self.maxspeed)\n",
    "        print('Surface Required : ',self.surface)\n",
    "class car(vehicle):\n",
    "    def __init__(self,maxspeed,surface,colour,wheels):\n",
    "        super().__init__(maxspeed,surface)\n",
    "        super().dis()\n",
    "        self.colour=colour\n",
    "        self.wheels=wheels\n",
    "        print('Colour : ',self.colour)\n",
    "        print('Number Of Wheels : ',self.wheels)\n",
    "class boat(vehicle):\n",
    "    def __init__(self,maxspeed,surface,size,seats):\n",
    "        super().__init__(maxspeed,surface)\n",
    "        super().dis()\n",
    "        self.size=size\n",
    "        self.seats=seats\n",
    "        print('Size : ',self.size)\n",
    "        print('Number Of Seats : ',self.seats)\n",
    "print(\"Car : \")\n",
    "c=car(320,'land','silver',4)\n",
    "print()\n",
    "print(\"Boat : \")\n",
    "b=boat(140,'water',10000,60)"
   ]
  },
  {
   "cell_type": "code",
   "execution_count": null,
   "metadata": {},
   "outputs": [],
   "source": []
  }
 ],
 "metadata": {
  "kernelspec": {
   "display_name": "Python 3",
   "language": "python",
   "name": "python3"
  },
  "language_info": {
   "codemirror_mode": {
    "name": "ipython",
    "version": 3
   },
   "file_extension": ".py",
   "mimetype": "text/x-python",
   "name": "python",
   "nbconvert_exporter": "python",
   "pygments_lexer": "ipython3",
   "version": "3.8.5"
  }
 },
 "nbformat": 4,
 "nbformat_minor": 4
}
