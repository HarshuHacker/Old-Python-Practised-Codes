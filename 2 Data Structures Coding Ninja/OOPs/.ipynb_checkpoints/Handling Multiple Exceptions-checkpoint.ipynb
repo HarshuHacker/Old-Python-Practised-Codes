{
 "cells": [
  {
   "cell_type": "code",
   "execution_count": 1,
   "metadata": {},
   "outputs": [
    {
     "name": "stdout",
     "output_type": "stream",
     "text": [
      "Enter Num 1 : 5\n",
      "Enter Num 2 : 0\n",
      "Denominator Should Not Be Zero\n",
      "Enter Num 1 : 5\n",
      "Enter Num 2 : fsg\n",
      "Numerator and Denominator Should Be Integer\n",
      "Enter Num 1 : 5\n",
      "Enter Num 2 : 6\n",
      "0.8333333333333334\n"
     ]
    }
   ],
   "source": [
    "while True:\n",
    "    try:\n",
    "        num1=int(input(\"Enter Num 1 : \"))\n",
    "        num2=int(input(\"Enter Num 2 : \"))\n",
    "        result=num1/num2\n",
    "        print(result)\n",
    "        break\n",
    "    except ZeroDivisionError:\n",
    "        print('Denominator Should Not Be Zero')\n",
    "    except ValueError:\n",
    "        print('Numerator and Denominator Should Be Integer')"
   ]
  },
  {
   "cell_type": "code",
   "execution_count": 3,
   "metadata": {},
   "outputs": [
    {
     "name": "stdout",
     "output_type": "stream",
     "text": [
      "Enter Num 1 : 5\n",
      "Enter Num 2 : 0\n",
      "Numerator and Denominator Should Be Integer And Denominator Should Not Be Zero\n",
      "Enter Num 1 : 5\n",
      "Enter Num 2 : fdsh\n",
      "Numerator and Denominator Should Be Integer And Denominator Should Not Be Zero\n",
      "Enter Num 1 : 5\n",
      "Enter Num 2 : 5\n",
      "1.0\n"
     ]
    }
   ],
   "source": [
    "while True:\n",
    "    try:\n",
    "        num1=int(input(\"Enter Num 1 : \"))\n",
    "        num2=int(input(\"Enter Num 2 : \"))\n",
    "        result=num1/num2\n",
    "        print(result)\n",
    "        break\n",
    "    except (ZeroDivisionError,ValueError):\n",
    "        print('Numerator and Denominator Should Be Integer And Denominator Should Not Be Zero')"
   ]
  },
  {
   "cell_type": "code",
   "execution_count": null,
   "metadata": {},
   "outputs": [],
   "source": []
  }
 ],
 "metadata": {
  "kernelspec": {
   "display_name": "Python 3",
   "language": "python",
   "name": "python3"
  },
  "language_info": {
   "codemirror_mode": {
    "name": "ipython",
    "version": 3
   },
   "file_extension": ".py",
   "mimetype": "text/x-python",
   "name": "python",
   "nbconvert_exporter": "python",
   "pygments_lexer": "ipython3",
   "version": "3.8.5"
  }
 },
 "nbformat": 4,
 "nbformat_minor": 4
}
