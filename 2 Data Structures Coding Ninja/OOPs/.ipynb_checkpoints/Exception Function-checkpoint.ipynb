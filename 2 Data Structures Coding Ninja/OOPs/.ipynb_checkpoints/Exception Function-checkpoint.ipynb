{
 "cells": [
  {
   "cell_type": "code",
   "execution_count": 4,
   "metadata": {},
   "outputs": [
    {
     "name": "stdout",
     "output_type": "stream",
     "text": [
      "Enter Num 1 : 5\n",
      "Enter Num 2 : 0\n",
      "Denominator Should Not Be Zero\n",
      "Enter Num 1 : 5\n",
      "Enter Num 2 : 1\n",
      "5.0\n"
     ]
    }
   ],
   "source": [
    "class zerodenominator(ZeroDivisionError):\n",
    "    pass\n",
    "while True:\n",
    "    try:\n",
    "        num1=int(input(\"Enter Num 1 : \"))\n",
    "        num2=int(input(\"Enter Num 2 : \"))\n",
    "        if num2==0:\n",
    "            raise zerodenominator\n",
    "        result=num1/num2\n",
    "        print(result)\n",
    "        break\n",
    "    except ZeroDivisionError:\n",
    "        print('Denominator Should Not Be Zero')\n",
    "    except zerodenominator:\n",
    "        print('Custom Exception Called')"
   ]
  },
  {
   "cell_type": "code",
   "execution_count": 5,
   "metadata": {},
   "outputs": [
    {
     "name": "stdout",
     "output_type": "stream",
     "text": [
      "Enter Num 1 : 5\n",
      "Enter Num 2 : 0\n",
      "Custom Exception Called\n",
      "Enter Num 1 : 5\n",
      "Enter Num 2 : 1\n",
      "5.0\n"
     ]
    }
   ],
   "source": [
    "class zerodenominator(ZeroDivisionError):\n",
    "    pass\n",
    "while True:\n",
    "    try:\n",
    "        num1=int(input(\"Enter Num 1 : \"))\n",
    "        num2=int(input(\"Enter Num 2 : \"))\n",
    "        if num2==0:\n",
    "            raise zerodenominator\n",
    "        result=num1/num2\n",
    "        print(result)\n",
    "        break\n",
    "    except zerodenominator:\n",
    "        print('Custom Exception Called')\n",
    "    except ZeroDivisionError:\n",
    "        print('Denominator Should Not Be Zero')"
   ]
  },
  {
   "cell_type": "code",
   "execution_count": 6,
   "metadata": {},
   "outputs": [
    {
     "ename": "SyntaxError",
     "evalue": "default 'except:' must be last (<ipython-input-6-5641d086e7c1>, line 11)",
     "output_type": "error",
     "traceback": [
      "\u001b[0;36m  File \u001b[0;32m\"<ipython-input-6-5641d086e7c1>\"\u001b[0;36m, line \u001b[0;32m11\u001b[0m\n\u001b[0;31m    break\u001b[0m\n\u001b[0m    ^\u001b[0m\n\u001b[0;31mSyntaxError\u001b[0m\u001b[0;31m:\u001b[0m default 'except:' must be last\n"
     ]
    }
   ],
   "source": [
    "class zerodenominator(Exception):\n",
    "    pass\n",
    "while True:\n",
    "    try:\n",
    "        num1=int(input(\"Enter Num 1 : \"))\n",
    "        num2=int(input(\"Enter Num 2 : \"))\n",
    "        if num2==0:\n",
    "            raise zerodenominator\n",
    "        result=num1/num2\n",
    "        print(result)\n",
    "        break\n",
    "    except:\n",
    "        print('Custom Exception Called')\n",
    "    except ZeroDivisionError:\n",
    "        print('Denominator Should Not Be Zero')"
   ]
  },
  {
   "cell_type": "code",
   "execution_count": null,
   "metadata": {},
   "outputs": [
    {
     "name": "stdout",
     "output_type": "stream",
     "text": [
      "Enter Num 1 : 5\n",
      "Enter Num 2 : 0\n",
      "Custom Exception Called\n"
     ]
    }
   ],
   "source": [
    "class zerodenominator(Exception):\n",
    "    pass\n",
    "while True:\n",
    "    try:\n",
    "        num1=int(input(\"Enter Num 1 : \"))\n",
    "        num2=int(input(\"Enter Num 2 : \"))\n",
    "        if num2==0:\n",
    "            raise zerodenominator\n",
    "        result=num1/num2\n",
    "        print(result)\n",
    "        break\n",
    "    except ZeroDivisionError:\n",
    "        print('Denominator Should Not Be Zero')\n",
    "    except:\n",
    "        print('Custom Exception Called')"
   ]
  },
  {
   "cell_type": "code",
   "execution_count": null,
   "metadata": {},
   "outputs": [],
   "source": []
  }
 ],
 "metadata": {
  "kernelspec": {
   "display_name": "Python 3",
   "language": "python",
   "name": "python3"
  },
  "language_info": {
   "codemirror_mode": {
    "name": "ipython",
    "version": 3
   },
   "file_extension": ".py",
   "mimetype": "text/x-python",
   "name": "python",
   "nbconvert_exporter": "python",
   "pygments_lexer": "ipython3",
   "version": "3.8.5"
  }
 },
 "nbformat": 4,
 "nbformat_minor": 4
}
