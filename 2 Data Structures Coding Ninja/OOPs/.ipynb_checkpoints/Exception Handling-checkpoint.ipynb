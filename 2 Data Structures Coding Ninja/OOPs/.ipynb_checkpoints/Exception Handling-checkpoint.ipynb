{
 "cells": [
  {
   "cell_type": "code",
   "execution_count": 17,
   "metadata": {},
   "outputs": [
    {
     "name": "stdout",
     "output_type": "stream",
     "text": [
      "Enter Num 1 : 5\n",
      "Enter Num 2 : 0\n",
      "Denominator Should Not Be Zero\n",
      "Enter Num 1 : 7\n",
      "Enter Num 2 : 0\n",
      "Denominator Should Not Be Zero\n",
      "Enter Num 1 : 3\n",
      "Enter Num 2 : 1\n",
      "3.0\n"
     ]
    }
   ],
   "source": [
    "while True:\n",
    "    try:\n",
    "        num1=int(input(\"Enter Num 1 : \"))\n",
    "        num2=int(input(\"Enter Num 2 : \"))\n",
    "        result=num1/num2\n",
    "        print(result)\n",
    "        break\n",
    "    except ZeroDivisionError:\n",
    "        print('Denominator Should Not Be Zero')"
   ]
  },
  {
   "cell_type": "code",
   "execution_count": 18,
   "metadata": {},
   "outputs": [
    {
     "name": "stdout",
     "output_type": "stream",
     "text": [
      "Enter Num 1 : 435\n",
      "Enter Num 2 : f\n",
      "Numerator and Denominator Should Be Integer\n"
     ]
    }
   ],
   "source": [
    "try:\n",
    "    num1=int(input(\"Enter Num 1 : \"))\n",
    "    num2=int(input(\"Enter Num 2 : \"))\n",
    "    result=num1/num2\n",
    "    print(result)\n",
    "except ValueError:\n",
    "    print('Numerator and Denominator Should Be Integer')"
   ]
  },
  {
   "cell_type": "code",
   "execution_count": 15,
   "metadata": {},
   "outputs": [
    {
     "name": "stdout",
     "output_type": "stream",
     "text": [
      "Enter Num 1 : 4\n",
      "Enter Num 2 : fe\n",
      "All Type Of Exception Handeled\n"
     ]
    }
   ],
   "source": [
    "try:\n",
    "    num1=int(input(\"Enter Num 1 : \"))\n",
    "    num2=int(input(\"Enter Num 2 : \"))\n",
    "    result=num1/num2\n",
    "    print(result)\n",
    "except :\n",
    "    print('All Type Of Exception Handeled')"
   ]
  }
 ],
 "metadata": {
  "kernelspec": {
   "display_name": "Python 3",
   "language": "python",
   "name": "python3"
  },
  "language_info": {
   "codemirror_mode": {
    "name": "ipython",
    "version": 3
   },
   "file_extension": ".py",
   "mimetype": "text/x-python",
   "name": "python",
   "nbconvert_exporter": "python",
   "pygments_lexer": "ipython3",
   "version": "3.8.5"
  }
 },
 "nbformat": 4,
 "nbformat_minor": 4
}
