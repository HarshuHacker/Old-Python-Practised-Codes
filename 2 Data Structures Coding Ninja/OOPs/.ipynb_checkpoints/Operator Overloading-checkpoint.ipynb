{
 "cells": [
  {
   "cell_type": "code",
   "execution_count": 35,
   "metadata": {},
   "outputs": [
    {
     "name": "stdout",
     "output_type": "stream",
     "text": [
      "True\n"
     ]
    }
   ],
   "source": [
    "import math\n",
    "class point:\n",
    "    def __init__(self,x,y):\n",
    "        self.x=x\n",
    "        self.y=y\n",
    "    \n",
    "    def __lt__(self,obj):\n",
    "        return math.sqrt(self.x**2+self.y**2)<math.sqrt(obj.x**2+obj.y**2)\n",
    "p1=point(1,2)\n",
    "p2=point(3,4)\n",
    "p3=p1<p2\n",
    "print(p3)"
   ]
  },
  {
   "cell_type": "code",
   "execution_count": 19,
   "metadata": {},
   "outputs": [
    {
     "name": "stdout",
     "output_type": "stream",
     "text": [
      "(40, 60)\n"
     ]
    }
   ],
   "source": [
    "class point:\n",
    "    def __init__(self,x,y):\n",
    "        self.__x=x\n",
    "        self.__y=y\n",
    "    \n",
    "    def __add__(self,obj):\n",
    "        return self.__x+obj.__x,self.__y+obj.__y\n",
    "    \n",
    "p1=point(10,20)\n",
    "p2=point(30,40)\n",
    "p3=p1+p2\n",
    "print(p3)"
   ]
  }
 ],
 "metadata": {
  "kernelspec": {
   "display_name": "Python 3",
   "language": "python",
   "name": "python3"
  },
  "language_info": {
   "codemirror_mode": {
    "name": "ipython",
    "version": 3
   },
   "file_extension": ".py",
   "mimetype": "text/x-python",
   "name": "python",
   "nbconvert_exporter": "python",
   "pygments_lexer": "ipython3",
   "version": "3.8.5"
  }
 },
 "nbformat": 4,
 "nbformat_minor": 4
}
