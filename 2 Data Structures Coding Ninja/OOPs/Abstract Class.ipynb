{
 "cells": [
  {
   "cell_type": "code",
   "execution_count": 31,
   "metadata": {},
   "outputs": [
    {
     "name": "stdout",
     "output_type": "stream",
     "text": [
      "This Is Auto Class : \n",
      "auto start \n",
      "This Is Start :)\n",
      "Car Start :  10\n",
      "Car Stop :  20\n",
      "auto drive \n",
      "Car Drive :  300\n"
     ]
    }
   ],
   "source": [
    "from abc import ABC,abstractmethod\n",
    "class auto(ABC):\n",
    "    def __init__(self):\n",
    "        print(\"This Is Auto Class : \")\n",
    "    @abstractmethod\n",
    "    def start(self):\n",
    "        print(\"auto start \")\n",
    "    @abstractmethod\n",
    "    def stop(self):\n",
    "        print(\"auto stop \")\n",
    "    @abstractmethod\n",
    "    def drive(self):\n",
    "        print(\"auto drive \")\n",
    "class car(auto):\n",
    "    def __init__(self,startspeed,stopspeed,drivespeed):\n",
    "        super().__init__()\n",
    "        self.startspeed=startspeed\n",
    "        self.drivespeed=drivespeed\n",
    "    def start(self,startspeed):\n",
    "        super().start()\n",
    "        print('This Is Start :)')\n",
    "        self.startspeed=startspeed\n",
    "        print(\"Car Start : \",self.startspeed)\n",
    "    def stop(self,stopspeed):\n",
    "        self.stopspeed=stopspeed\n",
    "        print(\"Car Stop : \",self.stopspeed)\n",
    "    def drive(self):\n",
    "        super().drive()\n",
    "        print(\"Car Drive : \",self.drivespeed)\n",
    "c=car(100,200,300)\n",
    "c.start(10)\n",
    "c.stop(20)\n",
    "c.drive()"
   ]
  },
  {
   "cell_type": "code",
   "execution_count": null,
   "metadata": {},
   "outputs": [],
   "source": []
  }
 ],
 "metadata": {
  "kernelspec": {
   "display_name": "Python 3",
   "language": "python",
   "name": "python3"
  },
  "language_info": {
   "codemirror_mode": {
    "name": "ipython",
    "version": 3
   },
   "file_extension": ".py",
   "mimetype": "text/x-python",
   "name": "python",
   "nbconvert_exporter": "python",
   "pygments_lexer": "ipython3",
   "version": "3.8.5"
  }
 },
 "nbformat": 4,
 "nbformat_minor": 4
}
