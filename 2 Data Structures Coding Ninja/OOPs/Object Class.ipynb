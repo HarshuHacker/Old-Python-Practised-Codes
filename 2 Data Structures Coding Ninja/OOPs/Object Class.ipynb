{
 "cells": [
  {
   "cell_type": "code",
   "execution_count": 8,
   "metadata": {},
   "outputs": [
    {
     "name": "stdout",
     "output_type": "stream",
     "text": [
      "This Is A Student Class\n"
     ]
    }
   ],
   "source": [
    "class student(object):\n",
    "    def __init__(self,radius):\n",
    "        self.radius=radius\n",
    "    def __str__(self):\n",
    "        return(\"This Is A Student Class\")\n",
    "s=student(3)\n",
    "print(s)"
   ]
  },
  {
   "cell_type": "code",
   "execution_count": 9,
   "metadata": {},
   "outputs": [
    {
     "name": "stdout",
     "output_type": "stream",
     "text": [
      "<__main__.student object at 0x7f85e004f2b0>\n"
     ]
    }
   ],
   "source": [
    "class student(object):\n",
    "    def __init__(self,radius):\n",
    "        self.radius=radius\n",
    "s=student(3)\n",
    "print(s)"
   ]
  },
  {
   "cell_type": "code",
   "execution_count": null,
   "metadata": {},
   "outputs": [],
   "source": []
  }
 ],
 "metadata": {
  "kernelspec": {
   "display_name": "Python 3",
   "language": "python",
   "name": "python3"
  },
  "language_info": {
   "codemirror_mode": {
    "name": "ipython",
    "version": 3
   },
   "file_extension": ".py",
   "mimetype": "text/x-python",
   "name": "python",
   "nbconvert_exporter": "python",
   "pygments_lexer": "ipython3",
   "version": "3.8.5"
  }
 },
 "nbformat": 4,
 "nbformat_minor": 4
}
