{
 "cells": [
  {
   "cell_type": "code",
   "execution_count": 6,
   "id": "0397a536",
   "metadata": {},
   "outputs": [],
   "source": [
    "class graph:\n",
    "    def __init__(self,noofver):\n",
    "        self.noofver=noofver\n",
    "        self.adj=[[0 for i in range(noofver)]for j in range(noofver)]\n",
    "        \n",
    "    def addEdge(self,v1,v2):\n",
    "        self.adj[v1][v2]=1\n",
    "        self.adj[v2][v1]=1\n",
    "        \n",
    "    def removeEdge(self,v1,v2):\n",
    "        self.adj[v1][v2]=0\n",
    "        \n",
    "    def containEdge(self):\n",
    "        return False if self.adj[v1][v2]==0 else True\n",
    "    \n",
    "    def __str__(self):\n",
    "        return str(self.adj)"
   ]
  },
  {
   "cell_type": "code",
   "execution_count": 12,
   "id": "0c8dc363",
   "metadata": {
    "scrolled": true
   },
   "outputs": [
    {
     "name": "stdout",
     "output_type": "stream",
     "text": [
      "[[0, 1, 0, 0, 0], [1, 0, 1, 1, 0], [0, 1, 0, 0, 1], [0, 1, 0, 0, 0], [0, 0, 1, 0, 0]]\n"
     ]
    }
   ],
   "source": [
    "g=graph(5)\n",
    "g.addEdge(0,1)\n",
    "g.addEdge(1,3)\n",
    "g.addEdge(2,4)\n",
    "g.addEdge(2,1)\n",
    "print(g)\n",
    "# for i in g.adj:\n",
    "#     print(i)"
   ]
  }
 ],
 "metadata": {
  "kernelspec": {
   "display_name": "Python 3",
   "language": "python",
   "name": "python3"
  },
  "language_info": {
   "codemirror_mode": {
    "name": "ipython",
    "version": 3
   },
   "file_extension": ".py",
   "mimetype": "text/x-python",
   "name": "python",
   "nbconvert_exporter": "python",
   "pygments_lexer": "ipython3",
   "version": "3.8.8"
  }
 },
 "nbformat": 4,
 "nbformat_minor": 5
}
