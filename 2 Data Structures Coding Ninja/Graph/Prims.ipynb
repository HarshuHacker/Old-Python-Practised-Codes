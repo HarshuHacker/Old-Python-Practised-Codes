{
 "cells": [
  {
   "cell_type": "code",
   "execution_count": 36,
   "id": "fa1c8d08",
   "metadata": {},
   "outputs": [
    {
     "name": "stdout",
     "output_type": "stream",
     "text": [
      "0 1 2\n",
      "1 3 2\n",
      "2 3 2\n"
     ]
    }
   ],
   "source": [
    "import sys\n",
    "class graph:\n",
    "    def __init__(self,ver):\n",
    "        self.ver=ver\n",
    "        self.adj=[[-1 for i in range(ver)]for j in range(ver)]\n",
    "    \n",
    "    def addEdge(self,v1,v2,wt):\n",
    "        self.adj[v1][v2]=wt\n",
    "        self.adj[v2][v1]=wt\n",
    "        \n",
    "    def getmin(self,i):\n",
    "        for j in range(self.ver):\n",
    "            if(self.adj[i][j]!=-1 and self.weight[j]>self.adj[i][j] and self.visited[j]==False):\n",
    "                self.weight[j]=self.adj[i][j]\n",
    "                self.parent[j]=i\n",
    "        self.visited[i]=True\n",
    "        minw=sys.maxsize\n",
    "        for k in range(self.ver):\n",
    "            if(self.visited[k]==False):\n",
    "                if(self.weight[k]<minw):\n",
    "                    minw=self.weight[k]\n",
    "                    ans=k\n",
    "        return ans\n",
    "                \n",
    "    def prims(self):\n",
    "        self.visited=[False for i in range(self.ver)]\n",
    "        self.parent=[-1 for i in range(self.ver)]\n",
    "        self.weight=[sys.maxsize for i in range(self.ver)]\n",
    "        self.weight[0]=0\n",
    "        next=0\n",
    "        for i in range(self.ver-1):\n",
    "            minver=self.getmin(next)\n",
    "            if(self.parent[minver]!=-1):\n",
    "                if(self.parent[minver]<minver):\n",
    "                    print(self.parent[minver],minver,self.weight[minver])\n",
    "                else:\n",
    "                    print(minver,self.parent[minver],self.weight[minver])\n",
    "            next=minver\n",
    "            \n",
    "ver=4\n",
    "edges=4\n",
    "g=graph(ver)\n",
    "g.addEdge(1,2,6)\n",
    "g.addEdge(2,3,2)\n",
    "g.addEdge(1,3,2)\n",
    "g.addEdge(1,0,2)\n",
    "g.prims()"
   ]
  },
  {
   "cell_type": "code",
   "execution_count": 45,
   "id": "215b8fcf",
   "metadata": {},
   "outputs": [
    {
     "name": "stdout",
     "output_type": "stream",
     "text": [
      "0 0\n",
      "1 2\n",
      "2 6\n",
      "3 4\n"
     ]
    }
   ],
   "source": [
    "import sys\n",
    "class graph:\n",
    "    def __init__(self,ver):\n",
    "        self.ver=ver\n",
    "        self.adj=[[-1 for i in range(ver)]for j in range(ver)]\n",
    "    \n",
    "    def addEdge(self,v1,v2,wt):\n",
    "        self.adj[v1][v2]=wt\n",
    "        self.adj[v2][v1]=wt\n",
    "        \n",
    "    def getmin(self,i):\n",
    "        for j in range(self.ver):\n",
    "            if(self.adj[i][j]!=-1 and self.weight[j]>self.adj[i][j]+self.weight[i] and self.visited[j]==False):\n",
    "                self.weight[j]=self.adj[i][j]+self.weight[i]\n",
    "        self.visited[i]=True\n",
    "        minw=sys.maxsize\n",
    "        for k in range(self.ver):\n",
    "            if(self.visited[k]==False):\n",
    "                if(self.weight[k]<minw):\n",
    "                    minw=self.weight[k]\n",
    "                    ans=k\n",
    "        return ans\n",
    "                \n",
    "    def dijkstra(self):\n",
    "        self.visited=[False for i in range(self.ver)]\n",
    "        self.parent=[-1 for i in range(self.ver)]\n",
    "        self.weight=[sys.maxsize for i in range(self.ver)]\n",
    "        self.weight[0]=0\n",
    "        next=0\n",
    "        for i in range(self.ver-1):\n",
    "            minver=self.getmin(next)\n",
    "            next=minver\n",
    "        for i in range(self.ver):\n",
    "            print(i,self.weight[i])\n",
    "            \n",
    "ver=4\n",
    "edges=4\n",
    "g=graph(ver)\n",
    "g.addEdge(1,2,6)\n",
    "g.addEdge(2,3,2)\n",
    "g.addEdge(1,3,2)\n",
    "g.addEdge(1,0,2)\n",
    "g.dijkstra() "
   ]
  },
  {
   "cell_type": "code",
   "execution_count": null,
   "id": "72e80a1d",
   "metadata": {},
   "outputs": [],
   "source": [
    "# 5 7\n",
    "# 0 1 4 \n",
    "# 0 2 8\n",
    "# 1 2 2 \n",
    "# 1 3 6\n",
    "# 2 4 9 \n",
    "# 3 4 5\n",
    "# 2 3 3 "
   ]
  }
 ],
 "metadata": {
  "kernelspec": {
   "display_name": "Python 3",
   "language": "python",
   "name": "python3"
  },
  "language_info": {
   "codemirror_mode": {
    "name": "ipython",
    "version": 3
   },
   "file_extension": ".py",
   "mimetype": "text/x-python",
   "name": "python",
   "nbconvert_exporter": "python",
   "pygments_lexer": "ipython3",
   "version": "3.8.8"
  }
 },
 "nbformat": 4,
 "nbformat_minor": 5
}
