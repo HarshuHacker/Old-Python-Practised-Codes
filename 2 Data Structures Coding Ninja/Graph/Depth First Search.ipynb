{
 "cells": [
  {
   "cell_type": "code",
   "execution_count": 9,
   "id": "71fda653",
   "metadata": {},
   "outputs": [],
   "source": [
    "class graph:\n",
    "    def __init__(self,noofver):\n",
    "        self.noofver=noofver\n",
    "        self.adj=[[0 for i in range(noofver)]for j in range(noofver)]\n",
    "        \n",
    "    def addEdge(self,v1,v2):\n",
    "        self.adj[v1][v2]=1\n",
    "        self.adj[v2][v1]=1\n",
    "        \n",
    "    def removeEdge(self,v1,v2):\n",
    "        self.adj[v1][v2]=0\n",
    "        \n",
    "    def containEdge(self):\n",
    "        return False if self.adj[v1][v2]==0 else True\n",
    "    \n",
    "    def dfshelper(self,index,visited):\n",
    "        print(index)\n",
    "        visited[index]=True\n",
    "        for i in range(self.noofver):\n",
    "            if(self.adj[index][i]!=0 and visited[i]==False):\n",
    "                self.dfshelper(i,visited)\n",
    "        \n",
    "    def dfs(self):\n",
    "        visited=[False]*self.noofver\n",
    "        for i in range(self.noofver):\n",
    "            if(visited[i]==False):\n",
    "                self.dfshelper(i,visited)\n",
    "    \n",
    "    def __str__(self):\n",
    "        return str(self.adj)"
   ]
  },
  {
   "cell_type": "code",
   "execution_count": 10,
   "id": "3c2bf96c",
   "metadata": {},
   "outputs": [
    {
     "name": "stdout",
     "output_type": "stream",
     "text": [
      "0\n",
      "1\n",
      "3\n",
      "4\n",
      "2\n",
      "5\n",
      "6\n",
      "\n",
      "[[0, 1, 0, 1, 0, 0, 0], [1, 0, 0, 0, 0, 0, 0], [0, 0, 0, 0, 0, 1, 0], [1, 0, 0, 0, 1, 0, 0], [0, 0, 0, 1, 0, 0, 0], [0, 0, 1, 0, 0, 0, 1], [0, 0, 0, 0, 0, 1, 0]]\n",
      "\n",
      "[0, 1, 0, 1, 0, 0, 0]\n",
      "[1, 0, 0, 0, 0, 0, 0]\n",
      "[0, 0, 0, 0, 0, 1, 0]\n",
      "[1, 0, 0, 0, 1, 0, 0]\n",
      "[0, 0, 0, 1, 0, 0, 0]\n",
      "[0, 0, 1, 0, 0, 0, 1]\n",
      "[0, 0, 0, 0, 0, 1, 0]\n"
     ]
    }
   ],
   "source": [
    "g=graph(7)\n",
    "g.addEdge(0,1)\n",
    "g.addEdge(0,3)\n",
    "g.addEdge(3,4)\n",
    "g.addEdge(2,5)\n",
    "g.addEdge(5,6)\n",
    "g.dfs()\n",
    "print()\n",
    "print(g)\n",
    "print()\n",
    "for i in g.adj:\n",
    "    print(i)"
   ]
  }
 ],
 "metadata": {
  "kernelspec": {
   "display_name": "Python 3",
   "language": "python",
   "name": "python3"
  },
  "language_info": {
   "codemirror_mode": {
    "name": "ipython",
    "version": 3
   },
   "file_extension": ".py",
   "mimetype": "text/x-python",
   "name": "python",
   "nbconvert_exporter": "python",
   "pygments_lexer": "ipython3",
   "version": "3.8.8"
  }
 },
 "nbformat": 4,
 "nbformat_minor": 5
}
