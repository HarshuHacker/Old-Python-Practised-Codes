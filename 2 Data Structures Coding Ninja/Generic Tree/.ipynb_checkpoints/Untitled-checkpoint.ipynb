{
 "cells": [
  {
   "cell_type": "code",
   "execution_count": 11,
   "metadata": {},
   "outputs": [],
   "source": [
    "class Tree:\n",
    "    def __init__(self,data):\n",
    "        self.data=data\n",
    "        self.children=[]"
   ]
  },
  {
   "cell_type": "code",
   "execution_count": 12,
   "metadata": {},
   "outputs": [],
   "source": [
    "def PrintTree(root):\n",
    "    print(root.data,\":\",end='')\n",
    "    for i in root.children:\n",
    "        print(i.data,end=',')\n",
    "    print()\n",
    "    for i in root.children:\n",
    "        PrintTree(i)"
   ]
  },
  {
   "cell_type": "code",
   "execution_count": 8,
   "metadata": {},
   "outputs": [],
   "source": [
    "def TakeInput():\n",
    "    #print(\"Enter Root Data : \",end='')\n",
    "    rootData=int(input())\n",
    "    if(rootData==-1):\n",
    "        return None\n",
    "    root=Tree(rootData)\n",
    "    print(\"Enter The Number Of Children Of \",root.data,' : ',end='')\n",
    "    childrenCount=int(input())\n",
    "    for i in range(childrenCount):\n",
    "        print(\"Enter The \",i+1,\"th Child Of \",root.data,' : ',end='')\n",
    "        root.children.append(TakeInput())\n",
    "    return root"
   ]
  },
  {
   "cell_type": "code",
   "execution_count": 28,
   "metadata": {},
   "outputs": [],
   "source": [
    "import queue\n",
    "def TakeInputLevelWise():\n",
    "    print(\"Enter Root Data : \")\n",
    "    rootData=int(input())\n",
    "    if(rootData==-1):\n",
    "        return None\n",
    "    q=queue.Queue()\n",
    "    root=Tree(rootData)\n",
    "    q.put(root)\n",
    "    while(q.qsize()!=0):\n",
    "        curr=q.get()\n",
    "        print(\"Enter The Number Of Children Of \",curr.data)\n",
    "        childrenCount=int(input())\n",
    "        for i in range(childrenCount):\n",
    "            print(\"Enter The \",i+1,\"th Child Of \",curr.data)\n",
    "            childData=int(input())\n",
    "            child=Tree(childData)\n",
    "            curr.children.append(child)\n",
    "            q.put(child)\n",
    "    return root"
   ]
  },
  {
   "cell_type": "code",
   "execution_count": 34,
   "metadata": {},
   "outputs": [],
   "source": [
    "def height(root):\n",
    "    if(root==None):\n",
    "        return 0\n",
    "    maxheight=1\n",
    "    for i in root.children:\n",
    "        maxheight=1+max(maxheight,height(i))\n",
    "    return maxheight"
   ]
  },
  {
   "cell_type": "code",
   "execution_count": 35,
   "metadata": {},
   "outputs": [
    {
     "name": "stdout",
     "output_type": "stream",
     "text": [
      "Enter Root Data : \n",
      "10\n",
      "Enter The Number Of Children Of  10\n",
      "3\n",
      "Enter The  1 th Child Of  10\n",
      "20\n",
      "Enter The  2 th Child Of  10\n",
      "30\n",
      "Enter The  3 th Child Of  10\n",
      "40\n",
      "Enter The Number Of Children Of  20\n",
      "2\n",
      "Enter The  1 th Child Of  20\n",
      "40\n",
      "Enter The  2 th Child Of  20\n",
      "50\n",
      "Enter The Number Of Children Of  30\n",
      "0\n",
      "Enter The Number Of Children Of  40\n",
      "0\n",
      "Enter The Number Of Children Of  40\n",
      "0\n",
      "Enter The Number Of Children Of  50\n",
      "0\n",
      "6\n"
     ]
    }
   ],
   "source": [
    "root=TakeInputLevelWise()\n",
    "print(height(root))"
   ]
  },
  {
   "cell_type": "code",
   "execution_count": null,
   "metadata": {},
   "outputs": [],
   "source": []
  },
  {
   "cell_type": "code",
   "execution_count": null,
   "metadata": {},
   "outputs": [],
   "source": []
  }
 ],
 "metadata": {
  "kernelspec": {
   "display_name": "Python 3",
   "language": "python",
   "name": "python3"
  },
  "language_info": {
   "codemirror_mode": {
    "name": "ipython",
    "version": 3
   },
   "file_extension": ".py",
   "mimetype": "text/x-python",
   "name": "python",
   "nbconvert_exporter": "python",
   "pygments_lexer": "ipython3",
   "version": "3.8.5"
  }
 },
 "nbformat": 4,
 "nbformat_minor": 4
}
