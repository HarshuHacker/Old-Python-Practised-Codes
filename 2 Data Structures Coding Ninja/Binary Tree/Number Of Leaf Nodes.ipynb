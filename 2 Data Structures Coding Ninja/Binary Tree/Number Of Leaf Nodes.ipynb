{
 "cells": [
  {
   "cell_type": "code",
   "execution_count": 1,
   "metadata": {},
   "outputs": [],
   "source": [
    "class BinaryTree:\n",
    "    def __init__(self,data):\n",
    "        self.data=data\n",
    "        self.left=None\n",
    "        self.right=None"
   ]
  },
  {
   "cell_type": "code",
   "execution_count": 2,
   "metadata": {},
   "outputs": [],
   "source": [
    "def takeInput():\n",
    "    rootdata=int(input(\"Enter Root Data : \"))\n",
    "    if(rootdata==-1):\n",
    "        return None\n",
    "    newroot=BinaryTree(rootdata)\n",
    "    newroot.left=takeInput()\n",
    "    newroot.right=takeInput()\n",
    "    return newroot"
   ]
  },
  {
   "cell_type": "code",
   "execution_count": 10,
   "metadata": {},
   "outputs": [],
   "source": [
    "def numberOfLeafNodes(root):\n",
    "    if(root==None):\n",
    "        return 0\n",
    "    if(root.left==None and root.right==None):\n",
    "        return 1\n",
    "    leafleft=numberOfLeafNodes(root.left)\n",
    "    leafright=numberOfLeafNodes(root.right)\n",
    "    return leafleft+leafright"
   ]
  },
  {
   "cell_type": "code",
   "execution_count": 12,
   "metadata": {},
   "outputs": [
    {
     "name": "stdout",
     "output_type": "stream",
     "text": [
      "Enter Root Data : 1\n",
      "Enter Root Data : 2\n",
      "Enter Root Data : -1\n",
      "Enter Root Data : -1\n",
      "Enter Root Data : -1\n"
     ]
    },
    {
     "data": {
      "text/plain": [
       "1"
      ]
     },
     "execution_count": 12,
     "metadata": {},
     "output_type": "execute_result"
    }
   ],
   "source": [
    "root=takeInput()\n",
    "numberOfLeafNodes(root)"
   ]
  },
  {
   "cell_type": "markdown",
   "metadata": {},
   "source": []
  }
 ],
 "metadata": {
  "kernelspec": {
   "display_name": "Python 3",
   "language": "python",
   "name": "python3"
  },
  "language_info": {
   "codemirror_mode": {
    "name": "ipython",
    "version": 3
   },
   "file_extension": ".py",
   "mimetype": "text/x-python",
   "name": "python",
   "nbconvert_exporter": "python",
   "pygments_lexer": "ipython3",
   "version": "3.8.5"
  }
 },
 "nbformat": 4,
 "nbformat_minor": 4
}
