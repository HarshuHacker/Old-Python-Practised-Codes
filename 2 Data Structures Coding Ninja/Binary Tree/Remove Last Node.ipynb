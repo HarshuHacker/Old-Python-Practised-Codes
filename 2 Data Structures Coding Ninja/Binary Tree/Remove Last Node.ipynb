{
 "cells": [
  {
   "cell_type": "code",
   "execution_count": 8,
   "metadata": {},
   "outputs": [],
   "source": [
    "class BinaryTree:\n",
    "    def __init__(self,data):\n",
    "        self.data=data\n",
    "        self.left=None\n",
    "        self.right=None"
   ]
  },
  {
   "cell_type": "code",
   "execution_count": 10,
   "metadata": {},
   "outputs": [],
   "source": [
    "def printTree(root):\n",
    "    if(root==None):\n",
    "        return\n",
    "    print(root.data,end=' : ')\n",
    "    if(root.left is not None):\n",
    "        print(\"L = \",root.left.data,end=\",\")\n",
    "    if(root.right is not None):\n",
    "        print(\"R = \",root.right.data,end=\"\")\n",
    "    print()\n",
    "    printTree(root.left)\n",
    "    printTree(root.right)"
   ]
  },
  {
   "cell_type": "code",
   "execution_count": 9,
   "metadata": {},
   "outputs": [],
   "source": [
    "b1=BinaryTree(1)\n",
    "b2=BinaryTree(2)\n",
    "b3=BinaryTree(3)\n",
    "b4=BinaryTree(4)\n",
    "b5=BinaryTree(5)\n",
    "b6=BinaryTree(6)\n",
    "b7=BinaryTree(7)\n",
    "b8=BinaryTree(8)\n",
    "b9=BinaryTree(9)\n",
    "b10=BinaryTree(10)\n",
    "b11=BinaryTree(11)\n",
    "b1.left=b2\n",
    "b1.right=b3\n",
    "b2.left=b4\n",
    "b2.right=b5\n",
    "b3.left=b6\n",
    "b3.right=b7\n",
    "b4.left=b8\n",
    "b4.right=b9\n",
    "b5.left=b10\n",
    "b6.right=b11"
   ]
  },
  {
   "cell_type": "code",
   "execution_count": 21,
   "metadata": {},
   "outputs": [],
   "source": [
    "def Remove(root):\n",
    "    if(root==None):\n",
    "        return None\n",
    "    if(root.left==None and root.right==None):\n",
    "        return None\n",
    "    root.left=Remove(root.left)\n",
    "    root.right=Remove(root.right)\n",
    "    return root"
   ]
  },
  {
   "cell_type": "code",
   "execution_count": 22,
   "metadata": {},
   "outputs": [
    {
     "name": "stdout",
     "output_type": "stream",
     "text": [
      "1 : L =  2,R =  3\n",
      "2 : L =  4,R =  5\n",
      "4 : R =  9\n",
      "9 : \n",
      "5 : L =  10,\n",
      "10 : \n",
      "3 : L =  6,R =  7\n",
      "6 : R =  11\n",
      "11 : \n",
      "7 : \n",
      "After Removing : \n",
      "1 : L =  2,R =  3\n",
      "2 : L =  4,R =  5\n",
      "4 : \n",
      "5 : \n",
      "3 : L =  6,\n",
      "6 : \n"
     ]
    }
   ],
   "source": [
    "printTree(b1)\n",
    "print(\"After Removing : \")\n",
    "Remove(b1)\n",
    "printTree(b1)"
   ]
  },
  {
   "cell_type": "code",
   "execution_count": null,
   "metadata": {},
   "outputs": [],
   "source": []
  }
 ],
 "metadata": {
  "kernelspec": {
   "display_name": "Python 3",
   "language": "python",
   "name": "python3"
  },
  "language_info": {
   "codemirror_mode": {
    "name": "ipython",
    "version": 3
   },
   "file_extension": ".py",
   "mimetype": "text/x-python",
   "name": "python",
   "nbconvert_exporter": "python",
   "pygments_lexer": "ipython3",
   "version": "3.8.5"
  }
 },
 "nbformat": 4,
 "nbformat_minor": 4
}
