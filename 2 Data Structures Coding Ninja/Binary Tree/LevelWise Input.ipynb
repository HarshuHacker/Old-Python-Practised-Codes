{
 "cells": [
  {
   "cell_type": "code",
   "execution_count": 1,
   "metadata": {},
   "outputs": [],
   "source": [
    "class BinaryTree:\n",
    "    def __init__(self,data):\n",
    "        self.data=data\n",
    "        self.left=None\n",
    "        self.right=None"
   ]
  },
  {
   "cell_type": "code",
   "execution_count": 35,
   "metadata": {},
   "outputs": [],
   "source": [
    "import queue\n",
    "def printLevelWise(root):\n",
    "    if(root==None):\n",
    "        return\n",
    "    q=queue.Queue()\n",
    "    q.put(root)\n",
    "    while(q.qsize()!=0):\n",
    "        curr=q.get()\n",
    "        print(curr.data,\" : \",end='')\n",
    "        if(curr.left!=None):\n",
    "            q.put(curr.left)\n",
    "            print(\"Left = \",curr.left.data,end=\"  \")\n",
    "        if(curr.right!=None):\n",
    "            q.put(curr.right)\n",
    "            print(\"Right = \",curr.right.data,end=\"\")\n",
    "        print()"
   ]
  },
  {
   "cell_type": "code",
   "execution_count": 36,
   "metadata": {},
   "outputs": [],
   "source": [
    "def takeInputLevelWise():\n",
    "    rootData=int(input(\"Enter Root Data : \"))\n",
    "    if(rootData==-1):\n",
    "        return None\n",
    "    q=queue.Queue()\n",
    "    root=BinaryTree(rootData)\n",
    "    q.put(root)\n",
    "    while(q.qsize()!=0):\n",
    "        curr=q.get()\n",
    "        \n",
    "        print(\"Enter The Left Child Of \",curr.data,\" : \",end='')\n",
    "        left=int(input())\n",
    "        if(left!=-1):\n",
    "            leftroot=BinaryTree(left)\n",
    "            curr.left=leftroot\n",
    "            q.put(leftroot)\n",
    "        \n",
    "        print(\"Enter The Right Child Of \",curr.data,\" : \",end='')\n",
    "        right=int(input())\n",
    "        if(right!=-1):\n",
    "            rightroot=BinaryTree(right)\n",
    "            curr.right=rightroot\n",
    "            q.put(rightroot)\n",
    "        \n",
    "    return root\n",
    "    "
   ]
  },
  {
   "cell_type": "code",
   "execution_count": 37,
   "metadata": {},
   "outputs": [
    {
     "name": "stdout",
     "output_type": "stream",
     "text": [
      "Enter Root Data : 1\n",
      "Enter The Left Child Of  1  : 2\n",
      "Enter The Right Child Of  1  : 3\n",
      "Enter The Left Child Of  2  : 4\n",
      "Enter The Right Child Of  2  : 5\n",
      "Enter The Left Child Of  3  : -1\n",
      "Enter The Right Child Of  3  : -1\n",
      "Enter The Left Child Of  4  : -1\n",
      "Enter The Right Child Of  4  : -1\n",
      "Enter The Left Child Of  5  : -1\n",
      "Enter The Right Child Of  5  : -1\n",
      "1  : Left =  2  Right =  3\n",
      "2  : Left =  4  Right =  5\n",
      "3  : \n",
      "4  : \n",
      "5  : \n"
     ]
    }
   ],
   "source": [
    "printLevelWise(takeInputLevelWise())"
   ]
  },
  {
   "cell_type": "markdown",
   "metadata": {},
   "source": [
    "###### "
   ]
  },
  {
   "cell_type": "code",
   "execution_count": 7,
   "metadata": {},
   "outputs": [],
   "source": [
    "import queue\n",
    "class BinaryTree:\n",
    "    def __init__(self, data):\n",
    "        self.data = data\n",
    "        self.left = None\n",
    "        self.right = None\n",
    "        \n",
    "def mirrorBinaryTree(root) :\n",
    "    # Your code goes here\n",
    "    if(root==None):\n",
    "        return\n",
    "    root.left,root.right=root.right,root.left\n",
    "    mirrorBinaryTree(root.left)\n",
    "    mirrorBinaryTree(root.right)\n",
    "    \n",
    "def takeInputLevelWise(li):\n",
    "    rootData=li[0]\n",
    "    if(rootData==-1):\n",
    "        return None\n",
    "    q=queue.Queue()\n",
    "    root=BinaryTree(rootData)\n",
    "    q.put(root)\n",
    "    count=1\n",
    "    while(q.qsize()!=0):\n",
    "        curr=q.get()\n",
    "        left=li[count]\n",
    "        count+=1\n",
    "        if(left!=-1):\n",
    "            leftroot=BinaryTree(left)\n",
    "            curr.left=leftroot\n",
    "            q.put(leftroot)\n",
    "        right=li[count]\n",
    "        count+=1\n",
    "        if(right!=-1):\n",
    "            rightroot=BinaryTree(right)\n",
    "            curr.right=rightroot\n",
    "            q.put(rightroot)\n",
    "    return root\n",
    "\n",
    "def Compare(root1,root2):\n",
    "    if(root1==None and root2==None):\n",
    "        return True\n",
    "    printTree(root1.left,root2.left)\n",
    "    printTree(root1.right,root2.right)\n",
    "\n",
    "li1=[2,35,10,2,3,-1,-1,-1,-1,-1,-1]\n",
    "r1=takeInputLevelWise(li1)\n",
    "# li2=[9,10,35,-1,-1,3,2,-1,-1,-1,-1]\n",
    "# r2=takeInputLevelWise(li2)\n",
    "# li2.mirrorBinaryTree(r2)\n",
    "# print(Compare(r1,r2))"
   ]
  },
  {
   "cell_type": "code",
   "execution_count": null,
   "metadata": {},
   "outputs": [],
   "source": []
  }
 ],
 "metadata": {
  "kernelspec": {
   "display_name": "Python 3",
   "language": "python",
   "name": "python3"
  }
 },
 "nbformat": 4,
 "nbformat_minor": 4
}
