{
 "cells": [
  {
   "cell_type": "code",
   "execution_count": 1,
   "metadata": {},
   "outputs": [],
   "source": [
    "class BinaryTree:\n",
    "    def __init__(self,data):\n",
    "        self.data=data\n",
    "        self.left=None\n",
    "        self.right=None"
   ]
  },
  {
   "cell_type": "code",
   "execution_count": 2,
   "metadata": {},
   "outputs": [],
   "source": [
    "def printTree(root):\n",
    "    if(root==None):\n",
    "        return\n",
    "    print(root.data,end=' : ')\n",
    "    if(root.left is not None):\n",
    "        print(\"L = \",root.left.data,end=\",\")\n",
    "    if(root.right is not None):\n",
    "        print(\"R = \",root.right.data,end=\"\")\n",
    "    print()\n",
    "    printTree(root.left)\n",
    "    printTree(root.right)"
   ]
  },
  {
   "cell_type": "code",
   "execution_count": 3,
   "metadata": {},
   "outputs": [],
   "source": [
    "def takeInput():\n",
    "    rootdata=int(input(\"Enter Root Data : \"))\n",
    "    if(rootdata==-1):\n",
    "        return None\n",
    "    newroot=BinaryTree(rootdata)\n",
    "    newroot.left=takeInput()\n",
    "    newroot.right=takeInput()\n",
    "    return newroot"
   ]
  },
  {
   "cell_type": "code",
   "execution_count": 5,
   "metadata": {},
   "outputs": [
    {
     "name": "stdout",
     "output_type": "stream",
     "text": [
      "Enter Root Data : 1\n",
      "Enter Root Data : 2\n",
      "Enter Root Data : 4\n",
      "Enter Root Data : -1\n",
      "Enter Root Data : -1\n",
      "Enter Root Data : 5\n",
      "Enter Root Data : -1\n",
      "Enter Root Data : -1\n",
      "Enter Root Data : 3\n",
      "Enter Root Data : -1\n",
      "Enter Root Data : -1\n",
      "1 : L =  2,R =  3\n",
      "2 : L =  4,R =  5\n",
      "4 : \n",
      "5 : \n",
      "3 : \n"
     ]
    }
   ],
   "source": [
    "printTree(takeInput())"
   ]
  },
  {
   "cell_type": "code",
   "execution_count": null,
   "metadata": {},
   "outputs": [],
   "source": []
  }
 ],
 "metadata": {
  "kernelspec": {
   "display_name": "Python 3",
   "language": "python",
   "name": "python3"
  },
  "language_info": {
   "codemirror_mode": {
    "name": "ipython",
    "version": 3
   },
   "file_extension": ".py",
   "mimetype": "text/x-python",
   "name": "python",
   "nbconvert_exporter": "python",
   "pygments_lexer": "ipython3",
   "version": "3.8.8"
  }
 },
 "nbformat": 4,
 "nbformat_minor": 4
}
