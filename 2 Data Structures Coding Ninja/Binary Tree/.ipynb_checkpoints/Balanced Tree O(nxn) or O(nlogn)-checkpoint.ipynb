{
 "cells": [
  {
   "cell_type": "code",
   "execution_count": 1,
   "metadata": {},
   "outputs": [],
   "source": [
    "class BinaryTree:\n",
    "    def __init__(self,data):\n",
    "        self.data=data\n",
    "        self.left=None\n",
    "        self.right=None"
   ]
  },
  {
   "cell_type": "code",
   "execution_count": 8,
   "metadata": {},
   "outputs": [],
   "source": [
    "def takeInput():\n",
    "    rootdata=int(input(\"Enter Root Data : \"))\n",
    "    if(rootdata==-1):\n",
    "        return None\n",
    "    newroot=BinaryTree(rootdata)\n",
    "    newroot.left=takeInput()\n",
    "    newroot.right=takeInput()\n",
    "    return newroot"
   ]
  },
  {
   "cell_type": "code",
   "execution_count": 9,
   "metadata": {},
   "outputs": [],
   "source": [
    "def height(root):\n",
    "    if(root==None):\n",
    "        return 0\n",
    "    return 1+max(height(root.left),height(root.right))"
   ]
  },
  {
   "cell_type": "code",
   "execution_count": 10,
   "metadata": {},
   "outputs": [],
   "source": [
    "def isBalanced(root):\n",
    "    if(root==None):\n",
    "        return True\n",
    "    leftheight=height(root.left)\n",
    "    rightheight=height(root.right)\n",
    "    if(leftheight-rightheight>1 or rightheight-leftheight>1):\n",
    "        return False\n",
    "    if(isBalanced(root.left) and isBalanced(root.right)):\n",
    "        return True"
   ]
  },
  {
   "cell_type": "code",
   "execution_count": 12,
   "metadata": {},
   "outputs": [
    {
     "name": "stdout",
     "output_type": "stream",
     "text": [
      "Enter Root Data : 1\n",
      "Enter Root Data : 2\n",
      "Enter Root Data : -1\n",
      "Enter Root Data : -1\n",
      "Enter Root Data : 3\n",
      "Enter Root Data : -1\n",
      "Enter Root Data : -1\n"
     ]
    },
    {
     "data": {
      "text/plain": [
       "True"
      ]
     },
     "execution_count": 12,
     "metadata": {},
     "output_type": "execute_result"
    }
   ],
   "source": [
    "root=takeInput()\n",
    "isBalanced(root)"
   ]
  },
  {
   "cell_type": "code",
   "execution_count": null,
   "metadata": {},
   "outputs": [],
   "source": []
  }
 ],
 "metadata": {
  "kernelspec": {
   "display_name": "Python 3",
   "language": "python",
   "name": "python3"
  },
  "language_info": {
   "codemirror_mode": {
    "name": "ipython",
    "version": 3
   },
   "file_extension": ".py",
   "mimetype": "text/x-python",
   "name": "python",
   "nbconvert_exporter": "python",
   "pygments_lexer": "ipython3",
   "version": "3.8.5"
  }
 },
 "nbformat": 4,
 "nbformat_minor": 4
}
