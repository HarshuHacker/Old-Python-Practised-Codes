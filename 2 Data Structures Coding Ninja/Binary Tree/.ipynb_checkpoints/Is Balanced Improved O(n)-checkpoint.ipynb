{
 "cells": [
  {
   "cell_type": "code",
   "execution_count": 2,
   "metadata": {},
   "outputs": [],
   "source": [
    "class BinaryTree:\n",
    "    def __init__(self,data):\n",
    "        self.data=data\n",
    "        self.left=None\n",
    "        self.right=None"
   ]
  },
  {
   "cell_type": "code",
   "execution_count": 3,
   "metadata": {},
   "outputs": [],
   "source": [
    "def takeInput():\n",
    "    rootdata=int(input(\"Enter Root Data : \"))\n",
    "    if(rootdata==-1):\n",
    "        return None\n",
    "    newroot=BinaryTree(rootdata)\n",
    "    newroot.left=takeInput()\n",
    "    newroot.right=takeInput()\n",
    "    return newroot"
   ]
  },
  {
   "cell_type": "code",
   "execution_count": 4,
   "metadata": {},
   "outputs": [],
   "source": [
    "def isBalanced(root):\n",
    "    if(root==None):\n",
    "        return 0,True\n",
    "    lh,leftBalanced=isBalanced(root.left)\n",
    "    rh,rightBalanced=isBalanced(root.right)\n",
    "    height=1+max(lh,rh)\n",
    "    if(lh-rh>1 or rh-lh>1):\n",
    "        return height,False\n",
    "    if(leftBalanced and rightBalanced):\n",
    "        return height,True\n",
    "    else:\n",
    "        return height,False"
   ]
  },
  {
   "cell_type": "code",
   "execution_count": 6,
   "metadata": {},
   "outputs": [
    {
     "name": "stdout",
     "output_type": "stream",
     "text": [
      "Enter Root Data : 1\n",
      "Enter Root Data : 2\n",
      "Enter Root Data : 3\n",
      "Enter Root Data : -1\n",
      "Enter Root Data : -1\n",
      "Enter Root Data : -1\n",
      "Enter Root Data : 4\n",
      "Enter Root Data : -1\n",
      "Enter Root Data : 5\n",
      "Enter Root Data : -1\n",
      "Enter Root Data : -1\n"
     ]
    },
    {
     "data": {
      "text/plain": [
       "(3, True)"
      ]
     },
     "execution_count": 6,
     "metadata": {},
     "output_type": "execute_result"
    }
   ],
   "source": [
    "root=takeInput()\n",
    "isBalanced(root)"
   ]
  },
  {
   "cell_type": "code",
   "execution_count": null,
   "metadata": {},
   "outputs": [],
   "source": []
  }
 ],
 "metadata": {
  "kernelspec": {
   "display_name": "Python 3",
   "language": "python",
   "name": "python3"
  },
  "language_info": {
   "codemirror_mode": {
    "name": "ipython",
    "version": 3
   },
   "file_extension": ".py",
   "mimetype": "text/x-python",
   "name": "python",
   "nbconvert_exporter": "python",
   "pygments_lexer": "ipython3",
   "version": "3.8.5"
  }
 },
 "nbformat": 4,
 "nbformat_minor": 4
}
