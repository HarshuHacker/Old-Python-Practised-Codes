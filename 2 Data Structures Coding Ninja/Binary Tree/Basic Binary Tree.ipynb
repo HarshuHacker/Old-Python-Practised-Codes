{
 "cells": [
  {
   "cell_type": "code",
   "execution_count": 36,
   "metadata": {},
   "outputs": [],
   "source": [
    "class BinaryTree:\n",
    "    def __init__(self,data):\n",
    "        self.data=data\n",
    "        self.left=None\n",
    "        self.right=None\n",
    "b1=BinaryTree(1)\n",
    "b2=BinaryTree(2)\n",
    "b3=BinaryTree(3)\n",
    "b4=BinaryTree(4)\n",
    "b5=BinaryTree(5)"
   ]
  },
  {
   "cell_type": "code",
   "execution_count": 37,
   "metadata": {},
   "outputs": [],
   "source": [
    "def printTree(root):\n",
    "    if(root==None):\n",
    "        return\n",
    "    print(root.data,end=' : ')\n",
    "    if(root.left is not None):\n",
    "        print(\"L = \",root.left.data,end=\",\")\n",
    "    if(root.right is not None):\n",
    "        print(\"R = \",root.right.data,end=\"\")\n",
    "    print()\n",
    "    printTree(root.left)\n",
    "    printTree(root.right)"
   ]
  },
  {
   "cell_type": "code",
   "execution_count": 38,
   "metadata": {},
   "outputs": [],
   "source": [
    "b1.left=b2\n",
    "b1.right=b3\n",
    "b2.left=b4\n",
    "b2.right=b5"
   ]
  },
  {
   "cell_type": "code",
   "execution_count": 39,
   "metadata": {},
   "outputs": [
    {
     "name": "stdout",
     "output_type": "stream",
     "text": [
      "1 : L =  2,R =  3\n",
      "2 : L =  4,R =  5\n",
      "4 : \n",
      "5 : \n",
      "3 : \n"
     ]
    }
   ],
   "source": [
    "printTree(b1)"
   ]
  },
  {
   "cell_type": "code",
   "execution_count": null,
   "metadata": {},
   "outputs": [],
   "source": []
  }
 ],
 "metadata": {
  "kernelspec": {
   "display_name": "Python 3",
   "language": "python",
   "name": "python3"
  },
  "language_info": {
   "codemirror_mode": {
    "name": "ipython",
    "version": 3
   },
   "file_extension": ".py",
   "mimetype": "text/x-python",
   "name": "python",
   "nbconvert_exporter": "python",
   "pygments_lexer": "ipython3",
   "version": "3.8.5"
  }
 },
 "nbformat": 4,
 "nbformat_minor": 4
}
