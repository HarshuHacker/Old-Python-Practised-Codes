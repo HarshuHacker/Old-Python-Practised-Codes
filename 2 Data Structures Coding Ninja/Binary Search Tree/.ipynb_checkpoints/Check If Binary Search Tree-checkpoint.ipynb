{
 "cells": [
  {
   "cell_type": "code",
   "execution_count": 3,
   "metadata": {},
   "outputs": [],
   "source": [
    "class BinaryTree:\n",
    "    def __init__(self,data):\n",
    "        self.data=data\n",
    "        self.left=None\n",
    "        self.right=None"
   ]
  },
  {
   "cell_type": "code",
   "execution_count": 4,
   "metadata": {},
   "outputs": [],
   "source": [
    "import queue\n",
    "def printLevelWise(root):\n",
    "    if(root==None):\n",
    "        return\n",
    "    q=queue.Queue()\n",
    "    q.put(root)\n",
    "    while(q.qsize()!=0):\n",
    "        curr=q.get()\n",
    "        print(curr.data,\" : \",end='')\n",
    "        if(curr.left!=None):\n",
    "            q.put(curr.left)\n",
    "            print(\"Left = \",curr.left.data,end=\"  \")\n",
    "        if(curr.right!=None):\n",
    "            q.put(curr.right)\n",
    "            print(\"Right = \",curr.right.data,end=\"\")\n",
    "        print()"
   ]
  },
  {
   "cell_type": "code",
   "execution_count": 5,
   "metadata": {},
   "outputs": [],
   "source": [
    "def takeInputLevelWise():\n",
    "    rootData=int(input(\"Enter Root Data : \"))\n",
    "    if(rootData==-1):\n",
    "        return None\n",
    "    q=queue.Queue()\n",
    "    root=BinaryTree(rootData)\n",
    "    q.put(root)\n",
    "    while(q.qsize()!=0):\n",
    "        curr=q.get()\n",
    "        \n",
    "        print(\"Enter The Left Child Of \",curr.data,\" : \",end='')\n",
    "        left=int(input())\n",
    "        if(left!=-1):\n",
    "            leftroot=BinaryTree(left)\n",
    "            curr.left=leftroot\n",
    "            q.put(leftroot)\n",
    "        \n",
    "        print(\"Enter The Right Child Of \",curr.data,\" : \",end='')\n",
    "        right=int(input())\n",
    "        if(right!=-1):\n",
    "            rightroot=BinaryTree(right)\n",
    "            curr.right=rightroot\n",
    "            q.put(rightroot)\n",
    "        \n",
    "    return root"
   ]
  },
  {
   "cell_type": "code",
   "execution_count": 6,
   "metadata": {},
   "outputs": [],
   "source": [
    "def bstmin(root):\n",
    "    if(root==None):\n",
    "        return 99999\n",
    "    leftmin=bstmin(root.left)\n",
    "    rightmin=bstmin(root.right)\n",
    "    return min(leftmin,rightmin,root.data)"
   ]
  },
  {
   "cell_type": "code",
   "execution_count": 7,
   "metadata": {},
   "outputs": [],
   "source": [
    "def bstmax(root):\n",
    "    if(root==None):\n",
    "        return -99999\n",
    "    leftmax=bstmax(root.left)\n",
    "    rightmax=bstmax(root.right)\n",
    "    return max(leftmax,rightmax,root.data)"
   ]
  },
  {
   "cell_type": "code",
   "execution_count": 8,
   "metadata": {},
   "outputs": [],
   "source": [
    "def isBst1(root):\n",
    "    if(root==None):\n",
    "        return True\n",
    "    leftmax=bstmax(root.left)\n",
    "    rightmin=bstmin(root.right)\n",
    "    if(leftmax<root.data and root.data<=rightmin):\n",
    "        leftbst=isBst1(root.left)\n",
    "        rightbst=isBst1(root.right)\n",
    "        if(leftbst and rightbst):\n",
    "            return True\n",
    "    else:\n",
    "        return False"
   ]
  },
  {
   "cell_type": "code",
   "execution_count": 9,
   "metadata": {},
   "outputs": [],
   "source": [
    "def isBst2(root):\n",
    "    if(root==None):\n",
    "        return True\n",
    "    leftmax,leftbst=bstmax(root.left),isBst2(root.left)\n",
    "    rightmin,rightbst=bstmin(root.right),isBst2(root.right)\n",
    "    if(leftmax<root.data and root.data<=rightmin):\n",
    "        if(leftbst and rightbst):\n",
    "            return True\n",
    "    else:\n",
    "        return False"
   ]
  },
  {
   "cell_type": "code",
   "execution_count": 10,
   "metadata": {},
   "outputs": [],
   "source": [
    "def isBst3(root,l,r):\n",
    "    if(root==None):\n",
    "        return True\n",
    "    if(root.data<l or root.data>r):\n",
    "        return False\n",
    "    left=isBst3(root.left,l,root.data-1)\n",
    "    right=isBst3(root.right,root.data,r)\n",
    "    return (left and right)"
   ]
  },
  {
   "cell_type": "code",
   "execution_count": null,
   "metadata": {},
   "outputs": [],
   "source": [
    "root=takeInputLevelWise()\n",
    "print(isBst1(root))\n",
    "print(isBst3(root,-99999,99999))"
   ]
  },
  {
   "cell_type": "code",
   "execution_count": null,
   "metadata": {},
   "outputs": [],
   "source": []
  },
  {
   "cell_type": "code",
   "execution_count": null,
   "metadata": {},
   "outputs": [],
   "source": []
  }
 ],
 "metadata": {
  "kernelspec": {
   "display_name": "Python 3",
   "language": "python",
   "name": "python3"
  },
  "language_info": {
   "codemirror_mode": {
    "name": "ipython",
    "version": 3
   },
   "file_extension": ".py",
   "mimetype": "text/x-python",
   "name": "python",
   "nbconvert_exporter": "python",
   "pygments_lexer": "ipython3",
   "version": "3.8.8"
  }
 },
 "nbformat": 4,
 "nbformat_minor": 4
}
