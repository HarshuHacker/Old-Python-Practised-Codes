{
 "cells": [
  {
   "cell_type": "code",
   "execution_count": 1,
   "source": [
    "class node:\n",
    "    def __init__(self,data):\n",
    "        self.data=data\n",
    "        self.next=None\n",
    "\n",
    "def takeinput():\n",
    "    num = (int(x)for x in input().split())\n",
    "    head=None\n",
    "    tail=None\n",
    "    for i in num:\n",
    "        if(i==-1):\n",
    "            break\n",
    "        newnode=node(i)\n",
    "        if(head==None):\n",
    "            head=newnode\n",
    "            tail=newnode\n",
    "        else:\n",
    "            newnode=node(i)\n",
    "            tail.next=newnode\n",
    "            tail=newnode\n",
    "    return head\n",
    "\n",
    "def printll(head):\n",
    "    while(head!=None):  \n",
    "        print(str(head.data)+'->',end='')\n",
    "        head=head.next\n",
    "    print(\"None\")\n",
    "    return\n",
    "head=takeinput()\n",
    "printll(head)"
   ],
   "outputs": [
    {
     "output_type": "stream",
     "name": "stdout",
     "text": [
      "None\n"
     ]
    }
   ],
   "metadata": {}
  },
  {
   "cell_type": "code",
   "execution_count": null,
   "source": [],
   "outputs": [],
   "metadata": {}
  }
 ],
 "metadata": {
  "kernelspec": {
   "name": "python3",
   "display_name": "Python 3.9.7 64-bit"
  },
  "language_info": {
   "codemirror_mode": {
    "name": "ipython",
    "version": 3
   },
   "file_extension": ".py",
   "mimetype": "text/x-python",
   "name": "python",
   "nbconvert_exporter": "python",
   "pygments_lexer": "ipython3",
   "version": "3.9.7"
  },
  "interpreter": {
   "hash": "aee8b7b246df8f9039afb4144a1f6fd8d2ca17a180786b69acc140d282b71a49"
  }
 },
 "nbformat": 4,
 "nbformat_minor": 4
}