{
 "cells": [
  {
   "cell_type": "code",
   "execution_count": 15,
   "metadata": {},
   "outputs": [
    {
     "name": "stdout",
     "output_type": "stream",
     "text": [
      "5 4 3 2 1 -1\n",
      "5->4->3->2->1->None\n"
     ]
    }
   ],
   "source": [
    "class node:\n",
    "    def __init__(self,data):\n",
    "        self.data=data\n",
    "        self.next=None\n",
    "\n",
    "def takeinput():\n",
    "    num = (int(x)for x in input().split())\n",
    "    head=None\n",
    "    tail=None\n",
    "    for i in num:\n",
    "        if(i==-1):\n",
    "            break\n",
    "        newnode=node(i)\n",
    "        if(head==None):\n",
    "            head=newnode\n",
    "            tail=newnode\n",
    "        else:\n",
    "            newnode=node(i)\n",
    "            tail.next=newnode\n",
    "            tail=newnode\n",
    "    return head\n",
    "\n",
    "def printll(head):\n",
    "    while(head!=None):  \n",
    "        print(str(head.data)+'->',end='')\n",
    "        head=head.next\n",
    "    print(\"None\")\n",
    "    return\n",
    "head=takeinput()\n",
    "printll(head)"
   ]
  },
  {
   "cell_type": "code",
   "execution_count": null,
   "metadata": {},
   "outputs": [],
   "source": []
  }
 ],
 "metadata": {
  "kernelspec": {
   "display_name": "Python 3",
   "language": "python",
   "name": "python3"
  },
  "language_info": {
   "codemirror_mode": {
    "name": "ipython",
    "version": 3
   },
   "file_extension": ".py",
   "mimetype": "text/x-python",
   "name": "python",
   "nbconvert_exporter": "python",
   "pygments_lexer": "ipython3",
   "version": "3.8.5"
  }
 },
 "nbformat": 4,
 "nbformat_minor": 4
}
