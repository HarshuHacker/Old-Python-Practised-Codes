{
 "cells": [
  {
   "cell_type": "code",
   "execution_count": 23,
   "metadata": {},
   "outputs": [
    {
     "name": "stdout",
     "output_type": "stream",
     "text": [
      "1 2 3 4 5\n",
      "1 -> 2 -> 3 -> 4 -> 5 -> None\n",
      "Insert The Element To Be Inserted And The Position As Well : 9 -4\n",
      "1 -> 2 -> 3 -> 4 -> 5 -> None\n"
     ]
    }
   ],
   "source": [
    "class node:\n",
    "    def __init__(self,data):\n",
    "        self.data=data\n",
    "        self.next=None\n",
    "def takeinput():\n",
    "    head=None\n",
    "    tail=None\n",
    "    num=(int(x) for x in input().split())\n",
    "    for i in num:\n",
    "        newnode=node(i)\n",
    "        if(newnode.data==-1):\n",
    "            break\n",
    "        if(head==None):\n",
    "            head=newnode\n",
    "            tail=newnode\n",
    "        else:\n",
    "            tail.next=newnode\n",
    "            tail=newnode\n",
    "    return head\n",
    "def printnode(head):\n",
    "    while(head!=None):\n",
    "        print(head.data,\"-> \",end='')\n",
    "        head=head.next\n",
    "    print(None)\n",
    "def insertele(ele,pos,head):\n",
    "    if(pos==0):\n",
    "        newnode=node(ele)\n",
    "        newnode.next=head\n",
    "        return newnode\n",
    "    if(pos<0 or head.next==None):\n",
    "        return head\n",
    "    head.next=insertele(ele,pos-1,head.next)\n",
    "    return head\n",
    "head=takeinput()\n",
    "printnode(head)\n",
    "x,y=(int(x) for x in input(\"Insert The Element To Be Inserted And The Position As Well : \").split())\n",
    "finalhead=insertele(x,y,head) \n",
    "printnode(finalhead)"
   ]
  },
  {
   "cell_type": "code",
   "execution_count": null,
   "metadata": {},
   "outputs": [],
   "source": []
  },
  {
   "cell_type": "code",
   "execution_count": null,
   "metadata": {},
   "outputs": [],
   "source": []
  }
 ],
 "metadata": {
  "kernelspec": {
   "display_name": "Python 3",
   "language": "python",
   "name": "python3"
  },
  "language_info": {
   "codemirror_mode": {
    "name": "ipython",
    "version": 3
   },
   "file_extension": ".py",
   "mimetype": "text/x-python",
   "name": "python",
   "nbconvert_exporter": "python",
   "pygments_lexer": "ipython3",
   "version": "3.8.5"
  }
 },
 "nbformat": 4,
 "nbformat_minor": 4
}
