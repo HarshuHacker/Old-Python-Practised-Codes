{
 "cells": [
  {
   "cell_type": "code",
   "execution_count": null,
   "metadata": {},
   "outputs": [],
   "source": []
  },
  {
   "cell_type": "code",
   "execution_count": 1,
   "metadata": {},
   "outputs": [
    {
     "name": "stdout",
     "output_type": "stream",
     "text": [
      "\n",
      "None\n",
      "Insert The Element To Be Inserted And The Position As Well : 8 0\n",
      "8 -> None\n"
     ]
    }
   ],
   "source": [
    "class node:\n",
    "    def __init__(self,data):\n",
    "        self.data=data\n",
    "        self.next=None\n",
    "def takeinput():\n",
    "    head=None\n",
    "    tail=None\n",
    "    num=(int(x) for x in input().split())\n",
    "    for i in num:\n",
    "        newnode=node(i)\n",
    "        if(newnode.data==-1):\n",
    "            break\n",
    "        if(head==None):\n",
    "            head=newnode\n",
    "            tail=newnode\n",
    "        else:\n",
    "            tail.next=newnode\n",
    "            tail=newnode\n",
    "    return head\n",
    "def printnode(head):\n",
    "    while(head!=None):\n",
    "        print(head.data,\"-> \",end='')\n",
    "        head=head.next\n",
    "    print(None)\n",
    "def insertele(x,y,head):\n",
    "    count=0\n",
    "    temp=head\n",
    "    newnode=node(x)\n",
    "    if(y==0):\n",
    "        newnode.next=head\n",
    "        head=newnode\n",
    "        return head\n",
    "    while(count<y-1 and temp.next.next!=None):\n",
    "        temp=temp.next\n",
    "        count+=1\n",
    "    if(count+1==y):\n",
    "        tail=temp.next\n",
    "        temp.next=newnode\n",
    "        newnode.next=tail\n",
    "        return head\n",
    "    return head\n",
    "head=takeinput()\n",
    "printnode(head)\n",
    "x,y=(int(x) for x in input(\"Insert The Element To Be Inserted And The Position As Well : \").split())\n",
    "finalhead=insertele(x,y,head) \n",
    "printnode(finalhead)"
   ]
  }
 ],
 "metadata": {
  "kernelspec": {
   "display_name": "Python 3",
   "language": "python",
   "name": "python3"
  },
  "language_info": {
   "codemirror_mode": {
    "name": "ipython",
    "version": 3
   },
   "file_extension": ".py",
   "mimetype": "text/x-python",
   "name": "python",
   "nbconvert_exporter": "python",
   "pygments_lexer": "ipython3",
   "version": "3.8.8"
  }
 },
 "nbformat": 4,
 "nbformat_minor": 4
}
