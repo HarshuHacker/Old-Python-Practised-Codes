{
 "cells": [
  {
   "cell_type": "code",
   "execution_count": 16,
   "id": "bae4a72f",
   "metadata": {},
   "outputs": [
    {
     "name": "stdout",
     "output_type": "stream",
     "text": [
      "Enter The Size Of The Input Array : 4\n",
      "1\n",
      "1\n",
      "1\n",
      "1\n",
      "1\n",
      "0\n",
      "1\n",
      "1\n",
      "1\n",
      "1\n",
      "0\n",
      "1\n",
      "1\n",
      "1\n",
      "1\n",
      "1\n",
      "[1, 0, 0, 0]\n",
      "[1, 0, 0, 0]\n",
      "[1, 0, 0, 0]\n",
      "[1, 1, 1, 1]\n",
      "\n",
      "[1, 0, 0, 0]\n",
      "[1, 0, 0, 0]\n",
      "[1, 1, 0, 0]\n",
      "[0, 1, 1, 1]\n",
      "\n",
      "[1, 1, 1, 0]\n",
      "[0, 0, 1, 1]\n",
      "[0, 0, 0, 1]\n",
      "[0, 0, 0, 1]\n",
      "\n",
      "[1, 1, 1, 1]\n",
      "[0, 0, 0, 1]\n",
      "[0, 0, 0, 1]\n",
      "[0, 0, 0, 1]\n",
      "\n"
     ]
    }
   ],
   "source": [
    "def solution(x,y,arr,sol):\n",
    "    if(x==len(arr)-1 and y==len(arr)-1):\n",
    "        sol[x][y]=1\n",
    "        for i in sol:\n",
    "            print(i)\n",
    "        print()\n",
    "        return\n",
    "    if(x<0 or y<0 or x>=len(arr) or y>=len(arr) or arr[x][y]==0 or sol[x][y]==1):\n",
    "        return\n",
    "    sol[x][y]=1\n",
    "    solution(x+1,y,arr,sol)\n",
    "    solution(x,y+1,arr,sol)\n",
    "    solution(x-1,y,arr,sol)\n",
    "    solution(x,y-1,arr,sol)\n",
    "    sol[x][y]=0\n",
    "    return\n",
    "\n",
    "n=int(input(\"Enter The Size Of The Input Array : \"))\n",
    "arr=[[int(input()) for i in range(n)]for j in range(n)]\n",
    "sol=[[0 for i in range(n)]for j in range(n)]\n",
    "solution(0,0,arr,sol)"
   ]
  },
  {
   "cell_type": "markdown",
   "id": "50390d7d",
   "metadata": {},
   "source": []
  }
 ],
 "metadata": {
  "kernelspec": {
   "display_name": "Python 3",
   "language": "python",
   "name": "python3"
  },
  "language_info": {
   "codemirror_mode": {
    "name": "ipython",
    "version": 3
   },
   "file_extension": ".py",
   "mimetype": "text/x-python",
   "name": "python",
   "nbconvert_exporter": "python",
   "pygments_lexer": "ipython3",
   "version": "3.8.8"
  }
 },
 "nbformat": 4,
 "nbformat_minor": 5
}
