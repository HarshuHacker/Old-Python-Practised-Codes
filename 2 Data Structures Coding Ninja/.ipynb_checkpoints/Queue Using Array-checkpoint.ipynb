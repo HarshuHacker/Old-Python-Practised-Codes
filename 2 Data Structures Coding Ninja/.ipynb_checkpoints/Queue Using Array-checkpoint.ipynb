{
 "cells": [
  {
   "cell_type": "code",
   "execution_count": 26,
   "metadata": {},
   "outputs": [
    {
     "name": "stdout",
     "output_type": "stream",
     "text": [
      "10\n",
      "20\n",
      "30\n",
      "40\n",
      "\n",
      "50\n",
      "\n",
      "6\n",
      "\n",
      "False\n",
      "\n",
      "50\n",
      "60\n",
      "70\n",
      "80\n",
      "90\n",
      "100\n",
      "\n",
      "0\n",
      "\n",
      "True\n",
      "\n",
      "Queue is Empty :(\n",
      "\n",
      "Queue is Empty :(\n"
     ]
    }
   ],
   "source": [
    "class queue:\n",
    "    def __init__(self):\n",
    "        self.arr=[]\n",
    "        self.count=0\n",
    "        self.frontElement=0\n",
    "        \n",
    "    def enqueue(self,data):\n",
    "        self.arr.append(data)\n",
    "        self.count+=1\n",
    "        \n",
    "    def dequeue(self):\n",
    "        if self.isEmpty():\n",
    "            return \"Queue is Empty :(\"\n",
    "        ele=self.arr[self.frontElement]\n",
    "        self.frontElement+=1\n",
    "        self.count-=1\n",
    "        return ele\n",
    "        \n",
    "    def front(self):\n",
    "        if self.isEmpty():\n",
    "            return \"Queue is Empty :(\"\n",
    "        return self.arr[self.frontElement]\n",
    "        \n",
    "    def size(self):\n",
    "        return self.count\n",
    "        \n",
    "    def isEmpty(self):\n",
    "        if self.size()==0:\n",
    "            return True\n",
    "        else:\n",
    "            return False\n",
    "        \n",
    "q=queue()\n",
    "for i in range(1,11):\n",
    "    q.enqueue(i*10)\n",
    "for i in range(4):\n",
    "    print(q.dequeue())\n",
    "print()\n",
    "print(q.front())\n",
    "print()\n",
    "print(q.size())\n",
    "print()\n",
    "print(q.isEmpty())\n",
    "print()\n",
    "while q.size()!=0:\n",
    "    print(q.dequeue())\n",
    "print()\n",
    "print(q.size())\n",
    "print()\n",
    "print(q.isEmpty())\n",
    "print()\n",
    "print(q.dequeue())\n",
    "print()\n",
    "print(q.front())"
   ]
  },
  {
   "cell_type": "code",
   "execution_count": null,
   "metadata": {},
   "outputs": [],
   "source": []
  }
 ],
 "metadata": {
  "kernelspec": {
   "display_name": "Python 3",
   "language": "python",
   "name": "python3"
  },
  "language_info": {
   "codemirror_mode": {
    "name": "ipython",
    "version": 3
   },
   "file_extension": ".py",
   "mimetype": "text/x-python",
   "name": "python",
   "nbconvert_exporter": "python",
   "pygments_lexer": "ipython3",
   "version": "3.8.5"
  }
 },
 "nbformat": 4,
 "nbformat_minor": 4
}
