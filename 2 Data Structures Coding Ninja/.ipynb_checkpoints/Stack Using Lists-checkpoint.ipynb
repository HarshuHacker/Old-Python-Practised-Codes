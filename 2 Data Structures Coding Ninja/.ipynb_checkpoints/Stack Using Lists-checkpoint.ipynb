{
 "cells": [
  {
   "cell_type": "code",
   "execution_count": 32,
   "metadata": {},
   "outputs": [
    {
     "name": "stdout",
     "output_type": "stream",
     "text": [
      "Stack Is Empty :( \n",
      "\n",
      "100\n",
      "90\n",
      "80\n",
      "70\n",
      "\n",
      "60\n",
      "\n",
      "6\n",
      "\n",
      "False\n",
      "\n",
      "60\n",
      "50\n",
      "40\n",
      "30\n",
      "20\n",
      "10\n",
      "\n",
      "True\n",
      "\n",
      "Stack Is Empty :( \n"
     ]
    }
   ],
   "source": [
    "class stack:\n",
    "    def __init__(self):\n",
    "        self.__arr=[]\n",
    "    \n",
    "    def push(self,data):\n",
    "        self.__arr.append(data)\n",
    "        \n",
    "    def pop(self):\n",
    "        if self.isEmpty():\n",
    "            return (\"Stack Is Empty :( \")\n",
    "        return self.__arr.pop()\n",
    "        \n",
    "    def top(self):\n",
    "        if self.isEmpty():\n",
    "            return (\"Stack Is Empty :( \")\n",
    "        return self.__arr[len(self.__arr)-1]\n",
    "        \n",
    "    def size(self):\n",
    "        return len(self.__arr)\n",
    "        \n",
    "    def isEmpty(self):\n",
    "        return self.size()==0\n",
    "        \n",
    "s1=stack()\n",
    "print(s1.pop())\n",
    "\n",
    "for i in range(10):\n",
    "    s1.push((i+1)*10)\n",
    "print()\n",
    "for i in range(4):\n",
    "    print(s1.pop())\n",
    "    \n",
    "print()  \n",
    "print(s1.top())\n",
    "\n",
    "print()\n",
    "print(s1.size())\n",
    "\n",
    "print()\n",
    "print(s1.isEmpty())\n",
    "\n",
    "print()\n",
    "for i in range(6):\n",
    "    print(s1.pop())\n",
    "\n",
    "print()\n",
    "print(s1.isEmpty())\n",
    "\n",
    "print()\n",
    "print(s1.top())"
   ]
  }
 ],
 "metadata": {
  "kernelspec": {
   "display_name": "Python 3",
   "language": "python",
   "name": "python3"
  },
  "language_info": {
   "codemirror_mode": {
    "name": "ipython",
    "version": 3
   },
   "file_extension": ".py",
   "mimetype": "text/x-python",
   "name": "python",
   "nbconvert_exporter": "python",
   "pygments_lexer": "ipython3",
   "version": "3.8.5"
  }
 },
 "nbformat": 4,
 "nbformat_minor": 4
}
