{
 "cells": [
  {
   "cell_type": "code",
   "execution_count": 6,
   "metadata": {},
   "outputs": [],
   "source": [
    "def convertpi(s):\n",
    "    if(len(s)==0 or len(s)==1):\n",
    "        return s\n",
    "    if(s[0]=='p' and s[1]=='i'):\n",
    "        return '3.14'+convertpi(s[2:])\n",
    "    else:\n",
    "        return s[0]+convertpi(s[1:])"
   ]
  },
  {
   "cell_type": "code",
   "execution_count": 7,
   "metadata": {},
   "outputs": [
    {
     "name": "stdout",
     "output_type": "stream",
     "text": [
      "Enter The String : pippip\n",
      "3.14p3.14p\n"
     ]
    }
   ],
   "source": [
    "string=input(\"Enter The String : \")\n",
    "print(convertpi(string))"
   ]
  },
  {
   "cell_type": "code",
   "execution_count": null,
   "metadata": {},
   "outputs": [],
   "source": []
  }
 ],
 "metadata": {
  "kernelspec": {
   "display_name": "Python 3",
   "language": "python",
   "name": "python3"
  },
  "language_info": {
   "codemirror_mode": {
    "name": "ipython",
    "version": 3
   },
   "file_extension": ".py",
   "mimetype": "text/x-python",
   "name": "python",
   "nbconvert_exporter": "python",
   "pygments_lexer": "ipython3",
   "version": "3.8.5"
  }
 },
 "nbformat": 4,
 "nbformat_minor": 4
}
