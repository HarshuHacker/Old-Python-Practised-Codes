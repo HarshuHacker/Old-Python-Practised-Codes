{
 "cells": [
  {
   "cell_type": "code",
   "execution_count": 1,
   "metadata": {},
   "outputs": [],
   "source": [
    "def BinarySearch(li,x,s,e):\n",
    "    if(s>e):\n",
    "        return -1\n",
    "    mid=(s+e)//2\n",
    "    if(li[mid]==x):\n",
    "        return mid\n",
    "    elif(li[mid]>x):\n",
    "        return BinarySearch(li,x,s,mid-1)\n",
    "    else:\n",
    "        return BinarySearch(li,x,mid+1,e)"
   ]
  },
  {
   "cell_type": "code",
   "execution_count": 3,
   "metadata": {},
   "outputs": [
    {
     "name": "stdout",
     "output_type": "stream",
     "text": [
      "Enter The Size Of The List : 5\n",
      "1 2 3 4 5\n",
      "Enter The Element To Be Searched : 3\n",
      "2\n"
     ]
    }
   ],
   "source": [
    "n=int(input(\"Enter The Size Of The List : \"))\n",
    "num=(int(x) for x in input().split())\n",
    "li=[]\n",
    "x=int(input(\"Enter The Element To Be Searched : \"))\n",
    "for i in num:\n",
    "    li.append(i)\n",
    "print(BinarySearch(li,x,s=0,e=n-1))"
   ]
  },
  {
   "cell_type": "code",
   "execution_count": null,
   "metadata": {},
   "outputs": [],
   "source": []
  }
 ],
 "metadata": {
  "kernelspec": {
   "display_name": "Python 3",
   "language": "python",
   "name": "python3"
  },
  "language_info": {
   "codemirror_mode": {
    "name": "ipython",
    "version": 3
   },
   "file_extension": ".py",
   "mimetype": "text/x-python",
   "name": "python",
   "nbconvert_exporter": "python",
   "pygments_lexer": "ipython3",
   "version": "3.8.5"
  }
 },
 "nbformat": 4,
 "nbformat_minor": 4
}
