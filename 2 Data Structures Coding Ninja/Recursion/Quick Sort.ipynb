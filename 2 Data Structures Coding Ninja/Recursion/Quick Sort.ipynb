{
 "cells": [
  {
   "cell_type": "code",
   "execution_count": 31,
   "metadata": {},
   "outputs": [],
   "source": [
    "def partition(arr,si,ei):\n",
    "    pivot=arr[si]\n",
    "    count=0\n",
    "    for i in range(si,ei+1):\n",
    "        if(arr[i]<pivot):\n",
    "            count+=1\n",
    "    arr[si],arr[si+count]=arr[si+count],arr[si]\n",
    "    pivot_index=si+count\n",
    "    while(si<ei):\n",
    "        if(arr[si]<pivot):                       \n",
    "            si+=1\n",
    "        elif(arr[ei]>=pivot):\n",
    "            ei-=1\n",
    "        else:\n",
    "            arr[si],arr[ei]=arr[ei],arr[si]\n",
    "            si+=1\n",
    "            ei-=1\n",
    "    return pivot_index"
   ]
  },
  {
   "cell_type": "code",
   "execution_count": 32,
   "metadata": {},
   "outputs": [],
   "source": [
    "def quick(arr,si,ei):\n",
    "    if si>ei:\n",
    "        return\n",
    "    pivot_index=partition(arr,si,ei)\n",
    "    quick(arr,si,pivot_index-1)\n",
    "    quick(arr,pivot_index+1,ei)"
   ]
  },
  {
   "cell_type": "code",
   "execution_count": 33,
   "metadata": {},
   "outputs": [
    {
     "name": "stdout",
     "output_type": "stream",
     "text": [
      "1 2 4 5 6 6\n"
     ]
    }
   ],
   "source": [
    "arr=[6,5,4,6,2,1]\n",
    "quick(arr,0,len(arr)-1)\n",
    "print(*arr)"
   ]
  },
  {
   "cell_type": "code",
   "execution_count": null,
   "metadata": {},
   "outputs": [],
   "source": []
  }
 ],
 "metadata": {
  "kernelspec": {
   "display_name": "Python 3",
   "language": "python",
   "name": "python3"
  },
  "language_info": {
   "codemirror_mode": {
    "name": "ipython",
    "version": 3
   },
   "file_extension": ".py",
   "mimetype": "text/x-python",
   "name": "python",
   "nbconvert_exporter": "python",
   "pygments_lexer": "ipython3",
   "version": "3.8.5"
  }
 },
 "nbformat": 4,
 "nbformat_minor": 4
}
