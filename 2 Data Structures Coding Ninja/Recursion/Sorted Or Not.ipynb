{
 "cells": [
  {
   "cell_type": "code",
   "execution_count": 12,
   "metadata": {},
   "outputs": [],
   "source": [
    "def issorted(li,n,si):\n",
    "    if(n==0 or n==1):\n",
    "        return True\n",
    "    if(si==n-1):\n",
    "        return True\n",
    "    if(li[si]>li[si+1]):\n",
    "        return False\n",
    "    return issorted(li,n,si+1)"
   ]
  },
  {
   "cell_type": "code",
   "execution_count": 14,
   "metadata": {},
   "outputs": [
    {
     "name": "stdout",
     "output_type": "stream",
     "text": [
      "Enter The Size Of The List : 5\n",
      "3 2 1 4 5\n",
      "False\n"
     ]
    }
   ],
   "source": [
    "n=int(input(\"Enter The Size Of The List : \"))\n",
    "li=[]\n",
    "num=(int(x) for x in input().split())\n",
    "for i in num:\n",
    "    li.append(i)\n",
    "si=0\n",
    "print(issorted(li,n,si))"
   ]
  },
  {
   "cell_type": "code",
   "execution_count": null,
   "metadata": {},
   "outputs": [],
   "source": []
  }
 ],
 "metadata": {
  "kernelspec": {
   "display_name": "Python 3",
   "language": "python",
   "name": "python3"
  },
  "language_info": {
   "codemirror_mode": {
    "name": "ipython",
    "version": 3
   },
   "file_extension": ".py",
   "mimetype": "text/x-python",
   "name": "python",
   "nbconvert_exporter": "python",
   "pygments_lexer": "ipython3",
   "version": "3.8.5"
  }
 },
 "nbformat": 4,
 "nbformat_minor": 4
}
