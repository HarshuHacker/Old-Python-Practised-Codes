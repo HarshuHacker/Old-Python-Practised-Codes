{
 "cells": [
  {
   "cell_type": "code",
   "execution_count": null,
   "metadata": {},
   "outputs": [],
   "source": [
    "def firstIndex(li,x):\n",
    "    length=len(li)\n",
    "    if(length==0):\n",
    "        return -1\n",
    "    if(li[0]==x):\n",
    "        return 0\n",
    "    ans= firstIndex(li[1:], x)\n",
    "    if(ans!=-1):\n",
    "        return ans+1\n",
    "    else:\n",
    "        return -1\n",
    "    "
   ]
  },
  {
   "cell_type": "code",
   "execution_count": 12,
   "metadata": {},
   "outputs": [
    {
     "name": "stdout",
     "output_type": "stream",
     "text": [
      "Enter The Size Of The List : 5\n",
      "1 3 5 7 9\n",
      "Enter The Element : 5\n",
      "2\n"
     ]
    }
   ],
   "source": [
    "n=int(input(\"Enter The Size Of The List : \"))\n",
    "li=[]\n",
    "num=(int(x) for x in input().split())\n",
    "for i in num:\n",
    "    li.append(i)\n",
    "x=int(input(\"Enter The Element : \"))\n",
    "print(firstIndex(li,x))"
   ]
  },
  {
   "cell_type": "code",
   "execution_count": null,
   "metadata": {},
   "outputs": [],
   "source": []
  }
 ],
 "metadata": {
  "kernelspec": {
   "display_name": "Python 3",
   "language": "python",
   "name": "python3"
  }
 },
 "nbformat": 4,
 "nbformat_minor": 4
}
