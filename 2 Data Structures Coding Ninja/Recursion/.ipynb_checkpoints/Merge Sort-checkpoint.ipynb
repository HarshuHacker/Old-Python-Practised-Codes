{
 "cells": [
  {
   "cell_type": "code",
   "execution_count": 16,
   "metadata": {},
   "outputs": [
    {
     "data": {
      "text/plain": [
       "[1, 2, 3, 4, 5, 6]"
      ]
     },
     "execution_count": 16,
     "metadata": {},
     "output_type": "execute_result"
    }
   ],
   "source": [
    "def merge(s1,s2,arr):\n",
    "    i=0\n",
    "    j=0\n",
    "    k=0\n",
    "    while(i<len(s1) and j<len(s2)):\n",
    "        if(s1[i]<=s2[j]):\n",
    "            arr[k]=s1[i]\n",
    "            i+=1\n",
    "            k+=1\n",
    "        else:\n",
    "            arr[k]=s2[j]\n",
    "            j+=1\n",
    "            k+=1\n",
    "    while(i==len(s1) and j<len(s2)):\n",
    "        arr[k]=s2[j]\n",
    "        j+=1\n",
    "        k+=1\n",
    "    while(i<len(s1) and j==len(s2)):\n",
    "        arr[k]=s1[i]\n",
    "        i+=1\n",
    "        k+=1\n",
    "\n",
    "def mergeSort(arr):\n",
    "    # Please add your code here\n",
    "    if(len(arr)==1):\n",
    "        return\n",
    "    mid=len(arr)//2\n",
    "    s1=arr[0:mid]\n",
    "    s2=arr[mid:]\n",
    "    mergeSort(s1)\n",
    "    mergeSort(s2)\n",
    "    merge(s1,s2,arr)\n",
    "    \n",
    "arr=[6,5,4,3,2,1]\n",
    "mergeSort(arr)\n",
    "arr\n"
   ]
  },
  {
   "cell_type": "code",
   "execution_count": null,
   "metadata": {},
   "outputs": [],
   "source": []
  }
 ],
 "metadata": {
  "kernelspec": {
   "display_name": "Python 3",
   "language": "python",
   "name": "python3"
  },
  "language_info": {
   "codemirror_mode": {
    "name": "ipython",
    "version": 3
   },
   "file_extension": ".py",
   "mimetype": "text/x-python",
   "name": "python",
   "nbconvert_exporter": "python",
   "pygments_lexer": "ipython3",
   "version": "3.8.5"
  }
 },
 "nbformat": 4,
 "nbformat_minor": 4
}
