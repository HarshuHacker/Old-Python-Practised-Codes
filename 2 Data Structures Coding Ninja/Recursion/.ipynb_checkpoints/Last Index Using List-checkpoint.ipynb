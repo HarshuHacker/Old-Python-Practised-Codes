{
 "cells": [
  {
   "cell_type": "code",
   "execution_count": 18,
   "metadata": {},
   "outputs": [],
   "source": [
    "def lastindex(li,x):\n",
    "    if(len(li)==0):\n",
    "        return -1\n",
    "    if(li[0]==x):\n",
    "        ans=lastindex(li[1:],x)\n",
    "        if(ans==-1):\n",
    "            return 0\n",
    "        else:\n",
    "            return ans+1\n",
    "    ans=lastindex(li[1:],x)\n",
    "    if ans==-1:\n",
    "        return -1\n",
    "    else:\n",
    "        return ans+1"
   ]
  },
  {
   "cell_type": "code",
   "execution_count": 19,
   "metadata": {},
   "outputs": [
    {
     "name": "stdout",
     "output_type": "stream",
     "text": [
      "Enter The Size Of The List : 9\n",
      "1 2 3 4 7 6 7 8 9\n",
      "Enter The Element To Be Searched : 7\n"
     ]
    },
    {
     "data": {
      "text/plain": [
       "6"
      ]
     },
     "execution_count": 19,
     "metadata": {},
     "output_type": "execute_result"
    }
   ],
   "source": [
    "n=int(input(\"Enter The Size Of The List : \"))\n",
    "li=[]\n",
    "num=(int(x) for x in input().split())\n",
    "for i in num:\n",
    "    li.append(i)\n",
    "x=int(input(\"Enter The Element To Be Searched : \"))\n",
    "lastindex(li,x)"
   ]
  },
  {
   "cell_type": "code",
   "execution_count": null,
   "metadata": {},
   "outputs": [],
   "source": []
  },
  {
   "cell_type": "code",
   "execution_count": null,
   "metadata": {},
   "outputs": [],
   "source": []
  }
 ],
 "metadata": {
  "kernelspec": {
   "display_name": "Python 3",
   "language": "python",
   "name": "python3"
  },
  "language_info": {
   "codemirror_mode": {
    "name": "ipython",
    "version": 3
   },
   "file_extension": ".py",
   "mimetype": "text/x-python",
   "name": "python",
   "nbconvert_exporter": "python",
   "pygments_lexer": "ipython3",
   "version": "3.8.5"
  }
 },
 "nbformat": 4,
 "nbformat_minor": 4
}
