{
 "cells": [
  {
   "cell_type": "code",
   "execution_count": 14,
   "metadata": {},
   "outputs": [],
   "source": [
    "def replaceab(s,a,b):\n",
    "    if(len(s)==0):\n",
    "        return s\n",
    "    rhs=replaceab(s[1:],a,b)\n",
    "    if(s[0]==a):\n",
    "        return b+rhs\n",
    "    else:\n",
    "        return s[0]+rhs\n",
    "    "
   ]
  },
  {
   "cell_type": "code",
   "execution_count": 15,
   "metadata": {},
   "outputs": [
    {
     "name": "stdout",
     "output_type": "stream",
     "text": [
      "Enter The String : Harsh Prasad Is Indian\n",
      "Enter The Character To Be Replaced : a\n",
      "Enter The Replacing Character : q\n",
      "Hqrsh Prqsqd Is Indiqn\n"
     ]
    }
   ],
   "source": [
    "string=input(\"Enter The String : \")\n",
    "a=input(\"Enter The Character To Be Replaced : \")\n",
    "b=input(\"Enter The Replacing Character : \")\n",
    "print(replaceab(string,a,b))"
   ]
  },
  {
   "cell_type": "code",
   "execution_count": null,
   "metadata": {},
   "outputs": [],
   "source": []
  }
 ],
 "metadata": {
  "kernelspec": {
   "display_name": "Python 3",
   "language": "python",
   "name": "python3"
  },
  "language_info": {
   "codemirror_mode": {
    "name": "ipython",
    "version": 3
   },
   "file_extension": ".py",
   "mimetype": "text/x-python",
   "name": "python",
   "nbconvert_exporter": "python",
   "pygments_lexer": "ipython3",
   "version": "3.8.5"
  }
 },
 "nbformat": 4,
 "nbformat_minor": 4
}
