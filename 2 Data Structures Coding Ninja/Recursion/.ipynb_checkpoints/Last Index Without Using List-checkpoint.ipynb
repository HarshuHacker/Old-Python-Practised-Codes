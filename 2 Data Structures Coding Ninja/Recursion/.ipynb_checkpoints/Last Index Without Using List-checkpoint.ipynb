{
 "cells": [
  {
   "cell_type": "code",
   "execution_count": 1,
   "metadata": {},
   "outputs": [],
   "source": [
    "def lastindex(li,x,n,si):\n",
    "    if(si==n):\n",
    "        return -1\n",
    "    if(li[si]==x):\n",
    "        ans=lastindex(li,x,n,si+1)\n",
    "        if(ans==-1):\n",
    "            return 0\n",
    "        else:\n",
    "            return ans+1\n",
    "    ans=lastindex(li,x,n,si+1)\n",
    "    if(ans==-1):\n",
    "        return -1\n",
    "    else:\n",
    "        return ans+1"
   ]
  },
  {
   "cell_type": "code",
   "execution_count": 2,
   "metadata": {},
   "outputs": [
    {
     "name": "stdout",
     "output_type": "stream",
     "text": [
      "Hello\n"
     ]
    }
   ],
   "source": [
    "n=int(input(\"Enter The Size Of The List : \"))\n",
    "li=[]\n",
    "num=(int(x) for x in input().split())\n",
    "for i in num:\n",
    "    li.append(i)\n",
    "x=int(input(\"Enter The Element To Be Searched : \"))\n",
    "lastindex(li,x,n,si=0)"
   ]
  },
  {
   "cell_type": "code",
   "execution_count": null,
   "metadata": {},
   "outputs": [],
   "source": []
  }
 ],
 "metadata": {
  "kernelspec": {
   "display_name": "Python 3",
   "language": "python",
   "name": "python3"
  },
  "language_info": {
   "codemirror_mode": {
    "name": "ipython",
    "version": 3
   },
   "file_extension": ".py",
   "mimetype": "text/x-python",
   "name": "python",
   "nbconvert_exporter": "python",
   "pygments_lexer": "ipython3",
   "version": "3.8.5"
  }
 },
 "nbformat": 4,
 "nbformat_minor": 4
}
