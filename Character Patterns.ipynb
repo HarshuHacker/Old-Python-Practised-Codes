{
 "cells": [
  {
   "cell_type": "markdown",
   "metadata": {},
   "source": [
    "ABCD\n",
    "ABCD\n",
    "ABCD\n",
    "ABCD"
   ]
  },
  {
   "cell_type": "code",
   "execution_count": 9,
   "metadata": {},
   "outputs": [
    {
     "name": "stdout",
     "output_type": "stream",
     "text": [
      "4\n",
      "ABCD\n",
      "BCDE\n",
      "CDEF\n",
      "DEFG\n"
     ]
    }
   ],
   "source": [
    "n=int(input())\n",
    "i=ord('A')\n",
    "while(i<ord('A')+n):\n",
    "    j=1\n",
    "    k=i\n",
    "    while(j<=n):\n",
    "        print(chr(k),end='')\n",
    "        j=j+1\n",
    "        k=k+1\n",
    "    i=i+1\n",
    "    print()"
   ]
  },
  {
   "cell_type": "markdown",
   "metadata": {},
   "source": [
    "*******************************************************************************************************"
   ]
  },
  {
   "cell_type": "code",
   "execution_count": 14,
   "metadata": {},
   "outputs": [
    {
     "name": "stdout",
     "output_type": "stream",
     "text": [
      "4\n",
      "DCBA\n",
      "CBA@\n",
      "BA@?\n",
      "A@?>\n"
     ]
    }
   ],
   "source": [
    "n=int(input())\n",
    "i=ord('A')+n-1\n",
    "while(i>=ord('A')):\n",
    "    j=1\n",
    "    k=i\n",
    "    while(j<=n):\n",
    "        print(,end='')\n",
    "        j=\n",
    "        k=\n",
    "    i=m \n",
    "    print()"
   ]
  },
  {
   "cell_type": "code",
   "execution_count": null,
   "metadata": {},
   "outputs": [],
   "source": []
  }
 ],
 "metadata": {
  "kernelspec": {
   "display_name": "Python 3",
   "language": "python",
   "name": "python3"
  },
  "language_info": {
   "codemirror_mode": {
    "name": "ipython",
    "version": 3
   },
   "file_extension": ".py",
   "mimetype": "text/x-python",
   "name": "python",
   "nbconvert_exporter": "python",
   "pygments_lexer": "ipython3",
   "version": "3.8.5"
  }
 },
 "nbformat": 4,
 "nbformat_minor": 4
}
