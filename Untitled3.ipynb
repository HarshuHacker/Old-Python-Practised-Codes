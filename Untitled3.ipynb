{
 "cells": [
  {
   "cell_type": "code",
   "execution_count": 7,
   "metadata": {},
   "outputs": [
    {
     "name": "stdout",
     "output_type": "stream",
     "text": [
      "5\n",
      "[4, 73, 63, 23, 65]\n"
     ]
    }
   ],
   "source": [
    "inputArr=[73,4,63,23,65]\n",
    "arr=[]\n",
    "print(len(inputArr))\n",
    "for i in range(0,len(inputArr),1):\n",
    "    if(inputArr[i]%2==0):\n",
    "        arr.append(inputArr[i])\n",
    "        inputArr[i]=-1\n",
    "for i in range(0,len(inputArr),1):\n",
    "    if(inputArr[i]!=-1):\n",
    "        arr.append(inputArr[i])\n",
    "inputArr=arr\n",
    "print(arr)"
   ]
  },
  {
   "cell_type": "code",
   "execution_count": 2,
   "metadata": {},
   "outputs": [
    {
     "data": {
      "text/plain": [
       "1"
      ]
     },
     "execution_count": 2,
     "metadata": {},
     "output_type": "execute_result"
    }
   ],
   "source": [
    "3//2"
   ]
  }
 ],
 "metadata": {
  "kernelspec": {
   "display_name": "Python 3",
   "language": "python",
   "name": "python3"
  },
  "language_info": {
   "codemirror_mode": {
    "name": "ipython",
    "version": 3
   },
   "file_extension": ".py",
   "mimetype": "text/x-python",
   "name": "python",
   "nbconvert_exporter": "python",
   "pygments_lexer": "ipython3",
   "version": "3.8.5"
  }
 },
 "nbformat": 4,
 "nbformat_minor": 4
}
