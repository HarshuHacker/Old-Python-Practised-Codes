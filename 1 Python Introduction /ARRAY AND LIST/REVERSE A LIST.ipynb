{
 "cells": [
  {
   "cell_type": "code",
   "execution_count": 8,
   "metadata": {},
   "outputs": [
    {
     "name": "stdout",
     "output_type": "stream",
     "text": [
      "[2, 1, 4, 3, 6, 5]\n"
     ]
    }
   ],
   "source": [
    "def swapAlternate(arr, n) :\n",
    "    #Your code goes here\n",
    "    n=(n//2)*2\n",
    "    for i in range(0,n,2):\n",
    "        for j in range(i,i+1,1):\n",
    "            temp=arr[i]\n",
    "            arr[i]=arr[i+1]\n",
    "            arr[i+1]=temp\n",
    "n=6\n",
    "arr=[1,2,3,4,5,6]\n",
    "swapAlternate(arr, n)\n",
    "print(arr)"
   ]
  },
  {
   "cell_type": "code",
   "execution_count": null,
   "metadata": {},
   "outputs": [],
   "source": []
  }
 ],
 "metadata": {
  "kernelspec": {
   "display_name": "Python 3",
   "language": "python",
   "name": "python3"
  },
  "language_info": {
   "codemirror_mode": {
    "name": "ipython",
    "version": 3
   },
   "file_extension": ".py",
   "mimetype": "text/x-python",
   "name": "python",
   "nbconvert_exporter": "python",
   "pygments_lexer": "ipython3",
   "version": "3.8.5"
  }
 },
 "nbformat": 4,
 "nbformat_minor": 4
}
