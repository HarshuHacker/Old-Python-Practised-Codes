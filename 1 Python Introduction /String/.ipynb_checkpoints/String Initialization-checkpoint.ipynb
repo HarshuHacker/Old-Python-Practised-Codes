{
 "cells": [
  {
   "cell_type": "code",
   "execution_count": 10,
   "metadata": {},
   "outputs": [
    {
     "name": "stdout",
     "output_type": "stream",
     "text": [
      "My Name Is Harsh\n",
      "My Name Is Harsh\n",
      "My \n",
      "Name\n",
      "Is\n",
      "Harsh\n",
      "\n"
     ]
    },
    {
     "data": {
      "text/plain": [
       "'My \\nName\\nIs\\nHarsh\\n'"
      ]
     },
     "execution_count": 10,
     "metadata": {},
     "output_type": "execute_result"
    }
   ],
   "source": [
    "str1=\"My Name Is Harsh\"\n",
    "str2='My Name Is Harsh'\n",
    "str3='''My \n",
    "Name\n",
    "Is\n",
    "Harsh\n",
    "'''\n",
    "print(str1)\n",
    "print(str2)\n",
    "print(str3)\n",
    "str3"
   ]
  },
  {
   "cell_type": "code",
   "execution_count": null,
   "metadata": {},
   "outputs": [],
   "source": []
  }
 ],
 "metadata": {
  "kernelspec": {
   "display_name": "Python 3",
   "language": "python",
   "name": "python3"
  },
  "language_info": {
   "codemirror_mode": {
    "name": "ipython",
    "version": 3
   },
   "file_extension": ".py",
   "mimetype": "text/x-python",
   "name": "python",
   "nbconvert_exporter": "python",
   "pygments_lexer": "ipython3",
   "version": "3.8.5"
  }
 },
 "nbformat": 4,
 "nbformat_minor": 4
}
