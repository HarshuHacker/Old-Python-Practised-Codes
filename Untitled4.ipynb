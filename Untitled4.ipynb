{
 "cells": [
  {
   "cell_type": "code",
   "execution_count": 7,
   "metadata": {
    "scrolled": true
   },
   "outputs": [
    {
     "name": "stdout",
     "output_type": "stream",
     "text": [
      "1.8132470159104392\n"
     ]
    }
   ],
   "source": [
    "from math import *\n",
    "def areaOfIntersection(centerX1, centerY1, radius1, centerX2, centerY2, radius2):\n",
    "# Write your code here\n",
    "\td=math.sqrt((centerX2-centerX1)*(centerX2-centerX1)+(centerY2-centerY1)*(centerY2-centerY1))\n",
    "\tif(radius2<radius1):\n",
    "\t    radius2,radius1=radius1,radius2\n",
    "\ta=radius2*radius2*math.acos((d*d + radius2*radius2 - radius1*radius1)/(2*d*radius2))\n",
    "\tb=radius1*radius1*math.acos((d*d +radius1*radius1-radius2*radius2)/(2*d*radius1))\n",
    "\tc=0.5*math.sqrt((-d+radius2+radius1)*(d+radius2-radius1)*(d-radius2+radius1)*(d+radius2+radius1))\n",
    "\treturn a+b-c\n",
    "\n",
    "print(areaOfIntersection(0,0,2,3,0,2))\n",
    "    "
   ]
  },
  {
   "cell_type": "code",
   "execution_count": 2,
   "metadata": {},
   "outputs": [
    {
     "name": "stdout",
     "output_type": "stream",
     "text": [
      "(6, 2)\n",
      "<class 'tuple'>\n"
     ]
    }
   ],
   "source": [
    "def add(a,b):\n",
    "    sum=a+b\n",
    "    diff=a-b\n",
    "    return sum,diff\n",
    "print(add(4,2))\n",
    "print(type(add(4,2)))"
   ]
  }
 ],
 "metadata": {
  "kernelspec": {
   "display_name": "Python 3",
   "language": "python",
   "name": "python3"
  },
  "language_info": {
   "codemirror_mode": {
    "name": "ipython",
    "version": 3
   },
   "file_extension": ".py",
   "mimetype": "text/x-python",
   "name": "python",
   "nbconvert_exporter": "python",
   "pygments_lexer": "ipython3",
   "version": "3.8.5"
  }
 },
 "nbformat": 4,
 "nbformat_minor": 4
}
