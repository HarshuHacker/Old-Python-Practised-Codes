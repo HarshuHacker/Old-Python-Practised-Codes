{
 "cells": [
  {
   "cell_type": "code",
   "execution_count": 3,
   "metadata": {},
   "outputs": [
    {
     "name": "stdout",
     "output_type": "stream",
     "text": [
      "-100\n",
      "true\n"
     ]
    }
   ],
   "source": [
    "def checkPalindrome(num):\n",
    "    ans=0\n",
    "    num2=num\n",
    "    while(num2>0):\n",
    "        rem=num2%10\n",
    "        num2=num2//10\n",
    "        ans=ans*10+rem\n",
    "    if(num2==num):\n",
    "        return 1\n",
    "    else:\n",
    "        return -1\n",
    "\t\t\n",
    "num = int(input())\n",
    "if(num<0):\n",
    "    num=num*-1\n",
    "isPalindrome = checkPalindrome(num)\n",
    "if(isPalindrome):\n",
    "    print('true')\n",
    "else:\n",
    "    print('false')\n",
    "\n"
   ]
  },
  {
   "cell_type": "code",
   "execution_count": null,
   "metadata": {},
   "outputs": [
    {
     "name": "stdout",
     "output_type": "stream",
     "text": [
      "50\n"
     ]
    }
   ],
   "source": [
    "def checkMember(n):\n",
    "    if(n==0 or n==1):\n",
    "        return 1\n",
    "    else:\n",
    "        return checkMember(n-1)+checkMember(n-2)\n",
    "n=int(input())\n",
    "if(n<0):\n",
    "    print('false')\n",
    "else:\n",
    "    if(checkMember(n)):\n",
    "        print(\"true\")\n",
    "    else:\n",
    "        print(\"false\")\n",
    "\n"
   ]
  },
  {
   "cell_type": "code",
   "execution_count": 17,
   "metadata": {},
   "outputs": [
    {
     "name": "stdout",
     "output_type": "stream",
     "text": [
      "2\n",
      "4.0 <class 'float'>\n",
      "false\n"
     ]
    }
   ],
   "source": [
    "def checkMember(n,a,b):\n",
    "    if(type(a)==int or type(b)==int):\n",
    "        return 1\n",
    "    else:\n",
    "        return 0\n",
    "n=int(input())\n",
    "if(n<0):\n",
    "    print('false')\n",
    "else:\n",
    "    a=((5 * n * n) + 4)**0.5\n",
    "    b=((5 * n * n) - 4)**0.5\n",
    "    print(b,type(b))\n",
    "    if(checkMember(n,a,b)):\n",
    "        print(\"true\")\n",
    "    else:\n",
    "        print(\"false\")"
   ]
  },
  {
   "cell_type": "code",
   "execution_count": 2,
   "metadata": {},
   "outputs": [
    {
     "name": "stdout",
     "output_type": "stream",
     "text": [
      "[1, 2, 3]\n",
      "[1, 2, 3, 4]\n"
     ]
    }
   ],
   "source": [
    "a=[1,2,3]\n",
    "print(a)\n",
    "a.append(4)\n",
    "b=a\n",
    "print(b)"
   ]
  },
  {
   "cell_type": "code",
   "execution_count": 18,
   "metadata": {},
   "outputs": [
    {
     "name": "stdout",
     "output_type": "stream",
     "text": [
      "Enter The Size Of The List : 5\n",
      "Enter The Element At  0  Index : 1\n",
      "Enter The Element At  1  Index : 2\n",
      "Enter The Element At  2  Index : 3\n",
      "Enter The Element At  3  Index : 4\n",
      "Enter The Element At  4  Index : 5\n",
      "[1, 2, 3, 4, 5]\n"
     ]
    }
   ],
   "source": [
    "arr=[]\n",
    "siz=int(input(\"Enter The Size Of The List : \"))\n",
    "for i in range(siz):\n",
    "    print(\"Enter The Element At \",i,\" Index : \",end='')\n",
    "    num=int(input())\n",
    "    arr.append(num)\n",
    "print(arr)"
   ]
  },
  {
   "cell_type": "code",
   "execution_count": 19,
   "metadata": {},
   "outputs": [
    {
     "ename": "SyntaxError",
     "evalue": "invalid syntax (<ipython-input-19-b9a5f34ee0a4>, line 4)",
     "output_type": "error",
     "traceback": [
      "\u001b[0;36m  File \u001b[0;32m\"<ipython-input-19-b9a5f34ee0a4>\"\u001b[0;36m, line \u001b[0;32m4\u001b[0m\n\u001b[0;31m    num=int(input(\"Enter The Element at \"i \" Index : \"))\u001b[0m\n\u001b[0m                                         ^\u001b[0m\n\u001b[0;31mSyntaxError\u001b[0m\u001b[0;31m:\u001b[0m invalid syntax\n"
     ]
    }
   ],
   "source": [
    "arr=[]\n",
    "siz=int(input(\"Enter The Size Of The List : \"))\n",
    "for i in range(siz):\n",
    "    num=int(input(\"Enter The Element at \"i \" Index : \"))\n",
    "    arr.append(num)\n",
    "print(arr)"
   ]
  },
  {
   "cell_type": "code",
   "execution_count": 2,
   "metadata": {},
   "outputs": [
    {
     "name": "stdout",
     "output_type": "stream",
     "text": [
      "Hello Harsh\n"
     ]
    }
   ],
   "source": [
    "print(\"Hello\",end=\" \")\n",
    "print(\"Harsh\")"
   ]
  },
  {
   "cell_type": "code",
   "execution_count": 2,
   "metadata": {},
   "outputs": [],
   "source": [
    "## Read input as specified in the question.\n",
    "## Print output as specified in the question.\n",
    "\n",
    "def findMaxSquareWithAllZeros(arr):\n",
    "    row = len(arr)\n",
    "    col = len(arr[0])\n",
    "\n",
    "    storage = [[0 for i in range(col)] for j in range(row)]\n",
    "\n",
    "    for i in range(row-1,-1,-1):\n",
    "        for j in range(col-1,-1,-1):\n",
    "            storage[i][j] = min(storage[i+1][j], storage[i][j+1])\n",
    "            maximum = storage[i][j]\n",
    "\n",
    "            if max(row-i, col-j)<=maximum:\n",
    "                continue\n",
    "\n",
    "            foundOne = True\n",
    "\n",
    "            for p in range(0, maximum+1):\n",
    "                for q in range(0, maximum+1):\n",
    "                    if arr[i+p][j+q]==1:\n",
    "                        foundOne = True\n",
    "                        break\n",
    "                if foundOne:\n",
    "                    break\n",
    "\n",
    "            if foundOne==False:\n",
    "                storage[i][j] += 1\n",
    "\n",
    "    return storage[i][j]\n",
    "\n"
   ]
  },
  {
   "cell_type": "code",
   "execution_count": 44,
   "metadata": {},
   "outputs": [
    {
     "data": {
      "text/plain": [
       "0"
      ]
     },
     "execution_count": 44,
     "metadata": {},
     "output_type": "execute_result"
    }
   ],
   "source": [
    "def findMaxSquareWithAllZeros(arr):\n",
    "    row = len(arr)\n",
    "    col = len(arr[0])\n",
    "\n",
    "    storage = [[0 for i in range(col+1)] for j in range(row+1)]\n",
    "\n",
    "    for i in range(row-1,-1,-1):\n",
    "        for j in range(col-1,-1,-1):\n",
    "            storage[i][j] = min(storage[i+1][j], storage[i][j+1])\n",
    "            maximum = storage[i][j]\n",
    "\n",
    "            if max(row-i, col-j)<=maximum:\n",
    "                continue\n",
    "\n",
    "            foundOne = True\n",
    "\n",
    "            for p in range(0, maximum+1):\n",
    "                for q in range(0, maximum+1):\n",
    "                    if arr[i+p][j+q]==1:\n",
    "                        foundOne = True\n",
    "                        break\n",
    "                if foundOne:\n",
    "                    break\n",
    "\n",
    "            if foundOne==False:\n",
    "                storage[i][j] += 1\n",
    "\n",
    "    return storage[i][j]\n",
    "\n",
    "\n",
    "    return storage[i][j]\n",
    "arr=[[1,1,0],[1,0,0],[0,1,1]]\n",
    "findMaxSquareWithAllZeros(arr)"
   ]
  },
  {
   "cell_type": "code",
   "execution_count": 5,
   "metadata": {},
   "outputs": [
    {
     "name": "stdout",
     "output_type": "stream",
     "text": [
      "850 435 420 400 "
     ]
    }
   ],
   "source": [
    "def printladder(arr,n):\n",
    "  for i in range(0,n):\n",
    "    for j in range(i+1,n):\n",
    "      if(arr[i]<arr[j]):\n",
    "        break\n",
    "    if(j==n-1):\n",
    "      print(arr[i],end=\" \")\n",
    "n=6\n",
    "arr=[600,500,850,435,420,400]\n",
    "printladder(arr,n)"
   ]
  }
 ],
 "metadata": {
  "interpreter": {
   "hash": "aee8b7b246df8f9039afb4144a1f6fd8d2ca17a180786b69acc140d282b71a49"
  },
  "kernelspec": {
   "display_name": "Python 3.10.0 64-bit",
   "name": "python3"
  },
  "language_info": {
   "codemirror_mode": {
    "name": "ipython",
    "version": 3
   },
   "file_extension": ".py",
   "mimetype": "text/x-python",
   "name": "python",
   "nbconvert_exporter": "python",
   "pygments_lexer": "ipython3",
   "version": "3.10.0"
  }
 },
 "nbformat": 4,
 "nbformat_minor": 4
}
